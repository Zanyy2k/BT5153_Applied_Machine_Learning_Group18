{
  "nbformat": 4,
  "nbformat_minor": 0,
  "metadata": {
    "orig_nbformat": 2,
    "file_extension": ".py",
    "mimetype": "text/x-python",
    "name": "python",
    "npconvert_exporter": "python",
    "pygments_lexer": "ipython3",
    "version": 3,
    "colab": {
      "name": "Model_Classic_Models.ipynb",
      "provenance": [],
      "collapsed_sections": []
    },
    "kernelspec": {
      "name": "python3",
      "display_name": "Python 3"
    }
  },
  "cells": [
    {
      "cell_type": "code",
      "metadata": {
        "id": "NKUnteN9dwQj",
        "colab_type": "code",
        "outputId": "394089fe-31f4-461a-d9eb-9696705fc297",
        "colab": {
          "base_uri": "https://localhost:8080/",
          "height": 122
        }
      },
      "source": [
        "'''\n",
        "from google.colab import drive\n",
        "drive.mount('/content/drive')\n",
        "'''"
      ],
      "execution_count": 0,
      "outputs": [
        {
          "output_type": "stream",
          "text": [
            "Go to this URL in a browser: https://accounts.google.com/o/oauth2/auth?client_id=947318989803-6bn6qk8qdgf4n4g3pfee6491hc0brc4i.apps.googleusercontent.com&redirect_uri=urn%3aietf%3awg%3aoauth%3a2.0%3aoob&response_type=code&scope=email%20https%3a%2f%2fwww.googleapis.com%2fauth%2fdocs.test%20https%3a%2f%2fwww.googleapis.com%2fauth%2fdrive%20https%3a%2f%2fwww.googleapis.com%2fauth%2fdrive.photos.readonly%20https%3a%2f%2fwww.googleapis.com%2fauth%2fpeopleapi.readonly\n",
            "\n",
            "Enter your authorization code:\n",
            "··········\n",
            "Mounted at /content/drive\n"
          ],
          "name": "stdout"
        }
      ]
    },
    {
      "cell_type": "code",
      "metadata": {
        "id": "12Q67Gz9eFeD",
        "colab_type": "code",
        "colab": {}
      },
      "source": [
        "import pandas as pd\n",
        "import numpy as np\n",
        "import re, string\n",
        "import copy\n",
        "from sklearn.linear_model import LogisticRegression\n",
        "from sklearn.feature_extraction.text import CountVectorizer, TfidfVectorizer\n",
        "from sklearn.preprocessing import StandardScaler\n",
        "# disable warnings\n",
        "def warn(*args, **kwargs):\n",
        "  pass\n",
        "import warnings\n",
        "warnings.warn = warn\n",
        "from sklearn.metrics import roc_auc_score\n",
        "from scipy.sparse import hstack\n",
        "from sklearn.preprocessing import MinMaxScaler\n",
        "from sklearn.multiclass import OneVsRestClassifier\n",
        "from scipy.sparse import hstack\n"
      ],
      "execution_count": 0,
      "outputs": []
    },
    {
      "cell_type": "code",
      "metadata": {
        "id": "FCW5gqSpd7CJ",
        "colab_type": "code",
        "colab": {}
      },
      "source": [
        "# read preprocessed data\n",
        "train = pd.read_csv(\"train_train_final_processed.csv\")\n",
        "val = pd.read_csv(\"train_val_final_processed.csv\")\n",
        "train['comment_text'] = train['comment_text'].apply(lambda x: x if isinstance(x, str) else \"something\")\n",
        "val['comment_text'] = val['comment_text'].apply(lambda x: x if isinstance(x, str) else \"something\")"
      ],
      "execution_count": 0,
      "outputs": []
    },
    {
      "cell_type": "code",
      "metadata": {
        "id": "SgFdHoo6x2cC",
        "colab_type": "code",
        "colab": {}
      },
      "source": [
        "# read original data\n",
        "train_orig = pd.read_csv(\"train_train_final.csv\")\n",
        "val_orig = pd.read_csv(\"train_val_final.csv\")"
      ],
      "execution_count": 0,
      "outputs": []
    },
    {
      "cell_type": "code",
      "metadata": {
        "id": "6fRRbphseBPo",
        "colab_type": "code",
        "colab": {}
      },
      "source": [
        "# read feature engineered data\n",
        "df_train_fe = pd.read_csv(\"train_train_final_fe.csv\")\n",
        "df_val_fe = pd.read_csv(\"train_val_final_fe.csv\")"
      ],
      "execution_count": 0,
      "outputs": []
    },
    {
      "cell_type": "code",
      "metadata": {
        "id": "BGOqx4wOeSmX",
        "colab_type": "code",
        "outputId": "287e0ac6-dc03-453c-a7d6-40af75f92227",
        "colab": {
          "base_uri": "https://localhost:8080/",
          "height": 51
        }
      },
      "source": [
        "X_train = train.comment_text\n",
        "X_val = val.comment_text\n",
        "print('x_train : ', X_train.shape, type(X_train))\n",
        "print('x_val : ', X_val.shape, type(X_val))"
      ],
      "execution_count": 0,
      "outputs": [
        {
          "output_type": "stream",
          "text": [
            "x_train :  (143614,) <class 'pandas.core.series.Series'>\n",
            "x_val :  (15957,) <class 'pandas.core.series.Series'>\n"
          ],
          "name": "stdout"
        }
      ]
    },
    {
      "cell_type": "code",
      "metadata": {
        "id": "NYlP3jFaulub",
        "colab_type": "code",
        "colab": {}
      },
      "source": [
        "categories = ['toxic', 'severe_toxic', 'obscene', 'threat', 'insult', 'identity_hate']"
      ],
      "execution_count": 0,
      "outputs": []
    },
    {
      "cell_type": "code",
      "metadata": {
        "id": "4OkuyZF1vcRC",
        "colab_type": "code",
        "colab": {}
      },
      "source": [
        "fe_list = ['afinn_min', 'sentiment', 'personal_pronoun_per_word', 'syllable_std', 'SMOG',\n",
        "           'num_big_words', 'capital_per_char',\n",
        "           'big_words_per_word', 'num_preposition', 'syllable_max',\n",
        "           'lowercase_per_char', 'GFI', 'sentence_std', 'FRE',\n",
        "           'has_you_then_verb', 'num_words_upper',\n",
        "           'num_words_title']"
      ],
      "execution_count": 0,
      "outputs": []
    },
    {
      "cell_type": "code",
      "metadata": {
        "id": "GKoIP3vIusMr",
        "colab_type": "code",
        "colab": {}
      },
      "source": [
        "new_fe_list = ['num_big_words', 'SMOG', 'GFI', 'num_words_title']"
      ],
      "execution_count": 0,
      "outputs": []
    },
    {
      "cell_type": "code",
      "metadata": {
        "id": "V-2kCV2WvyVA",
        "colab_type": "code",
        "colab": {}
      },
      "source": [
        "# add features\n",
        "df_train_fe = df_train_fe[new_fe_list]\n",
        "df_val_fe = df_val_fe[new_fe_list]"
      ],
      "execution_count": 0,
      "outputs": []
    },
    {
      "cell_type": "code",
      "metadata": {
        "id": "tPjq8UKBv0mq",
        "colab_type": "code",
        "colab": {}
      },
      "source": [
        "def add_features(df):\n",
        "    \n",
        "    df = copy.deepcopy(df)\n",
        "    df['comment_text'] = df['comment_text'].apply(lambda x:str(x))\n",
        "    df['total_length'] = df['comment_text'].apply(len)\n",
        "    df['capitals'] = df['comment_text'].apply(lambda comment: sum(1 for c in comment if c.isupper()))\n",
        "    df['caps_vs_length'] = df.apply(lambda row: float(row['capitals'])/float(row['total_length']),\n",
        "                                axis=1)\n",
        "    df['num_words'] = df.comment_text.str.count('\\S+')\n",
        "    df['num_unique_words'] = df['comment_text'].apply(lambda comment: len(set(w for w in comment.split())))\n",
        "    df['words_vs_unique'] = df['num_unique_words'] / df['num_words']\n",
        "\n",
        "    selected_fe = df[['caps_vs_length', 'words_vs_unique']].fillna(0)\n",
        "    return selected_fe"
      ],
      "execution_count": 0,
      "outputs": []
    },
    {
      "cell_type": "code",
      "metadata": {
        "id": "9-T4mXK6xls0",
        "colab_type": "code",
        "colab": {}
      },
      "source": [
        "# df_train_fe = add_features(train_orig)\n",
        "# df_val_fe = add_features(val_orig)"
      ],
      "execution_count": 0,
      "outputs": []
    },
    {
      "cell_type": "code",
      "metadata": {
        "id": "ZzZ8kWVoxj5p",
        "colab_type": "code",
        "colab": {}
      },
      "source": [
        "# perform minmax scaler on added features\n",
        "mm = MinMaxScaler()\n",
        "mm.fit(df_train_fe)\n",
        "df_train_fe = mm.transform(df_train_fe)\n",
        "df_val_fe = mm.transform(df_val_fe)"
      ],
      "execution_count": 0,
      "outputs": []
    },
    {
      "cell_type": "code",
      "metadata": {
        "id": "L-V7t3W1a2Ta",
        "colab_type": "code",
        "colab": {}
      },
      "source": [
        "# Tokenize the text with tfidf_vectorizer \n",
        "count_vect = TfidfVectorizer()\n",
        "count_vect.fit(X_train)\n",
        "\n",
        "# transform the training, validation data using count vectorizer object\n",
        "xtrain_count =  count_vect.transform(X_train)\n",
        "xval_count =  count_vect.transform(X_val)"
      ],
      "execution_count": 0,
      "outputs": []
    },
    {
      "cell_type": "code",
      "metadata": {
        "id": "NICOnliSC6WA",
        "colab_type": "code",
        "colab": {}
      },
      "source": [
        "'''\n",
        "# this vectorization is specific for improved logistic regression\n",
        "import re\n",
        "re_tok = re.compile(f'([{string.punctuation}“”¨«»®´·º½¾¿¡§£₤‘’])')\n",
        "def tokenize(s): \n",
        "  return re_tok.sub(r' \\1 ', s).split()\n",
        "vec = TfidfVectorizer(ngram_range=(1,2), tokenizer=tokenize,\n",
        "                      min_df=3, max_df=0.9, strip_accents='unicode', use_idf=1,\n",
        "                      smooth_idf=1, sublinear_tf=1 )\n",
        "\n",
        "xtrain_count = vec.fit_transform(X_train)\n",
        "xval_count = vec.transform(X_val)\n",
        "'''"
      ],
      "execution_count": 0,
      "outputs": []
    },
    {
      "cell_type": "markdown",
      "metadata": {
        "id": "aWAGJqM5a2Td",
        "colab_type": "text"
      },
      "source": [
        "### OneVsRestClassifier \n",
        "    - LogisticRegression\n",
        "    - MultinomialNB\n",
        "    - LGBMClassifier\n",
        "    - Decision Tree"
      ]
    },
    {
      "cell_type": "markdown",
      "metadata": {
        "id": "OheC6nMpva5T",
        "colab_type": "text"
      },
      "source": [
        "### Logistic Regression"
      ]
    },
    {
      "cell_type": "code",
      "metadata": {
        "id": "cr9dViMwa2Te",
        "colab_type": "code",
        "outputId": "98dfbcfb-1d3c-48fc-fd0f-ce0eafc2c0b8",
        "colab": {
          "base_uri": "https://localhost:8080/",
          "height": 136
        }
      },
      "source": [
        "clf_logreg = OneVsRestClassifier(LogisticRegression(solver='sag', C=4), n_jobs=1)\n",
        "result=[]\n",
        "\n",
        "for category in categories:\n",
        "    print('... Processing {}'.format(category))\n",
        "\n",
        "    pkl_filename = 'logreg_'+category+'_model.pkl'\n",
        "    # get r\n",
        "    #r = csr_matrix(np.log(pr(xtrain_count, 1, train[category].values) / pr(xtrain_count, 0, train[category].values)))\n",
        "\n",
        "    # train the model using X_dtm & y\n",
        "    clf_logreg.fit(hstack([xtrain_count,df_train_fe]), train[category])\n",
        "    pickle.dump(clf_logreg, open(pkl_filename, \"wb\"))\n",
        "\n",
        "    # compute the testing accuracy\n",
        "    logreg_pred = clf_logreg.predict(hstack([xval_count,df_val_fe]))\n",
        "    prediction = clf_logreg.predict_proba(hstack([xval_count,df_val_fe]))\n",
        "\n",
        "    #print(prediction)\n",
        "    result.append(roc_auc_score(val[category], prediction[:,1]))\n",
        "\n",
        "print('Average : ', np.mean(result))"
      ],
      "execution_count": 0,
      "outputs": [
        {
          "output_type": "stream",
          "text": [
            "... Processing toxic\n",
            "... Processing severe_toxic\n",
            "... Processing obscene\n",
            "... Processing threat\n",
            "... Processing insult\n",
            "... Processing identity_hate\n",
            "Average :  0.9840221676440876\n"
          ],
          "name": "stdout"
        }
      ]
    },
    {
      "cell_type": "markdown",
      "metadata": {
        "id": "wzlctfIRvm_c",
        "colab_type": "text"
      },
      "source": [
        "### Multinomial NB"
      ]
    },
    {
      "cell_type": "code",
      "metadata": {
        "id": "KAkbtvwbhO0J",
        "colab_type": "code",
        "colab": {}
      },
      "source": [
        "from sklearn.naive_bayes import MultinomialNB"
      ],
      "execution_count": 0,
      "outputs": []
    },
    {
      "cell_type": "code",
      "metadata": {
        "id": "ayFM_s6Xa2Th",
        "colab_type": "code",
        "outputId": "a9922c17-9dff-4af4-b04a-b574c193e2b3",
        "colab": {
          "base_uri": "https://localhost:8080/",
          "height": 136
        }
      },
      "source": [
        "clf_nb = OneVsRestClassifier(MultinomialNB())\n",
        "result=[]\n",
        "\n",
        "for category in categories:\n",
        "    print('... Processing {}'.format(category))\n",
        "\n",
        "    # train the model using X_dtm & y\n",
        "    clf_nb.fit(xtrain_count, train[category])\n",
        "\n",
        "    # compute the testing accuracy\n",
        "    nb_pred = clf_nb.predict(xval_count)\n",
        "    prediction = clf_nb.predict_proba(xval_count)\n",
        "    result.append(roc_auc_score(val[category], prediction[:,1]))\n",
        "\n",
        "\n",
        "print('Average : ', np.mean(result))"
      ],
      "execution_count": 0,
      "outputs": [
        {
          "output_type": "stream",
          "text": [
            "... Processing toxic\n",
            "... Processing severe_toxic\n",
            "... Processing obscene\n",
            "... Processing threat\n",
            "... Processing insult\n",
            "... Processing identity_hate\n",
            "Average :  0.8446367983190326\n"
          ],
          "name": "stdout"
        }
      ]
    },
    {
      "cell_type": "markdown",
      "metadata": {
        "id": "9MibtWimvqjA",
        "colab_type": "text"
      },
      "source": [
        "### LightGBM"
      ]
    },
    {
      "cell_type": "code",
      "metadata": {
        "id": "X9uLsQynqLHP",
        "colab_type": "code",
        "colab": {}
      },
      "source": [
        "import lightgbm as lgb"
      ],
      "execution_count": 0,
      "outputs": []
    },
    {
      "cell_type": "code",
      "metadata": {
        "id": "bnAc2A_9a2Tj",
        "colab_type": "code",
        "outputId": "ca5de36e-d69d-4c38-9fe5-42fd3d7c8236",
        "colab": {
          "base_uri": "https://localhost:8080/",
          "height": 136
        }
      },
      "source": [
        "clf_lgbm = OneVsRestClassifier(lgb.LGBMClassifier(random_state=7))\n",
        "result=[]\n",
        "\n",
        "for category in categories:\n",
        "    print('... Processing {}'.format(category))\n",
        "\n",
        "    # train the model using X_dtm & y\n",
        "    clf_lgbm.fit(xtrain_count, train[category])\n",
        "\n",
        "    # compute the testing accuracy\n",
        "    lgbm_pred = clf_lgbm.predict(xval_count)\n",
        "    prediction = clf_lgbm.predict_proba(xval_count)\n",
        "    result.append(roc_auc_score(val[category], prediction[:,1]))\n",
        "\n",
        "print('Average : ', np.mean(result))"
      ],
      "execution_count": 0,
      "outputs": [
        {
          "output_type": "stream",
          "text": [
            "... Processing toxic\n",
            "... Processing severe_toxic\n",
            "... Processing obscene\n",
            "... Processing threat\n",
            "... Processing insult\n",
            "... Processing identity_hate\n",
            "Average :  0.9469535691289264\n"
          ],
          "name": "stdout"
        }
      ]
    },
    {
      "cell_type": "markdown",
      "metadata": {
        "id": "sHdZp8f2vvjw",
        "colab_type": "text"
      },
      "source": [
        "### Decision Tree"
      ]
    },
    {
      "cell_type": "code",
      "metadata": {
        "id": "TOFrcDDGhl55",
        "colab_type": "code",
        "colab": {}
      },
      "source": [
        "from sklearn.tree import DecisionTreeClassifier"
      ],
      "execution_count": 0,
      "outputs": []
    },
    {
      "cell_type": "code",
      "metadata": {
        "id": "d1n83EwAa2Tm",
        "colab_type": "code",
        "outputId": "c6e4725a-a2fc-4921-9f3b-6b0b2292cb6e",
        "colab": {
          "base_uri": "https://localhost:8080/",
          "height": 136
        }
      },
      "source": [
        "clf_dt = OneVsRestClassifier(DecisionTreeClassifier(random_state=7))\n",
        "result=[]\n",
        "\n",
        "for category in categories:\n",
        "    print('... Processing {}'.format(category))\n",
        "\n",
        "    # train the model using X_dtm & y\n",
        "    clf_dt.fit(xtrain_count, train[category])\n",
        "\n",
        "    # compute the testing accuracy\n",
        "    dt_pred = clf_dt.predict(xval_count)\n",
        "    prediction = clf_dt.predict_proba(xval_count)\n",
        "    result.append(roc_auc_score(val[category], prediction[:,1]))\n",
        "\n",
        "print('Average : ', np.mean(result))"
      ],
      "execution_count": 0,
      "outputs": [
        {
          "output_type": "stream",
          "text": [
            "... Processing toxic\n",
            "... Processing severe_toxic\n",
            "... Processing obscene\n",
            "... Processing threat\n",
            "... Processing insult\n",
            "... Processing identity_hate\n",
            "Average :  0.7385250126814928\n"
          ],
          "name": "stdout"
        }
      ]
    }
  ]
}