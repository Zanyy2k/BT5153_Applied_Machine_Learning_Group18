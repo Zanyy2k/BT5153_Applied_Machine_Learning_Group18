{
  "nbformat": 4,
  "nbformat_minor": 0,
  "metadata": {
    "colab": {
      "name": "Model_RNN.ipynb",
      "provenance": [],
      "collapsed_sections": [],
      "machine_shape": "hm"
    },
    "kernelspec": {
      "name": "python3",
      "display_name": "Python 3"
    },
    "accelerator": "GPU"
  },
  "cells": [
    {
      "cell_type": "code",
      "metadata": {
        "id": "Wdfhkzv1kt8o",
        "colab_type": "code",
        "outputId": "eb3f9550-8f6e-40cf-847e-08a52ed6a064",
        "colab": {
          "base_uri": "https://localhost:8080/",
          "height": 122
        }
      },
      "source": [
        "'''\n",
        "from google.colab import drive\n",
        "drive.mount('/content/drive')\n",
        "'''"
      ],
      "execution_count": 0,
      "outputs": [
        {
          "output_type": "stream",
          "text": [
            "Go to this URL in a browser: https://accounts.google.com/o/oauth2/auth?client_id=947318989803-6bn6qk8qdgf4n4g3pfee6491hc0brc4i.apps.googleusercontent.com&redirect_uri=urn%3aietf%3awg%3aoauth%3a2.0%3aoob&response_type=code&scope=email%20https%3a%2f%2fwww.googleapis.com%2fauth%2fdocs.test%20https%3a%2f%2fwww.googleapis.com%2fauth%2fdrive%20https%3a%2f%2fwww.googleapis.com%2fauth%2fdrive.photos.readonly%20https%3a%2f%2fwww.googleapis.com%2fauth%2fpeopleapi.readonly\n",
            "\n",
            "Enter your authorization code:\n",
            "··········\n",
            "Mounted at /content/drive\n"
          ],
          "name": "stdout"
        }
      ]
    },
    {
      "cell_type": "code",
      "metadata": {
        "id": "f_86fE2cyIH-",
        "colab_type": "code",
        "outputId": "84ad105d-ced4-43f4-b83f-79e427362651",
        "colab": {
          "base_uri": "https://localhost:8080/",
          "height": 34
        }
      },
      "source": [
        "!pip install -q unidecode"
      ],
      "execution_count": 0,
      "outputs": [
        {
          "output_type": "stream",
          "text": [
            "\u001b[?25l\r\u001b[K     |█▍                              | 10kB 22.2MB/s eta 0:00:01\r\u001b[K     |██▊                             | 20kB 2.1MB/s eta 0:00:01\r\u001b[K     |████▏                           | 30kB 2.7MB/s eta 0:00:01\r\u001b[K     |█████▌                          | 40kB 2.1MB/s eta 0:00:01\r\u001b[K     |██████▉                         | 51kB 2.3MB/s eta 0:00:01\r\u001b[K     |████████▎                       | 61kB 2.8MB/s eta 0:00:01\r\u001b[K     |█████████▋                      | 71kB 3.0MB/s eta 0:00:01\r\u001b[K     |███████████                     | 81kB 3.1MB/s eta 0:00:01\r\u001b[K     |████████████▍                   | 92kB 3.5MB/s eta 0:00:01\r\u001b[K     |█████████████▊                  | 102kB 3.3MB/s eta 0:00:01\r\u001b[K     |███████████████▏                | 112kB 3.3MB/s eta 0:00:01\r\u001b[K     |████████████████▌               | 122kB 3.3MB/s eta 0:00:01\r\u001b[K     |█████████████████▉              | 133kB 3.3MB/s eta 0:00:01\r\u001b[K     |███████████████████▎            | 143kB 3.3MB/s eta 0:00:01\r\u001b[K     |████████████████████▋           | 153kB 3.3MB/s eta 0:00:01\r\u001b[K     |██████████████████████          | 163kB 3.3MB/s eta 0:00:01\r\u001b[K     |███████████████████████▍        | 174kB 3.3MB/s eta 0:00:01\r\u001b[K     |████████████████████████▊       | 184kB 3.3MB/s eta 0:00:01\r\u001b[K     |██████████████████████████▏     | 194kB 3.3MB/s eta 0:00:01\r\u001b[K     |███████████████████████████▌    | 204kB 3.3MB/s eta 0:00:01\r\u001b[K     |████████████████████████████▉   | 215kB 3.3MB/s eta 0:00:01\r\u001b[K     |██████████████████████████████▎ | 225kB 3.3MB/s eta 0:00:01\r\u001b[K     |███████████████████████████████▋| 235kB 3.3MB/s eta 0:00:01\r\u001b[K     |████████████████████████████████| 245kB 3.3MB/s \n",
            "\u001b[?25h"
          ],
          "name": "stdout"
        }
      ]
    },
    {
      "cell_type": "code",
      "metadata": {
        "id": "D_nn3et8yTRD",
        "colab_type": "code",
        "outputId": "85eacb43-e1fc-474a-c0b0-5e52ed56c895",
        "colab": {
          "base_uri": "https://localhost:8080/",
          "height": 68
        }
      },
      "source": [
        "import nltk\n",
        "nltk.download('stopwords')"
      ],
      "execution_count": 0,
      "outputs": [
        {
          "output_type": "stream",
          "text": [
            "[nltk_data] Downloading package stopwords to /root/nltk_data...\n",
            "[nltk_data]   Package stopwords is already up-to-date!\n"
          ],
          "name": "stdout"
        },
        {
          "output_type": "execute_result",
          "data": {
            "text/plain": [
              "True"
            ]
          },
          "metadata": {
            "tags": []
          },
          "execution_count": 5
        }
      ]
    },
    {
      "cell_type": "code",
      "metadata": {
        "id": "sOhrUpmgk8XF",
        "colab_type": "code",
        "outputId": "c1bbf3fe-312a-418d-cba6-15115d1ab050",
        "colab": {
          "base_uri": "https://localhost:8080/",
          "height": 34
        }
      },
      "source": [
        "import numpy as np\n",
        "np.random.seed(42)\n",
        "import pandas as pd\n",
        "import string\n",
        "import re\n",
        "import gensim\n",
        "from nltk.corpus import stopwords\n",
        "from unidecode import unidecode\n",
        "from collections import Counter\n",
        "import pickle\n",
        "from sklearn.preprocessing import StandardScaler\n",
        "from sklearn.model_selection import train_test_split\n",
        "from sklearn.metrics import roc_auc_score\n",
        "from sklearn.model_selection import KFold\n",
        "\n",
        "import tensorflow as tf\n",
        "from keras.models import Model\n",
        "from keras.layers import Input, Dense, Dropout, Conv1D, Embedding, SpatialDropout1D, concatenate\n",
        "from keras.layers import GRU, LSTM,Bidirectional, GlobalAveragePooling1D, GlobalMaxPooling1D\n",
        "from keras.layers import CuDNNLSTM, CuDNNGRU\n",
        "from keras.preprocessing import text, sequence\n",
        "from keras.callbacks import Callback\n",
        "from keras import optimizers\n",
        "from keras.layers import Lambda\n",
        "from keras import backend as K\n",
        "\n",
        "import gc\n",
        "import time\n",
        "import os\n",
        "import warnings\n",
        "warnings.filterwarnings('ignore')\n",
        "os.environ['OMP_NUM_THREADS'] = '4'\n",
        "eng_stopwords = set(stopwords.words(\"english\"))\n"
      ],
      "execution_count": 0,
      "outputs": [
        {
          "output_type": "stream",
          "text": [
            "Using TensorFlow backend.\n"
          ],
          "name": "stderr"
        }
      ]
    },
    {
      "cell_type": "code",
      "metadata": {
        "id": "Z1uPSXD7R2sy",
        "colab_type": "code",
        "outputId": "e68c8263-d2a4-4f4e-f44f-65ff24f19eb3",
        "colab": {
          "base_uri": "https://localhost:8080/",
          "height": 34
        }
      },
      "source": [
        "print(tf.__version__)"
      ],
      "execution_count": 0,
      "outputs": [
        {
          "output_type": "stream",
          "text": [
            "2.2.0-rc3\n"
          ],
          "name": "stdout"
        }
      ]
    },
    {
      "cell_type": "code",
      "metadata": {
        "id": "j5nZGYzByRYd",
        "colab_type": "code",
        "colab": {}
      },
      "source": [
        "# load pre-processed data\n",
        "train = pd.read_csv(\"train_train_final_processed.csv\")\n",
        "val = pd.read_csv(\"train_val_final_processed.csv\")\n",
        "test = pd.read_csv(\"test_final_processed.csv\")"
      ],
      "execution_count": 0,
      "outputs": []
    },
    {
      "cell_type": "code",
      "metadata": {
        "id": "BHVvJZfak8bx",
        "colab_type": "code",
        "colab": {}
      },
      "source": [
        "# remove non-ascii\n",
        "special_character_removal = re.compile(r'[^A-Za-z\\.\\-\\?\\!\\,\\#\\@\\% ]',re.IGNORECASE)\n",
        "def clean_text(x):\n",
        "    x_ascii = unidecode(x)\n",
        "    x_clean = special_character_removal.sub('',x_ascii)\n",
        "    return x_clean\n",
        "\n",
        "train['clean_text'] = train['comment_text'].apply(lambda x: clean_text(str(x)))\n",
        "val['clean_text'] = val['comment_text'].apply(lambda x: clean_text(str(x)))\n",
        "test['clean_text'] = test['comment_text'].apply(lambda x: clean_text(str(x)))\n",
        "\n",
        "X_train = train['clean_text'].fillna(\"something\").values\n",
        "y_train = train[[\"toxic\", \"severe_toxic\", \"obscene\", \"threat\", \"insult\", \"identity_hate\"]].values\n",
        "X_val = val['clean_text'].fillna(\"something\").values\n",
        "y_val = val[[\"toxic\", \"severe_toxic\", \"obscene\", \"threat\", \"insult\", \"identity_hate\"]].values\n",
        "X_test = test['clean_text'].fillna(\"something\").values\n"
      ],
      "execution_count": 0,
      "outputs": []
    },
    {
      "cell_type": "code",
      "metadata": {
        "id": "Ko5oY8soBMWm",
        "colab_type": "code",
        "colab": {}
      },
      "source": [
        "def add_features(df):\n",
        "    \n",
        "    df['comment_text'] = df['comment_text'].apply(lambda x:str(x))\n",
        "    df['total_length'] = df['comment_text'].apply(len)\n",
        "    df['capitals'] = df['comment_text'].apply(lambda comment: sum(1 for c in comment if c.isupper()))\n",
        "    df['caps_vs_length'] = df.apply(lambda row: float(row['capitals'])/float(row['total_length']),\n",
        "                                axis=1)\n",
        "    df['num_words'] = df.comment_text.str.count('\\S+')\n",
        "    df['num_unique_words'] = df['comment_text'].apply(lambda comment: len(set(w for w in comment.split())))\n",
        "    df['words_vs_unique'] = df['num_unique_words'] / df['num_words']  \n",
        "\n",
        "    return df\n",
        "\n",
        "train = add_features(train)\n",
        "val = add_features(val)\n",
        "test = add_features(test)\n",
        "\n",
        "features = train[['caps_vs_length', 'words_vs_unique']].fillna(0)\n",
        "val_features = val[['caps_vs_length', 'words_vs_unique']].fillna(0)\n",
        "test_features = test[['caps_vs_length', 'words_vs_unique']].fillna(0)\n",
        "\n",
        "ss = StandardScaler()\n",
        "ss.fit(features)\n",
        "features = ss.transform(features)\n",
        "val_features = ss.transform(val_features)\n",
        "test_features = ss.transform(test_features)"
      ],
      "execution_count": 0,
      "outputs": []
    },
    {
      "cell_type": "code",
      "metadata": {
        "id": "u5nIU2hsymPY",
        "colab_type": "code",
        "outputId": "2c8e1af5-57db-4a0b-fb2e-f11f5a36fb86",
        "colab": {
          "base_uri": "https://localhost:8080/",
          "height": 34
        }
      },
      "source": [
        "# set training parameters\n",
        "max_features = 157729\n",
        "maxlen = 100\n",
        "\n",
        "# max_features = 283759\n",
        "# maxlen = 900\n",
        "\n",
        "tokenizer = text.Tokenizer(num_words=max_features)\n",
        "tokenizer.fit_on_texts(list(X_train))\n",
        "\n",
        "X_train_sequence = tokenizer.texts_to_sequences(X_train)\n",
        "X_val_sequence = tokenizer.texts_to_sequences(X_val)\n",
        "X_test_sequence = tokenizer.texts_to_sequences(X_test)\n",
        "\n",
        "x_train = sequence.pad_sequences(X_train_sequence, maxlen=maxlen)\n",
        "x_val = sequence.pad_sequences(X_val_sequence, maxlen=maxlen)\n",
        "x_test = sequence.pad_sequences(X_test_sequence, maxlen=maxlen)\n",
        "print(len(tokenizer.word_index))\n"
      ],
      "execution_count": 0,
      "outputs": [
        {
          "output_type": "stream",
          "text": [
            "157729\n"
          ],
          "name": "stdout"
        }
      ]
    },
    {
      "cell_type": "code",
      "metadata": {
        "id": "8D1EaJ0nymR6",
        "colab_type": "code",
        "colab": {}
      },
      "source": [
        "EMBEDDING_FILE_FASTTEXT=\"./pretrained/crawl-300d-2M.vec\"\n",
        "EMBEDDING_FILE_TWITTER=\"./pretrained/glove.twitter.27B.200d.txt\"\n",
        "def get_coefs(word, *arr): return word, np.asarray(arr, dtype='float32')\n",
        "embeddings_index_ft = dict(get_coefs(*o.rstrip().rsplit(' ')) for o in open(EMBEDDING_FILE_FASTTEXT,encoding='utf-8'))\n",
        "embeddings_index_tw = dict(get_coefs(*o.strip().split()) for o in open(EMBEDDING_FILE_TWITTER,encoding='utf-8'))"
      ],
      "execution_count": 0,
      "outputs": []
    },
    {
      "cell_type": "code",
      "metadata": {
        "id": "PS3cP4NUy0G6",
        "colab_type": "code",
        "colab": {}
      },
      "source": [
        "word_index = tokenizer.word_index\n",
        "nb_words = min(max_features, len(word_index))\n",
        "embedding_matrix = np.zeros((nb_words,501))\n",
        "\n",
        "something_tw = embeddings_index_tw.get(\"something\")\n",
        "something_ft = embeddings_index_ft.get(\"something\")\n",
        "\n",
        "something = np.zeros((501,))\n",
        "something[:300,] = something_ft\n",
        "something[300:500,] = something_tw\n",
        "something[500,] = 0\n",
        "\n",
        "def all_caps(word):\n",
        "    return len(word) > 1 and word.isupper()\n",
        "\n",
        "def embed_word(embedding_matrix,i,word):\n",
        "    embedding_vector_ft = embeddings_index_ft.get(word)\n",
        "    if embedding_vector_ft is not None: \n",
        "        if all_caps(word):\n",
        "            last_value = np.array([1])\n",
        "        else:\n",
        "            last_value = np.array([0])\n",
        "        embedding_matrix[i,:300] = embedding_vector_ft\n",
        "        embedding_matrix[i,500] = last_value\n",
        "        embedding_vector_tw = embeddings_index_tw.get(word)\n",
        "        if embedding_vector_tw is not None:\n",
        "            embedding_matrix[i,300:500] = embedding_vector_tw\n",
        "\n",
        "            \n",
        "# Fasttext vector is used by itself if there is no glove vector but not the other way around.\n",
        "for word, i in word_index.items():\n",
        "    \n",
        "    if i >= max_features: continue\n",
        "        \n",
        "    if embeddings_index_ft.get(word) is not None:\n",
        "        embed_word(embedding_matrix,i,word)\n",
        "    else:\n",
        "        #if len(word) > 0\n",
        "        if len(word) > 0:\n",
        "            embedding_matrix[i] = something"
      ],
      "execution_count": 0,
      "outputs": []
    },
    {
      "cell_type": "code",
      "metadata": {
        "id": "cisu_yCEy0Jb",
        "colab_type": "code",
        "colab": {}
      },
      "source": [
        "class RocAucEvaluation(Callback):\n",
        "    def __init__(self, validation_data=(), interval=1):\n",
        "        super(Callback, self).__init__()\n",
        "\n",
        "        self.interval = interval\n",
        "        self.X_val, self.y_val = validation_data\n",
        "        self.max_score = 0\n",
        "        self.not_better_count = 0\n",
        "\n",
        "    def on_epoch_end(self, epoch, logs={}):\n",
        "        if epoch % self.interval == 0:\n",
        "            y_pred = self.model.predict(self.X_val, verbose=1)\n",
        "            score = roc_auc_score(self.y_val, y_pred)\n",
        "            print(\"\\n ROC-AUC - epoch: %d - score: %.6f \\n\" % (epoch+1, score))\n",
        "            if (score > self.max_score):\n",
        "                print(\"*** New High Score (previous: %.6f) \\n\" % self.max_score)\n",
        "                model.save_weights(\"best_weights_fixed.h5\")\n",
        "                self.max_score=score\n",
        "                self.not_better_count = 0\n",
        "            else:\n",
        "                self.not_better_count += 1\n",
        "                if self.not_better_count > 3:\n",
        "                    print(\"Epoch %05d: early stopping, high score = %.6f\" % (epoch,self.max_score))\n",
        "                    self.model.stop_training = True"
      ],
      "execution_count": 0,
      "outputs": []
    },
    {
      "cell_type": "code",
      "metadata": {
        "id": "1Z9JdHRiymUZ",
        "colab_type": "code",
        "colab": {}
      },
      "source": [
        "def get_model(features,clipvalue=1.,num_filters=40,dropout=0.5,embed_size=501):\n",
        "    features_input = Input(shape=(features.shape[1],))\n",
        "    inp = Input(shape=(maxlen, ))\n",
        "    \n",
        "    # Layer 1: concatenated fasttext and glove twitter embeddings.\n",
        "    x = Embedding(max_features, embed_size, weights=[embedding_matrix], trainable=False)(inp)\n",
        "    \n",
        "    # Layer 2: SpatialDropout1D(0.5)\n",
        "    x = SpatialDropout1D(dropout)(x)\n",
        "    \n",
        "    # Layer 3: Bidirectional CuDNNLSTM\n",
        "    x = Bidirectional(LSTM(num_filters, return_sequences=True))(x)\n",
        "\n",
        "    # Layer 4: Bidirectional CuDNNGRU\n",
        "    x, x_h, x_c = Bidirectional(GRU(num_filters, return_sequences=True, return_state = True))(x)  \n",
        "    \n",
        "    # Layer 5: A concatenation of the last state, maximum pool, average pool and \n",
        "    # two features: \"Unique words rate\" and \"Rate of all-caps words\"\n",
        "    avg_pool = GlobalAveragePooling1D()(x)\n",
        "    max_pool = GlobalMaxPooling1D()(x)\n",
        "    \n",
        "    x = concatenate([avg_pool, x_h, max_pool,features_input])\n",
        "    \n",
        "    # Layer 6: output dense layer.\n",
        "    outp = Dense(6, activation=\"sigmoid\")(x)\n",
        "\n",
        "    model = Model(inputs=[inp,features_input], outputs=outp)\n",
        "    adam = optimizers.adam(clipvalue=clipvalue)\n",
        "    model.compile(loss='binary_crossentropy',\n",
        "                  optimizer=adam,\n",
        "                  metrics=['accuracy'])\n",
        "    return model"
      ],
      "execution_count": 0,
      "outputs": []
    },
    {
      "cell_type": "code",
      "metadata": {
        "id": "1eQr9ApXNhsn",
        "colab_type": "code",
        "colab": {}
      },
      "source": [
        "model = get_model(features)"
      ],
      "execution_count": 0,
      "outputs": []
    },
    {
      "cell_type": "code",
      "metadata": {
        "id": "nyPRXk8UI0Or",
        "colab_type": "code",
        "outputId": "a89314f1-ba26-4994-ff06-bd6d15b07f23",
        "colab": {
          "base_uri": "https://localhost:8080/",
          "height": 544
        }
      },
      "source": [
        "model.summary()"
      ],
      "execution_count": 0,
      "outputs": [
        {
          "output_type": "stream",
          "text": [
            "Model: \"model_1\"\n",
            "__________________________________________________________________________________________________\n",
            "Layer (type)                    Output Shape         Param #     Connected to                     \n",
            "==================================================================================================\n",
            "input_2 (InputLayer)            (None, 100)          0                                            \n",
            "__________________________________________________________________________________________________\n",
            "embedding_1 (Embedding)         (None, 100, 501)     79022229    input_2[0][0]                    \n",
            "__________________________________________________________________________________________________\n",
            "spatial_dropout1d_1 (SpatialDro (None, 100, 501)     0           embedding_1[0][0]                \n",
            "__________________________________________________________________________________________________\n",
            "bidirectional_1 (Bidirectional) (None, 100, 80)      173440      spatial_dropout1d_1[0][0]        \n",
            "__________________________________________________________________________________________________\n",
            "bidirectional_2 (Bidirectional) [(None, 100, 80), (N 29040       bidirectional_1[0][0]            \n",
            "__________________________________________________________________________________________________\n",
            "global_average_pooling1d_1 (Glo (None, 80)           0           bidirectional_2[0][0]            \n",
            "__________________________________________________________________________________________________\n",
            "global_max_pooling1d_1 (GlobalM (None, 80)           0           bidirectional_2[0][0]            \n",
            "__________________________________________________________________________________________________\n",
            "input_1 (InputLayer)            (None, 2)            0                                            \n",
            "__________________________________________________________________________________________________\n",
            "concatenate_1 (Concatenate)     (None, 202)          0           global_average_pooling1d_1[0][0] \n",
            "                                                                 bidirectional_2[0][1]            \n",
            "                                                                 global_max_pooling1d_1[0][0]     \n",
            "                                                                 input_1[0][0]                    \n",
            "__________________________________________________________________________________________________\n",
            "dense_1 (Dense)                 (None, 6)            1218        concatenate_1[0][0]              \n",
            "==================================================================================================\n",
            "Total params: 79,225,927\n",
            "Trainable params: 203,698\n",
            "Non-trainable params: 79,022,229\n",
            "__________________________________________________________________________________________________\n"
          ],
          "name": "stdout"
        }
      ]
    },
    {
      "cell_type": "code",
      "metadata": {
        "id": "DmeGypIHJGsr",
        "colab_type": "code",
        "outputId": "80d2c7b5-d92d-45df-c585-99d86a22af5a",
        "colab": {
          "base_uri": "https://localhost:8080/",
          "height": 758
        }
      },
      "source": [
        "from keras.utils import plot_model\n",
        "plot_model(model, to_file='rnn_model.png')"
      ],
      "execution_count": 0,
      "outputs": [
        {
          "output_type": "execute_result",
          "data": {
            "image/png": "[encoded data removed]",
            "text/plain": [
              "<IPython.core.display.Image object>"
            ]
          },
          "metadata": {
            "tags": []
          },
          "execution_count": 17
        }
      ]
    },
    {
      "cell_type": "code",
      "metadata": {
        "id": "mARhf48Q58sg",
        "colab_type": "code",
        "outputId": "f39fab10-90ed-4a64-a003-3f278e52c7fd",
        "colab": {
          "base_uri": "https://localhost:8080/",
          "height": 751
        }
      },
      "source": [
        "model = get_model(features)\n",
        "\n",
        "batch_size = 32\n",
        "\n",
        "# Used epochs=100 with early exiting for best score.\n",
        "epochs = 5\n",
        "gc.collect()\n",
        "K.clear_session()\n",
        "\n",
        "# Change to 10\n",
        "#num_folds = 10 #number of folds\n",
        "\n",
        "model = get_model(features)\n",
        "predict = np.zeros((test.shape[0],6))\n",
        "\n",
        "# Uncomment for out-of-fold predictions\n",
        "#scores = []\n",
        "#oof_predict = np.zeros((train.shape[0],6))\n",
        "\n",
        "ra_val = RocAucEvaluation(validation_data=([x_val, val_features], y_val), interval = 1)\n",
        "    \n",
        "model.fit([x_train, features], y_train, batch_size=batch_size, epochs=epochs, verbose=1,\n",
        "          callbacks = [ra_val])\n",
        "gc.collect()\n",
        "    \n",
        "#model.load_weights(bst_model_path)\n",
        "model.load_weights(\"best_weights_fixed.h5\")\n",
        "predict = model.predict([x_test,test_features], batch_size=batch_size,verbose=1)"
      ],
      "execution_count": 0,
      "outputs": [
        {
          "output_type": "stream",
          "text": [
            "Epoch 1/5\n",
            "143614/143614 [==============================] - 4090s 28ms/step - loss: 0.0536 - accuracy: 0.9805\n",
            "15957/15957 [==============================] - 39s 2ms/step\n",
            "\n",
            " ROC-AUC - epoch: 1 - score: 0.985138 \n",
            "\n",
            "*** New High Score (previous: 0.000000) \n",
            "\n",
            "Epoch 2/5\n",
            "143614/143614 [==============================] - 4026s 28ms/step - loss: 0.0429 - accuracy: 0.9835\n",
            "15957/15957 [==============================] - 39s 2ms/step\n",
            "\n",
            " ROC-AUC - epoch: 2 - score: 0.987666 \n",
            "\n",
            "*** New High Score (previous: 0.985138) \n",
            "\n",
            "Epoch 3/5\n",
            "143614/143614 [==============================] - 4008s 28ms/step - loss: 0.0405 - accuracy: 0.9843\n",
            "15957/15957 [==============================] - 38s 2ms/step\n",
            "\n",
            " ROC-AUC - epoch: 3 - score: 0.987819 \n",
            "\n",
            "*** New High Score (previous: 0.987666) \n",
            "\n",
            "Epoch 4/5\n",
            "143614/143614 [==============================] - 3962s 28ms/step - loss: 0.0390 - accuracy: 0.9846\n",
            "15957/15957 [==============================] - 38s 2ms/step\n",
            "\n",
            " ROC-AUC - epoch: 4 - score: 0.988361 \n",
            "\n",
            "*** New High Score (previous: 0.987819) \n",
            "\n",
            "Epoch 5/5\n",
            "143614/143614 [==============================] - 3941s 27ms/step - loss: 0.0379 - accuracy: 0.9849\n",
            "15957/15957 [==============================] - 37s 2ms/step\n",
            "\n",
            " ROC-AUC - epoch: 5 - score: 0.988387 \n",
            "\n",
            "*** New High Score (previous: 0.988361) \n",
            "\n",
            "153164/153164 [==============================] - 355s 2ms/step\n"
          ],
          "name": "stdout"
        },
        {
          "output_type": "execute_result",
          "data": {
            "text/plain": [
              "'\\nkf = KFold(n_splits=num_folds, shuffle=True, random_state=239)\\n\\nfor train_index, test_index in kf.split(x_train):\\n    \\n    kfold_y_train,kfold_y_test = y_train[train_index], y_train[test_index]\\n    kfold_X_train = x_train[train_index]\\n    kfold_X_features = features[train_index]\\n    kfold_X_valid = x_train[test_index]\\n    kfold_X_valid_features = features[test_index] \\n    \\n    gc.collect()\\n    K.clear_session()\\n    \\n    model = get_model(features)\\n    \\n    ra_val = RocAucEvaluation(validation_data=([kfold_X_valid,kfold_X_valid_features], kfold_y_test), interval = 1)\\n    \\n    model.fit([kfold_X_train,kfold_X_features], kfold_y_train, batch_size=batch_size, epochs=epochs, verbose=1,\\n             callbacks = [ra_val])\\n    gc.collect()\\n    \\n    #model.load_weights(bst_model_path)\\n    model.load_weights(\"best_weights.h5\")\\n    \\n    # disable cross validation, only run one of the ten folders\\n    # predict += model.predict([x_test,test_features], batch_size=batch_size,verbose=1) / num_folds\\n    predict += model.predict([x_test,test_features], batch_size=batch_size,verbose=1)\\n    break\\n    \\n    #gc.collect()\\n    # uncomment for out of fold predictions\\n    #oof_predict[test_index] = model.predict([kfold_X_valid, kfold_X_valid_features],batch_size=batch_size, verbose=1)\\n    #cv_score = roc_auc_score(kfold_y_test, oof_predict[test_index])\\n    \\n    #scores.append(cv_score)\\n    #print(\\'score: \\',cv_score)\\n\\nprint(\"Done\")\\n#print(\\'Total CV score is {}\\'.format(np.mean(scores)))    \\n'"
            ]
          },
          "metadata": {
            "tags": []
          },
          "execution_count": 41
        }
      ]
    },
    {
      "cell_type": "code",
      "metadata": {
        "id": "_8BTXLt658us",
        "colab_type": "code",
        "colab": {}
      },
      "source": [
        "# Prepare for submission\n",
        "sample_submission = pd.read_csv(\"sample_submission.csv\")\n",
        "class_names = ['toxic', 'severe_toxic', 'obscene', 'threat', 'insult', 'identity_hate']\n",
        "sample_submission[class_names] = predict\n",
        "sample_submission.to_csv('model_RNN_submission.csv',index=False)\n"
      ],
      "execution_count": 0,
      "outputs": []
    }
  ]
}