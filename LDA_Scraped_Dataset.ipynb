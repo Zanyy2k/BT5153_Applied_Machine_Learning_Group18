{
 "cells": [
  {
   "cell_type": "code",
   "execution_count": 9,
   "metadata": {},
   "outputs": [
    {
     "output_type": "stream",
     "name": "stderr",
     "text": "[nltk_data] Downloading package stopwords to\n[nltk_data]     C:\\Users\\YZD\\AppData\\Roaming\\nltk_data...\n[nltk_data]   Package stopwords is already up-to-date!\n[nltk_data] Downloading package wordnet to\n[nltk_data]     C:\\Users\\YZD\\AppData\\Roaming\\nltk_data...\n[nltk_data]   Package wordnet is already up-to-date!\n[nltk_data] Downloading package punkt to\n[nltk_data]     C:\\Users\\YZD\\AppData\\Roaming\\nltk_data...\n[nltk_data]   Package punkt is already up-to-date!\n"
    }
   ],
   "source": [
    "# import libraries\n",
    "%matplotlib inline\n",
    "import re\n",
    "import os \n",
    "import pickle\n",
    "import pandas as pd \n",
    "import numpy as np\n",
    "import seaborn as sns\n",
    "import matplotlib.pyplot as plt\n",
    "from statistics import mean \n",
    "from time import time\n",
    "import plotly.graph_objects as go\n",
    "\n",
    "import nltk \n",
    "nltk.download('stopwords')\n",
    "nltk.download('wordnet')\n",
    "nltk.download('punkt')\n",
    "from nltk.corpus import stopwords\n",
    "from nltk.tokenize import word_tokenize \n",
    "from nltk.stem import WordNetLemmatizer, SnowballStemmer\n",
    "from nltk.stem.porter import *\n",
    "from textblob import TextBlob, Word\n",
    "from wordcloud import WordCloud, STOPWORDS\n",
    "from sklearn.decomposition import LatentDirichletAllocation as LDA\n",
    "\n",
    "from sklearn.model_selection import train_test_split\n",
    "from sklearn.feature_extraction.text import TfidfVectorizer\n",
    "from sklearn.feature_extraction.text import CountVectorizer\n",
    "from sklearn.feature_extraction.text import TfidfTransformer\n",
    "from sklearn.pipeline import Pipeline\n",
    "from sklearn.multiclass import OneVsRestClassifier\n",
    "\n",
    "import lightgbm as lgb\n",
    "from sklearn.svm import LinearSVC\n",
    "from sklearn.naive_bayes import MultinomialNB\n",
    "from sklearn.linear_model import LogisticRegression\n",
    "from sklearn.tree import DecisionTreeClassifier\n",
    "from sklearn.ensemble import RandomForestClassifier\n",
    "from sklearn.ensemble import GradientBoostingClassifier\n",
    "from sklearn.metrics import classification_report, confusion_matrix, accuracy_score, roc_auc_score"
   ]
  },
  {
   "cell_type": "code",
   "execution_count": 15,
   "metadata": {},
   "outputs": [],
   "source": [
    "os.chdir(r'C:\\Users\\YZD\\Desktop\\NUS\\MSBA\\Semster 2 - 2020\\BT5153 - Applied Machine Learning for Business Analytics\\Project\\data\\scrap_data')\n",
    "all_filenames = os.listdir()\n",
    "#combine all files in the list\n",
    "combined_csv = pd.concat([pd.read_csv(f) for f in all_filenames ])\n",
    "#export to csv\n",
    "combined_csv.to_csv( \"combined_csv.csv\", index=False, encoding='utf-8-sig')"
   ]
  },
  {
   "cell_type": "code",
   "execution_count": 16,
   "metadata": {},
   "outputs": [],
   "source": [
    "df_tweet = pd.read_csv('combined_csv.csv')"
   ]
  },
  {
   "cell_type": "code",
   "execution_count": 17,
   "metadata": {},
   "outputs": [
    {
     "output_type": "stream",
     "name": "stdout",
     "text": "(100000, 4)\n"
    }
   ],
   "source": [
    "print(df_tweet.shape)"
   ]
  },
  {
   "cell_type": "markdown",
   "metadata": {},
   "source": [
    "## EDA on combined dataset  "
   ]
  },
  {
   "cell_type": "code",
   "execution_count": 18,
   "metadata": {},
   "outputs": [
    {
     "output_type": "stream",
     "name": "stdout",
     "text": "<class 'pandas.core.frame.DataFrame'>\nRangeIndex: 100000 entries, 0 to 99999\nData columns (total 4 columns):\nid          100000 non-null int64\ndate        100000 non-null object\nusername    100000 non-null object\ntext        99972 non-null object\ndtypes: int64(1), object(3)\nmemory usage: 3.1+ MB\nTrain dataset : \n (100000, 4) \n                     id                       date         username  \\\n0  1245501195478691840  2020-04-01 23:59:59+00:00         DotUrada   \n1  1245501195004907521  2020-04-01 23:59:59+00:00  YouthBeatSpeaks   \n2  1245501194950389761  2020-04-01 23:59:59+00:00    41_POR_CIENTO   \n3  1245501194379898880  2020-04-01 23:59:59+00:00         SangerJB   \n4  1245501193352146944  2020-04-01 23:59:59+00:00   KrissyKrissy16   \n\n                                                text  \n0  Nurses: We Are the Canaries in the Coronavirus...  \n1  On 3/26, @emergesmarter hosted their 1st live ...  \n2  Coronavirus en Argentina: ¿Es buena noticia qu...  \n3  Pompeo refuses 6 times to say coronavirus is n...  \n4  Who would have guessed bacteria from #Yellowst...   \n None\n"
    }
   ],
   "source": [
    "print('Train dataset : \\n', df_tweet.shape, '\\n', df_tweet.head(5), '\\n', df_tweet.info())"
   ]
  },
  {
   "cell_type": "code",
   "execution_count": 19,
   "metadata": {},
   "outputs": [
    {
     "output_type": "stream",
     "name": "stdout",
     "text": "Number of missing text:\nid           0\ndate         0\nusername     0\ntext        28\ndtype: int64\n"
    }
   ],
   "source": [
    "print('Number of missing text:')\n",
    "print(df_tweet.isnull().sum())"
   ]
  },
  {
   "cell_type": "code",
   "execution_count": 20,
   "metadata": {},
   "outputs": [],
   "source": [
    "# drop na row \n",
    "df_tweet = df_tweet.dropna()"
   ]
  },
  {
   "cell_type": "code",
   "execution_count": 21,
   "metadata": {},
   "outputs": [
    {
     "output_type": "stream",
     "name": "stdout",
     "text": "Nurses: We Are the Canaries in the Coronavirus Mine - https://go.shr.lc/2UCpqaF via @commondreams\n"
    }
   ],
   "source": [
    "print(df_tweet['text'][0])"
   ]
  },
  {
   "cell_type": "code",
   "execution_count": 22,
   "metadata": {},
   "outputs": [
    {
     "output_type": "stream",
     "name": "stdout",
     "text": "id          0\ndate        0\nusername    0\ntext        0\ndtype: int64\n"
    }
   ],
   "source": [
    "print(df_tweet.isnull().sum())"
   ]
  },
  {
   "cell_type": "markdown",
   "metadata": {},
   "source": []
  },
  {
   "cell_type": "markdown",
   "metadata": {},
   "source": [
    "## Text Cleaning \n",
    "\n",
    "We will be using the NLTK package to apply the same text cleaning process for both kaggle dataset and scraped tweets dataset. The ultimate aim is to standardize and remove any discrepancy. The process includes : \n",
    "\n",
    "1. Split by whitespace \n",
    "2. Remove non english characters & Punctuation\n",
    "3. Lowercase transformation \n",
    "4. Split by whitespace \n",
    "5. Filter out Stop words\n",
    "6. Stem Words \n",
    "7. Tokenization\n"
   ]
  },
  {
   "cell_type": "code",
   "execution_count": 23,
   "metadata": {},
   "outputs": [],
   "source": [
    "# Data Cleaning \n",
    "def cleaning(text): \n",
    "\n",
    "    # Convert to smaller case\n",
    "    text_lower = text.lower()\n",
    "    # print('\\n lower :\\n', text_lower, '\\n')\n",
    "    # print(type(text_lower))\n",
    "    \n",
    "    # Handle all the short form\n",
    "    text_noshort = re.sub(r\"what's\", \"what is \", text_lower)\n",
    "    text_noshort = re.sub(r\"\\'s\", \" \", text_noshort)\n",
    "    text_noshort = re.sub(r\"\\'ve\", \" have \", text_noshort)\n",
    "    text_noshort = re.sub(r\"can't\", \"can not \", text_noshort)\n",
    "    text_noshort = re.sub(r\"n't\", \" not \", text_noshort)\n",
    "    text_noshort = re.sub(r\"i'm\", \"i am \", text_noshort)\n",
    "    text_noshort = re.sub(r\"\\'re\", \" are \", text_noshort)\n",
    "    text_noshort = re.sub(r\"\\'d\", \" would \", text_noshort)\n",
    "    text_noshort = re.sub(r\"\\'ll\", \" will \", text_noshort)\n",
    "    text_noshort = re.sub(r\"\\'scuse\", \" excuse \", text_noshort)\n",
    "    text_noshort = re.sub(r'http\\S+', '', text_noshort)\n",
    "    # print('No short : ', text_noshort, '\\n')\n",
    "    # print(type(text_noshort))\n",
    "\n",
    "    # Remove special character & whitespaces\n",
    "    text_nochar = re.sub(r\"\\W+|_\",' ', text_noshort)\n",
    "    # print('special character :\\n', text_nochar, '\\n')\n",
    "    # print(type(text_nochar))\n",
    "\n",
    "    # Remove numbers \n",
    "    # text_nonumber = re.sub(r'\\d+', '', text_nochar)\n",
    "    # print(text_nonumber)\n",
    "    # print(type(text_nonumber))\n",
    "    \n",
    "    # Eliminate duplicate whitespaces using wildcards\n",
    "    text_dup_space = re.sub('\\s+', ' ', text_nochar)\n",
    "    # print('duplicate whitespace : ', text_dup_space, '\\n')\n",
    "    # print(type(text_dup_space))\n",
    "\n",
    "    # Remove leading and trailing space\n",
    "    text_trim_space = text_dup_space.strip(' ')\n",
    "    # print('leading &  trailing space : ', text_trim_space, '\\n')\n",
    "    # print(type(text_trim_space))\n",
    "\n",
    "    # Filter out stop words\n",
    "    stop_words = set(stopwords.words('english'))\n",
    "    word_tokens=word_tokenize(text_trim_space)\n",
    "    filtered_text=\" \".join([w for w in word_tokens if not w in stop_words])\n",
    "    # filtered_text = [w for w in text_noempty if not w in stop_words] \n",
    "    # print('filter stop words :\\n',filtered_text, '\\n')\n",
    "    # # print(type(filtered_text))\n",
    "\n",
    "    # # Lemmatizing - words in third person are changed to first person and verbs in past and future tenses are changed into present.\n",
    "    # lemmatizer = WordNetLemmatizer() \n",
    "    # # output List\n",
    "    # lemmated = []\n",
    "    # for word in filtered_text :\n",
    "    #     lemmated.append(lemmatizer.lemmatize(word))\n",
    "   \n",
    "    # # Output string\n",
    "    ft_split = filtered_text.split(\" \")\n",
    "    lemmated=\" \".join([Word(w).lemmatize() for w in ft_split])\n",
    "    # print('lemmatizing :\\n', lemmated, '\\n')\n",
    "    # print(type(lemmated))\n",
    "\n",
    "    # Stemmed — words are reduced to their root form\n",
    "    stemmer = SnowballStemmer(\"english\")\n",
    "    word_split = lemmated.split(\" \")\n",
    "    stemmed = \" \".join([stemmer.stem(w) for w in word_split])\n",
    "    # print('stemmed : ', stemmed, '\\n')\n",
    "    \n",
    "    return stemmed"
   ]
  },
  {
   "cell_type": "code",
   "execution_count": 24,
   "metadata": {
    "tags": [
     "outputPrepend",
     "outputPrepend",
     "outputPrepend",
     "outputPrepend",
     "outputPrepend",
     "outputPrepend",
     "outputPrepend",
     "outputPrepend",
     "outputPrepend",
     "outputPrepend",
     "outputPrepend",
     "outputPrepend",
     "outputPrepend",
     "outputPrepend",
     "outputPrepend",
     "outputPrepend",
     "outputPrepend",
     "outputPrepend",
     "outputPrepend",
     "outputPrepend",
     "outputPrepend",
     "outputPrepend",
     "outputPrepend",
     "outputPrepend",
     "outputPrepend",
     "outputPrepend",
     "outputPrepend",
     "outputPrepend"
    ]
   },
   "outputs": [],
   "source": [
    "# data processing\n",
    "\n",
    "df_tweet['text'] = df_tweet['text'].apply(lambda x : cleaning(x))"
   ]
  },
  {
   "cell_type": "code",
   "execution_count": 25,
   "metadata": {},
   "outputs": [],
   "source": [
    "# Remove rows where text are empty\n",
    "df_tweet = df_tweet[df_tweet['text'] != '']"
   ]
  },
  {
   "cell_type": "code",
   "execution_count": 26,
   "metadata": {},
   "outputs": [
    {
     "output_type": "execute_result",
     "data": {
      "text/plain": "<matplotlib.image.AxesImage at 0x15fc6215d08>"
     },
     "metadata": {},
     "execution_count": 26
    },
    {
     "output_type": "display_data",
     "data": {
      "text/plain": "<Figure size 936x936 with 1 Axes>",
      "image/svg+xml": "<?xml version=\"1.0\" encoding=\"utf-8\" standalone=\"no\"?>\r\n<!DOCTYPE svg PUBLIC \"-//W3C//DTD SVG 1.1//EN\"\r\n  \"http://www.w3.org/Graphics/SVG/1.1/DTD/svg11.dtd\">\r\n<!-- Created with matplotlib (https://matplotlib.org/) -->\r\n<svg height=\"536.688pt\" version=\"1.1\" viewBox=\"0 0 739.8 536.688\" width=\"739.8pt\" xmlns=\"http://www.w3.org/2000/svg\" xmlns:xlink=\"http://www.w3.org/1999/xlink\">\r\n <defs>\r\n  <style type=\"text/css\">\r\n*{stroke-linecap:butt;stroke-linejoin:round;}\r\n  </style>\r\n </defs>\r\n <g id=\"figure_1\">\r\n  <g id=\"patch_1\">\r\n   <path d=\"M 0 536.688 \r\nL 739.8 536.688 \r\nL 739.8 0 \r\nL 0 0 \r\nz\r\n\" style=\"fill:none;\"/>\r\n  </g>\r\n  <g id=\"axes_1\">\r\n   <g clip-path=\"url(#p623a3fb680)\">\r\n    <image height=\"523\" id=\"imaged270cc4be2\" transform=\"scale(1 -1)translate(0 -523)\" width=\"726\" x=\"7.2\" xlink:href=\"data:image/png;base64,\r\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\" y=\"-6.488\"/>\r\n   </g>\r\n  </g>\r\n </g>\r\n <defs>\r\n  <clipPath id=\"p623a3fb680\">\r\n   <rect height=\"522.288\" width=\"725.4\" x=\"7.2\" y=\"7.2\"/>\r\n  </clipPath>\r\n </defs>\r\n</svg>\r\n",
      "image/png": "[encoded data removed]"
     },
     "metadata": {
      "needs_background": "light"
     }
    }
   ],
   "source": [
    "plt.figure(1,figsize=(13, 13))\n",
    "# clean\n",
    "text = df_tweet.text.values\n",
    "cloud_word = WordCloud(\n",
    "                          stopwords=STOPWORDS,\n",
    "                          background_color='white',\n",
    "                          collocations=False,\n",
    "                          width=2500,\n",
    "                          height=1800\n",
    "                         ).generate(\" \".join(text))\n",
    "plt.axis('off')\n",
    "plt.imshow(cloud_word)"
   ]
  },
  {
   "cell_type": "markdown",
   "metadata": {},
   "source": [
    "## Topic Modeling and Latent Dirichlet Allocation (LDA)\n",
    "- Topic modeling is a type of statistical modeling for discovering the abstract “topics” that occur in a collection of documents.\n",
    "- LDA is an example of topic model and is used to classify text in a document to a particular topic. It builds a topic per document model and words per topic model,    modeled as Dirichlet distributions."
   ]
  },
  {
   "cell_type": "code",
   "execution_count": 136,
   "metadata": {},
   "outputs": [
    {
     "output_type": "stream",
     "name": "stdout",
     "text": "Index(['id', 'date', 'username', 'text'], dtype='object')\n(99951, 4)\n"
    }
   ],
   "source": [
    "print(df_tweet.columns)\n",
    "print(df_tweet.shape)"
   ]
  },
  {
   "cell_type": "code",
   "execution_count": 27,
   "metadata": {},
   "outputs": [
    {
     "output_type": "stream",
     "name": "stdout",
     "text": "bag shape:  (99951, 106192)\n                word  count\n0        coronavirus  88314\n1                 de  38870\n2                 la  21848\n3                 el  20660\n4                que  19488\n...              ...    ...\n106187       yourdad      1\n106188     seríssimo      1\n106189        ceifou      1\n106190        ceifar      1\n106191  lulinhaslivr      1\n\n[106192 rows x 2 columns]\n"
    }
   ],
   "source": [
    "#word\n",
    "def get_top_n_words(corpus):\n",
    "    vec = CountVectorizer().fit(corpus)\n",
    "    bag_of_words = vec.transform(corpus)\n",
    "    print('bag shape: ', bag_of_words.shape)\n",
    "    sum_words = bag_of_words.sum(axis=0) \n",
    "    words_freq = [(word, sum_words[0, idx]) for word, idx in vec.vocabulary_.items()]\n",
    "    words_freq =sorted(words_freq, key = lambda x: x[1], reverse=True)\n",
    "    return words_freq\n",
    "\n",
    "common_words = get_top_n_words(df_tweet['text'])\n",
    "df5 = pd.DataFrame(common_words, columns = ['word' , 'count'])\n",
    "print(df5)\n",
    ""
   ]
  },
  {
   "cell_type": "code",
   "execution_count": 138,
   "metadata": {},
   "outputs": [
    {
     "output_type": "stream",
     "name": "stdout",
     "text": "count\ncount  106192.000000\nmean       14.750066\nstd       341.297090\nmin         1.000000\n25%         1.000000\n50%         1.000000\n75%         3.000000\nmax     88314.000000\n"
    }
   ],
   "source": [
    "print(df5.describe())"
   ]
  },
  {
   "cell_type": "code",
   "execution_count": 139,
   "metadata": {},
   "outputs": [
    {
     "output_type": "display_data",
     "data": {
      "application/vnd.plotly.v1+json": {
       "config": {
        "plotlyServerURL": "https://plot.ly"
       },
       "data": [
        {
         "type": "bar",
         "x": [
          "coronavirus",
          "de",
          "la",
          "el",
          "que",
          "en",
          "por",
          "corona",
          "virus",
          "del",
          "se",
          "los",
          "para",
          "trump",
          "via",
          "covid19",
          "covid",
          "coronavírus",
          "19",
          "un"
         ],
         "y": [
          88314,
          38870,
          21848,
          20660,
          19488,
          16362,
          10188,
          9468,
          8553,
          7730,
          7399,
          7183,
          7134,
          6765,
          6736,
          5914,
          5806,
          5581,
          5466,
          5436
         ]
        }
       ],
       "layout": {
        "template": {
         "data": {
          "bar": [
           {
            "error_x": {
             "color": "#2a3f5f"
            },
            "error_y": {
             "color": "#2a3f5f"
            },
            "marker": {
             "line": {
              "color": "#E5ECF6",
              "width": 0.5
             }
            },
            "type": "bar"
           }
          ],
          "barpolar": [
           {
            "marker": {
             "line": {
              "color": "#E5ECF6",
              "width": 0.5
             }
            },
            "type": "barpolar"
           }
          ],
          "carpet": [
           {
            "aaxis": {
             "endlinecolor": "#2a3f5f",
             "gridcolor": "white",
             "linecolor": "white",
             "minorgridcolor": "white",
             "startlinecolor": "#2a3f5f"
            },
            "baxis": {
             "endlinecolor": "#2a3f5f",
             "gridcolor": "white",
             "linecolor": "white",
             "minorgridcolor": "white",
             "startlinecolor": "#2a3f5f"
            },
            "type": "carpet"
           }
          ],
          "choropleth": [
           {
            "colorbar": {
             "outlinewidth": 0,
             "ticks": ""
            },
            "type": "choropleth"
           }
          ],
          "contour": [
           {
            "colorbar": {
             "outlinewidth": 0,
             "ticks": ""
            },
            "colorscale": [
             [
              0,
              "#0d0887"
             ],
             [
              0.1111111111111111,
              "#46039f"
             ],
             [
              0.2222222222222222,
              "#7201a8"
             ],
             [
              0.3333333333333333,
              "#9c179e"
             ],
             [
              0.4444444444444444,
              "#bd3786"
             ],
             [
              0.5555555555555556,
              "#d8576b"
             ],
             [
              0.6666666666666666,
              "#ed7953"
             ],
             [
              0.7777777777777778,
              "#fb9f3a"
             ],
             [
              0.8888888888888888,
              "#fdca26"
             ],
             [
              1,
              "#f0f921"
             ]
            ],
            "type": "contour"
           }
          ],
          "contourcarpet": [
           {
            "colorbar": {
             "outlinewidth": 0,
             "ticks": ""
            },
            "type": "contourcarpet"
           }
          ],
          "heatmap": [
           {
            "colorbar": {
             "outlinewidth": 0,
             "ticks": ""
            },
            "colorscale": [
             [
              0,
              "#0d0887"
             ],
             [
              0.1111111111111111,
              "#46039f"
             ],
             [
              0.2222222222222222,
              "#7201a8"
             ],
             [
              0.3333333333333333,
              "#9c179e"
             ],
             [
              0.4444444444444444,
              "#bd3786"
             ],
             [
              0.5555555555555556,
              "#d8576b"
             ],
             [
              0.6666666666666666,
              "#ed7953"
             ],
             [
              0.7777777777777778,
              "#fb9f3a"
             ],
             [
              0.8888888888888888,
              "#fdca26"
             ],
             [
              1,
              "#f0f921"
             ]
            ],
            "type": "heatmap"
           }
          ],
          "heatmapgl": [
           {
            "colorbar": {
             "outlinewidth": 0,
             "ticks": ""
            },
            "colorscale": [
             [
              0,
              "#0d0887"
             ],
             [
              0.1111111111111111,
              "#46039f"
             ],
             [
              0.2222222222222222,
              "#7201a8"
             ],
             [
              0.3333333333333333,
              "#9c179e"
             ],
             [
              0.4444444444444444,
              "#bd3786"
             ],
             [
              0.5555555555555556,
              "#d8576b"
             ],
             [
              0.6666666666666666,
              "#ed7953"
             ],
             [
              0.7777777777777778,
              "#fb9f3a"
             ],
             [
              0.8888888888888888,
              "#fdca26"
             ],
             [
              1,
              "#f0f921"
             ]
            ],
            "type": "heatmapgl"
           }
          ],
          "histogram": [
           {
            "marker": {
             "colorbar": {
              "outlinewidth": 0,
              "ticks": ""
             }
            },
            "type": "histogram"
           }
          ],
          "histogram2d": [
           {
            "colorbar": {
             "outlinewidth": 0,
             "ticks": ""
            },
            "colorscale": [
             [
              0,
              "#0d0887"
             ],
             [
              0.1111111111111111,
              "#46039f"
             ],
             [
              0.2222222222222222,
              "#7201a8"
             ],
             [
              0.3333333333333333,
              "#9c179e"
             ],
             [
              0.4444444444444444,
              "#bd3786"
             ],
             [
              0.5555555555555556,
              "#d8576b"
             ],
             [
              0.6666666666666666,
              "#ed7953"
             ],
             [
              0.7777777777777778,
              "#fb9f3a"
             ],
             [
              0.8888888888888888,
              "#fdca26"
             ],
             [
              1,
              "#f0f921"
             ]
            ],
            "type": "histogram2d"
           }
          ],
          "histogram2dcontour": [
           {
            "colorbar": {
             "outlinewidth": 0,
             "ticks": ""
            },
            "colorscale": [
             [
              0,
              "#0d0887"
             ],
             [
              0.1111111111111111,
              "#46039f"
             ],
             [
              0.2222222222222222,
              "#7201a8"
             ],
             [
              0.3333333333333333,
              "#9c179e"
             ],
             [
              0.4444444444444444,
              "#bd3786"
             ],
             [
              0.5555555555555556,
              "#d8576b"
             ],
             [
              0.6666666666666666,
              "#ed7953"
             ],
             [
              0.7777777777777778,
              "#fb9f3a"
             ],
             [
              0.8888888888888888,
              "#fdca26"
             ],
             [
              1,
              "#f0f921"
             ]
            ],
            "type": "histogram2dcontour"
           }
          ],
          "mesh3d": [
           {
            "colorbar": {
             "outlinewidth": 0,
             "ticks": ""
            },
            "type": "mesh3d"
           }
          ],
          "parcoords": [
           {
            "line": {
             "colorbar": {
              "outlinewidth": 0,
              "ticks": ""
             }
            },
            "type": "parcoords"
           }
          ],
          "pie": [
           {
            "automargin": true,
            "type": "pie"
           }
          ],
          "scatter": [
           {
            "marker": {
             "colorbar": {
              "outlinewidth": 0,
              "ticks": ""
             }
            },
            "type": "scatter"
           }
          ],
          "scatter3d": [
           {
            "line": {
             "colorbar": {
              "outlinewidth": 0,
              "ticks": ""
             }
            },
            "marker": {
             "colorbar": {
              "outlinewidth": 0,
              "ticks": ""
             }
            },
            "type": "scatter3d"
           }
          ],
          "scattercarpet": [
           {
            "marker": {
             "colorbar": {
              "outlinewidth": 0,
              "ticks": ""
             }
            },
            "type": "scattercarpet"
           }
          ],
          "scattergeo": [
           {
            "marker": {
             "colorbar": {
              "outlinewidth": 0,
              "ticks": ""
             }
            },
            "type": "scattergeo"
           }
          ],
          "scattergl": [
           {
            "marker": {
             "colorbar": {
              "outlinewidth": 0,
              "ticks": ""
             }
            },
            "type": "scattergl"
           }
          ],
          "scattermapbox": [
           {
            "marker": {
             "colorbar": {
              "outlinewidth": 0,
              "ticks": ""
             }
            },
            "type": "scattermapbox"
           }
          ],
          "scatterpolar": [
           {
            "marker": {
             "colorbar": {
              "outlinewidth": 0,
              "ticks": ""
             }
            },
            "type": "scatterpolar"
           }
          ],
          "scatterpolargl": [
           {
            "marker": {
             "colorbar": {
              "outlinewidth": 0,
              "ticks": ""
             }
            },
            "type": "scatterpolargl"
           }
          ],
          "scatterternary": [
           {
            "marker": {
             "colorbar": {
              "outlinewidth": 0,
              "ticks": ""
             }
            },
            "type": "scatterternary"
           }
          ],
          "surface": [
           {
            "colorbar": {
             "outlinewidth": 0,
             "ticks": ""
            },
            "colorscale": [
             [
              0,
              "#0d0887"
             ],
             [
              0.1111111111111111,
              "#46039f"
             ],
             [
              0.2222222222222222,
              "#7201a8"
             ],
             [
              0.3333333333333333,
              "#9c179e"
             ],
             [
              0.4444444444444444,
              "#bd3786"
             ],
             [
              0.5555555555555556,
              "#d8576b"
             ],
             [
              0.6666666666666666,
              "#ed7953"
             ],
             [
              0.7777777777777778,
              "#fb9f3a"
             ],
             [
              0.8888888888888888,
              "#fdca26"
             ],
             [
              1,
              "#f0f921"
             ]
            ],
            "type": "surface"
           }
          ],
          "table": [
           {
            "cells": {
             "fill": {
              "color": "#EBF0F8"
             },
             "line": {
              "color": "white"
             }
            },
            "header": {
             "fill": {
              "color": "#C8D4E3"
             },
             "line": {
              "color": "white"
             }
            },
            "type": "table"
           }
          ]
         },
         "layout": {
          "annotationdefaults": {
           "arrowcolor": "#2a3f5f",
           "arrowhead": 0,
           "arrowwidth": 1
          },
          "coloraxis": {
           "colorbar": {
            "outlinewidth": 0,
            "ticks": ""
           }
          },
          "colorscale": {
           "diverging": [
            [
             0,
             "#8e0152"
            ],
            [
             0.1,
             "#c51b7d"
            ],
            [
             0.2,
             "#de77ae"
            ],
            [
             0.3,
             "#f1b6da"
            ],
            [
             0.4,
             "#fde0ef"
            ],
            [
             0.5,
             "#f7f7f7"
            ],
            [
             0.6,
             "#e6f5d0"
            ],
            [
             0.7,
             "#b8e186"
            ],
            [
             0.8,
             "#7fbc41"
            ],
            [
             0.9,
             "#4d9221"
            ],
            [
             1,
             "#276419"
            ]
           ],
           "sequential": [
            [
             0,
             "#0d0887"
            ],
            [
             0.1111111111111111,
             "#46039f"
            ],
            [
             0.2222222222222222,
             "#7201a8"
            ],
            [
             0.3333333333333333,
             "#9c179e"
            ],
            [
             0.4444444444444444,
             "#bd3786"
            ],
            [
             0.5555555555555556,
             "#d8576b"
            ],
            [
             0.6666666666666666,
             "#ed7953"
            ],
            [
             0.7777777777777778,
             "#fb9f3a"
            ],
            [
             0.8888888888888888,
             "#fdca26"
            ],
            [
             1,
             "#f0f921"
            ]
           ],
           "sequentialminus": [
            [
             0,
             "#0d0887"
            ],
            [
             0.1111111111111111,
             "#46039f"
            ],
            [
             0.2222222222222222,
             "#7201a8"
            ],
            [
             0.3333333333333333,
             "#9c179e"
            ],
            [
             0.4444444444444444,
             "#bd3786"
            ],
            [
             0.5555555555555556,
             "#d8576b"
            ],
            [
             0.6666666666666666,
             "#ed7953"
            ],
            [
             0.7777777777777778,
             "#fb9f3a"
            ],
            [
             0.8888888888888888,
             "#fdca26"
            ],
            [
             1,
             "#f0f921"
            ]
           ]
          },
          "colorway": [
           "#636efa",
           "#EF553B",
           "#00cc96",
           "#ab63fa",
           "#FFA15A",
           "#19d3f3",
           "#FF6692",
           "#B6E880",
           "#FF97FF",
           "#FECB52"
          ],
          "font": {
           "color": "#2a3f5f"
          },
          "geo": {
           "bgcolor": "white",
           "lakecolor": "white",
           "landcolor": "#E5ECF6",
           "showlakes": true,
           "showland": true,
           "subunitcolor": "white"
          },
          "hoverlabel": {
           "align": "left"
          },
          "hovermode": "closest",
          "mapbox": {
           "style": "light"
          },
          "paper_bgcolor": "white",
          "plot_bgcolor": "#E5ECF6",
          "polar": {
           "angularaxis": {
            "gridcolor": "white",
            "linecolor": "white",
            "ticks": ""
           },
           "bgcolor": "#E5ECF6",
           "radialaxis": {
            "gridcolor": "white",
            "linecolor": "white",
            "ticks": ""
           }
          },
          "scene": {
           "xaxis": {
            "backgroundcolor": "#E5ECF6",
            "gridcolor": "white",
            "gridwidth": 2,
            "linecolor": "white",
            "showbackground": true,
            "ticks": "",
            "zerolinecolor": "white"
           },
           "yaxis": {
            "backgroundcolor": "#E5ECF6",
            "gridcolor": "white",
            "gridwidth": 2,
            "linecolor": "white",
            "showbackground": true,
            "ticks": "",
            "zerolinecolor": "white"
           },
           "zaxis": {
            "backgroundcolor": "#E5ECF6",
            "gridcolor": "white",
            "gridwidth": 2,
            "linecolor": "white",
            "showbackground": true,
            "ticks": "",
            "zerolinecolor": "white"
           }
          },
          "shapedefaults": {
           "line": {
            "color": "#2a3f5f"
           }
          },
          "ternary": {
           "aaxis": {
            "gridcolor": "white",
            "linecolor": "white",
            "ticks": ""
           },
           "baxis": {
            "gridcolor": "white",
            "linecolor": "white",
            "ticks": ""
           },
           "bgcolor": "#E5ECF6",
           "caxis": {
            "gridcolor": "white",
            "linecolor": "white",
            "ticks": ""
           }
          },
          "title": {
           "x": 0.05
          },
          "xaxis": {
           "automargin": true,
           "gridcolor": "white",
           "linecolor": "white",
           "ticks": "",
           "title": {
            "standoff": 15
           },
           "zerolinecolor": "white",
           "zerolinewidth": 2
          },
          "yaxis": {
           "automargin": true,
           "gridcolor": "white",
           "linecolor": "white",
           "ticks": "",
           "title": {
            "standoff": 15
           },
           "zerolinecolor": "white",
           "zerolinewidth": 2
          }
         }
        },
        "title": {
         "text": "Top 20 unigrams in the tweet text"
        },
        "xaxis": {
         "tickangle": 45
        }
       }
      }
     },
     "metadata": {}
    }
   ],
   "source": [
    "#unigram\n",
    "def get_top_n_words(corpus, n=None):\n",
    "    vec = CountVectorizer().fit(corpus)\n",
    "    bag_of_words = vec.transform(corpus)\n",
    "    sum_words = bag_of_words.sum(axis=0) \n",
    "    words_freq = [(word, sum_words[0, idx]) for word, idx in vec.vocabulary_.items()]\n",
    "    words_freq =sorted(words_freq, key = lambda x: x[1], reverse=True)\n",
    "    return words_freq[:n]\n",
    "\n",
    "common_words = get_top_n_words(df_tweet['text'], 20)\n",
    "df2 = pd.DataFrame(common_words, columns = ['unigram' , 'count'])\n",
    "\n",
    "fig = go.Figure([go.Bar(x=df2['unigram'], y=df2['count'])])\n",
    "fig.update_layout(title=go.layout.Title(text=\"Top 20 unigrams in the tweet text\"))\n",
    "fig.update_xaxes(tickangle=45)\n",
    "fig.show()"
   ]
  },
  {
   "cell_type": "code",
   "execution_count": 140,
   "metadata": {},
   "outputs": [
    {
     "output_type": "display_data",
     "data": {
      "application/vnd.plotly.v1+json": {
       "config": {
        "plotlyServerURL": "https://plot.ly"
       },
       "data": [
        {
         "type": "bar",
         "x": [
          "el coronavirus",
          "corona virus",
          "covid 19",
          "de coronavirus",
          "del coronavirus",
          "de la",
          "coronavirus en",
          "corona vírus",
          "coronavirus pandem",
          "por coronavirus",
          "en la",
          "en el",
          "coronavirus covid19",
          "caso de",
          "por el",
          "covid19 coronavirus",
          "via youtub",
          "coronavirus case",
          "que el",
          "coronavirus crisi"
         ],
         "y": [
          6535,
          6114,
          5029,
          4106,
          3561,
          3452,
          3099,
          2693,
          2470,
          2255,
          1942,
          1913,
          1738,
          1584,
          1577,
          1292,
          1195,
          1141,
          1120,
          1117
         ]
        }
       ],
       "layout": {
        "template": {
         "data": {
          "bar": [
           {
            "error_x": {
             "color": "#2a3f5f"
            },
            "error_y": {
             "color": "#2a3f5f"
            },
            "marker": {
             "line": {
              "color": "#E5ECF6",
              "width": 0.5
             }
            },
            "type": "bar"
           }
          ],
          "barpolar": [
           {
            "marker": {
             "line": {
              "color": "#E5ECF6",
              "width": 0.5
             }
            },
            "type": "barpolar"
           }
          ],
          "carpet": [
           {
            "aaxis": {
             "endlinecolor": "#2a3f5f",
             "gridcolor": "white",
             "linecolor": "white",
             "minorgridcolor": "white",
             "startlinecolor": "#2a3f5f"
            },
            "baxis": {
             "endlinecolor": "#2a3f5f",
             "gridcolor": "white",
             "linecolor": "white",
             "minorgridcolor": "white",
             "startlinecolor": "#2a3f5f"
            },
            "type": "carpet"
           }
          ],
          "choropleth": [
           {
            "colorbar": {
             "outlinewidth": 0,
             "ticks": ""
            },
            "type": "choropleth"
           }
          ],
          "contour": [
           {
            "colorbar": {
             "outlinewidth": 0,
             "ticks": ""
            },
            "colorscale": [
             [
              0,
              "#0d0887"
             ],
             [
              0.1111111111111111,
              "#46039f"
             ],
             [
              0.2222222222222222,
              "#7201a8"
             ],
             [
              0.3333333333333333,
              "#9c179e"
             ],
             [
              0.4444444444444444,
              "#bd3786"
             ],
             [
              0.5555555555555556,
              "#d8576b"
             ],
             [
              0.6666666666666666,
              "#ed7953"
             ],
             [
              0.7777777777777778,
              "#fb9f3a"
             ],
             [
              0.8888888888888888,
              "#fdca26"
             ],
             [
              1,
              "#f0f921"
             ]
            ],
            "type": "contour"
           }
          ],
          "contourcarpet": [
           {
            "colorbar": {
             "outlinewidth": 0,
             "ticks": ""
            },
            "type": "contourcarpet"
           }
          ],
          "heatmap": [
           {
            "colorbar": {
             "outlinewidth": 0,
             "ticks": ""
            },
            "colorscale": [
             [
              0,
              "#0d0887"
             ],
             [
              0.1111111111111111,
              "#46039f"
             ],
             [
              0.2222222222222222,
              "#7201a8"
             ],
             [
              0.3333333333333333,
              "#9c179e"
             ],
             [
              0.4444444444444444,
              "#bd3786"
             ],
             [
              0.5555555555555556,
              "#d8576b"
             ],
             [
              0.6666666666666666,
              "#ed7953"
             ],
             [
              0.7777777777777778,
              "#fb9f3a"
             ],
             [
              0.8888888888888888,
              "#fdca26"
             ],
             [
              1,
              "#f0f921"
             ]
            ],
            "type": "heatmap"
           }
          ],
          "heatmapgl": [
           {
            "colorbar": {
             "outlinewidth": 0,
             "ticks": ""
            },
            "colorscale": [
             [
              0,
              "#0d0887"
             ],
             [
              0.1111111111111111,
              "#46039f"
             ],
             [
              0.2222222222222222,
              "#7201a8"
             ],
             [
              0.3333333333333333,
              "#9c179e"
             ],
             [
              0.4444444444444444,
              "#bd3786"
             ],
             [
              0.5555555555555556,
              "#d8576b"
             ],
             [
              0.6666666666666666,
              "#ed7953"
             ],
             [
              0.7777777777777778,
              "#fb9f3a"
             ],
             [
              0.8888888888888888,
              "#fdca26"
             ],
             [
              1,
              "#f0f921"
             ]
            ],
            "type": "heatmapgl"
           }
          ],
          "histogram": [
           {
            "marker": {
             "colorbar": {
              "outlinewidth": 0,
              "ticks": ""
             }
            },
            "type": "histogram"
           }
          ],
          "histogram2d": [
           {
            "colorbar": {
             "outlinewidth": 0,
             "ticks": ""
            },
            "colorscale": [
             [
              0,
              "#0d0887"
             ],
             [
              0.1111111111111111,
              "#46039f"
             ],
             [
              0.2222222222222222,
              "#7201a8"
             ],
             [
              0.3333333333333333,
              "#9c179e"
             ],
             [
              0.4444444444444444,
              "#bd3786"
             ],
             [
              0.5555555555555556,
              "#d8576b"
             ],
             [
              0.6666666666666666,
              "#ed7953"
             ],
             [
              0.7777777777777778,
              "#fb9f3a"
             ],
             [
              0.8888888888888888,
              "#fdca26"
             ],
             [
              1,
              "#f0f921"
             ]
            ],
            "type": "histogram2d"
           }
          ],
          "histogram2dcontour": [
           {
            "colorbar": {
             "outlinewidth": 0,
             "ticks": ""
            },
            "colorscale": [
             [
              0,
              "#0d0887"
             ],
             [
              0.1111111111111111,
              "#46039f"
             ],
             [
              0.2222222222222222,
              "#7201a8"
             ],
             [
              0.3333333333333333,
              "#9c179e"
             ],
             [
              0.4444444444444444,
              "#bd3786"
             ],
             [
              0.5555555555555556,
              "#d8576b"
             ],
             [
              0.6666666666666666,
              "#ed7953"
             ],
             [
              0.7777777777777778,
              "#fb9f3a"
             ],
             [
              0.8888888888888888,
              "#fdca26"
             ],
             [
              1,
              "#f0f921"
             ]
            ],
            "type": "histogram2dcontour"
           }
          ],
          "mesh3d": [
           {
            "colorbar": {
             "outlinewidth": 0,
             "ticks": ""
            },
            "type": "mesh3d"
           }
          ],
          "parcoords": [
           {
            "line": {
             "colorbar": {
              "outlinewidth": 0,
              "ticks": ""
             }
            },
            "type": "parcoords"
           }
          ],
          "pie": [
           {
            "automargin": true,
            "type": "pie"
           }
          ],
          "scatter": [
           {
            "marker": {
             "colorbar": {
              "outlinewidth": 0,
              "ticks": ""
             }
            },
            "type": "scatter"
           }
          ],
          "scatter3d": [
           {
            "line": {
             "colorbar": {
              "outlinewidth": 0,
              "ticks": ""
             }
            },
            "marker": {
             "colorbar": {
              "outlinewidth": 0,
              "ticks": ""
             }
            },
            "type": "scatter3d"
           }
          ],
          "scattercarpet": [
           {
            "marker": {
             "colorbar": {
              "outlinewidth": 0,
              "ticks": ""
             }
            },
            "type": "scattercarpet"
           }
          ],
          "scattergeo": [
           {
            "marker": {
             "colorbar": {
              "outlinewidth": 0,
              "ticks": ""
             }
            },
            "type": "scattergeo"
           }
          ],
          "scattergl": [
           {
            "marker": {
             "colorbar": {
              "outlinewidth": 0,
              "ticks": ""
             }
            },
            "type": "scattergl"
           }
          ],
          "scattermapbox": [
           {
            "marker": {
             "colorbar": {
              "outlinewidth": 0,
              "ticks": ""
             }
            },
            "type": "scattermapbox"
           }
          ],
          "scatterpolar": [
           {
            "marker": {
             "colorbar": {
              "outlinewidth": 0,
              "ticks": ""
             }
            },
            "type": "scatterpolar"
           }
          ],
          "scatterpolargl": [
           {
            "marker": {
             "colorbar": {
              "outlinewidth": 0,
              "ticks": ""
             }
            },
            "type": "scatterpolargl"
           }
          ],
          "scatterternary": [
           {
            "marker": {
             "colorbar": {
              "outlinewidth": 0,
              "ticks": ""
             }
            },
            "type": "scatterternary"
           }
          ],
          "surface": [
           {
            "colorbar": {
             "outlinewidth": 0,
             "ticks": ""
            },
            "colorscale": [
             [
              0,
              "#0d0887"
             ],
             [
              0.1111111111111111,
              "#46039f"
             ],
             [
              0.2222222222222222,
              "#7201a8"
             ],
             [
              0.3333333333333333,
              "#9c179e"
             ],
             [
              0.4444444444444444,
              "#bd3786"
             ],
             [
              0.5555555555555556,
              "#d8576b"
             ],
             [
              0.6666666666666666,
              "#ed7953"
             ],
             [
              0.7777777777777778,
              "#fb9f3a"
             ],
             [
              0.8888888888888888,
              "#fdca26"
             ],
             [
              1,
              "#f0f921"
             ]
            ],
            "type": "surface"
           }
          ],
          "table": [
           {
            "cells": {
             "fill": {
              "color": "#EBF0F8"
             },
             "line": {
              "color": "white"
             }
            },
            "header": {
             "fill": {
              "color": "#C8D4E3"
             },
             "line": {
              "color": "white"
             }
            },
            "type": "table"
           }
          ]
         },
         "layout": {
          "annotationdefaults": {
           "arrowcolor": "#2a3f5f",
           "arrowhead": 0,
           "arrowwidth": 1
          },
          "coloraxis": {
           "colorbar": {
            "outlinewidth": 0,
            "ticks": ""
           }
          },
          "colorscale": {
           "diverging": [
            [
             0,
             "#8e0152"
            ],
            [
             0.1,
             "#c51b7d"
            ],
            [
             0.2,
             "#de77ae"
            ],
            [
             0.3,
             "#f1b6da"
            ],
            [
             0.4,
             "#fde0ef"
            ],
            [
             0.5,
             "#f7f7f7"
            ],
            [
             0.6,
             "#e6f5d0"
            ],
            [
             0.7,
             "#b8e186"
            ],
            [
             0.8,
             "#7fbc41"
            ],
            [
             0.9,
             "#4d9221"
            ],
            [
             1,
             "#276419"
            ]
           ],
           "sequential": [
            [
             0,
             "#0d0887"
            ],
            [
             0.1111111111111111,
             "#46039f"
            ],
            [
             0.2222222222222222,
             "#7201a8"
            ],
            [
             0.3333333333333333,
             "#9c179e"
            ],
            [
             0.4444444444444444,
             "#bd3786"
            ],
            [
             0.5555555555555556,
             "#d8576b"
            ],
            [
             0.6666666666666666,
             "#ed7953"
            ],
            [
             0.7777777777777778,
             "#fb9f3a"
            ],
            [
             0.8888888888888888,
             "#fdca26"
            ],
            [
             1,
             "#f0f921"
            ]
           ],
           "sequentialminus": [
            [
             0,
             "#0d0887"
            ],
            [
             0.1111111111111111,
             "#46039f"
            ],
            [
             0.2222222222222222,
             "#7201a8"
            ],
            [
             0.3333333333333333,
             "#9c179e"
            ],
            [
             0.4444444444444444,
             "#bd3786"
            ],
            [
             0.5555555555555556,
             "#d8576b"
            ],
            [
             0.6666666666666666,
             "#ed7953"
            ],
            [
             0.7777777777777778,
             "#fb9f3a"
            ],
            [
             0.8888888888888888,
             "#fdca26"
            ],
            [
             1,
             "#f0f921"
            ]
           ]
          },
          "colorway": [
           "#636efa",
           "#EF553B",
           "#00cc96",
           "#ab63fa",
           "#FFA15A",
           "#19d3f3",
           "#FF6692",
           "#B6E880",
           "#FF97FF",
           "#FECB52"
          ],
          "font": {
           "color": "#2a3f5f"
          },
          "geo": {
           "bgcolor": "white",
           "lakecolor": "white",
           "landcolor": "#E5ECF6",
           "showlakes": true,
           "showland": true,
           "subunitcolor": "white"
          },
          "hoverlabel": {
           "align": "left"
          },
          "hovermode": "closest",
          "mapbox": {
           "style": "light"
          },
          "paper_bgcolor": "white",
          "plot_bgcolor": "#E5ECF6",
          "polar": {
           "angularaxis": {
            "gridcolor": "white",
            "linecolor": "white",
            "ticks": ""
           },
           "bgcolor": "#E5ECF6",
           "radialaxis": {
            "gridcolor": "white",
            "linecolor": "white",
            "ticks": ""
           }
          },
          "scene": {
           "xaxis": {
            "backgroundcolor": "#E5ECF6",
            "gridcolor": "white",
            "gridwidth": 2,
            "linecolor": "white",
            "showbackground": true,
            "ticks": "",
            "zerolinecolor": "white"
           },
           "yaxis": {
            "backgroundcolor": "#E5ECF6",
            "gridcolor": "white",
            "gridwidth": 2,
            "linecolor": "white",
            "showbackground": true,
            "ticks": "",
            "zerolinecolor": "white"
           },
           "zaxis": {
            "backgroundcolor": "#E5ECF6",
            "gridcolor": "white",
            "gridwidth": 2,
            "linecolor": "white",
            "showbackground": true,
            "ticks": "",
            "zerolinecolor": "white"
           }
          },
          "shapedefaults": {
           "line": {
            "color": "#2a3f5f"
           }
          },
          "ternary": {
           "aaxis": {
            "gridcolor": "white",
            "linecolor": "white",
            "ticks": ""
           },
           "baxis": {
            "gridcolor": "white",
            "linecolor": "white",
            "ticks": ""
           },
           "bgcolor": "#E5ECF6",
           "caxis": {
            "gridcolor": "white",
            "linecolor": "white",
            "ticks": ""
           }
          },
          "title": {
           "x": 0.05
          },
          "xaxis": {
           "automargin": true,
           "gridcolor": "white",
           "linecolor": "white",
           "ticks": "",
           "title": {
            "standoff": 15
           },
           "zerolinecolor": "white",
           "zerolinewidth": 2
          },
          "yaxis": {
           "automargin": true,
           "gridcolor": "white",
           "linecolor": "white",
           "ticks": "",
           "title": {
            "standoff": 15
           },
           "zerolinecolor": "white",
           "zerolinewidth": 2
          }
         }
        },
        "title": {
         "text": "Top 20 bigrams in the comment text"
        },
        "xaxis": {
         "tickangle": 45
        }
       }
      }
     },
     "metadata": {}
    }
   ],
   "source": [
    "#bigram\n",
    "def get_top_n_bigram(corpus, n=None):\n",
    "    vec = CountVectorizer(ngram_range=(2, 2)).fit(corpus)\n",
    "    bag_of_words = vec.transform(corpus)\n",
    "    sum_words = bag_of_words.sum(axis=0) \n",
    "    words_freq = [(word, sum_words[0, idx]) for word, idx in vec.vocabulary_.items()]\n",
    "    words_freq =sorted(words_freq, key = lambda x: x[1], reverse=True)\n",
    "    return words_freq[:n]\n",
    "common_words = get_top_n_bigram(df_tweet['text'], 20)\n",
    "df3 = pd.DataFrame(common_words, columns = ['bigram' , 'count'])\n",
    "\n",
    "fig = go.Figure([go.Bar(x=df3['bigram'], y=df3['count'])])\n",
    "fig.update_layout(title=go.layout.Title(text=\"Top 20 bigrams in the comment text\"))\n",
    "fig.update_xaxes(tickangle=45)\n",
    "fig.show()"
   ]
  },
  {
   "cell_type": "code",
   "execution_count": 141,
   "metadata": {},
   "outputs": [
    {
     "output_type": "display_data",
     "data": {
      "application/vnd.plotly.v1+json": {
       "config": {
        "plotlyServerURL": "https://plot.ly"
       },
       "data": [
        {
         "type": "bar",
         "x": [
          "caso de coronavirus",
          "por el coronavirus",
          "coronavirus covid 19",
          "de coronavirus en",
          "contra el coronavirus",
          "test posit coronavirus",
          "covid 19 coronavirus",
          "que el coronavirus",
          "por coronavirus en",
          "coronavirus task forc",
          "nuevo caso de",
          "coronavirus en argentina",
          "en el paí",
          "coronavirus en la",
          "del coronavirus en",
          "coronavirus en el",
          "la pandemia del",
          "crisi del coronavirus",
          "pandemia del coronavirus",
          "con el coronavirus"
         ],
         "y": [
          1102,
          1087,
          951,
          903,
          711,
          690,
          555,
          498,
          482,
          460,
          438,
          406,
          401,
          379,
          377,
          365,
          350,
          343,
          339,
          337
         ]
        }
       ],
       "layout": {
        "template": {
         "data": {
          "bar": [
           {
            "error_x": {
             "color": "#2a3f5f"
            },
            "error_y": {
             "color": "#2a3f5f"
            },
            "marker": {
             "line": {
              "color": "#E5ECF6",
              "width": 0.5
             }
            },
            "type": "bar"
           }
          ],
          "barpolar": [
           {
            "marker": {
             "line": {
              "color": "#E5ECF6",
              "width": 0.5
             }
            },
            "type": "barpolar"
           }
          ],
          "carpet": [
           {
            "aaxis": {
             "endlinecolor": "#2a3f5f",
             "gridcolor": "white",
             "linecolor": "white",
             "minorgridcolor": "white",
             "startlinecolor": "#2a3f5f"
            },
            "baxis": {
             "endlinecolor": "#2a3f5f",
             "gridcolor": "white",
             "linecolor": "white",
             "minorgridcolor": "white",
             "startlinecolor": "#2a3f5f"
            },
            "type": "carpet"
           }
          ],
          "choropleth": [
           {
            "colorbar": {
             "outlinewidth": 0,
             "ticks": ""
            },
            "type": "choropleth"
           }
          ],
          "contour": [
           {
            "colorbar": {
             "outlinewidth": 0,
             "ticks": ""
            },
            "colorscale": [
             [
              0,
              "#0d0887"
             ],
             [
              0.1111111111111111,
              "#46039f"
             ],
             [
              0.2222222222222222,
              "#7201a8"
             ],
             [
              0.3333333333333333,
              "#9c179e"
             ],
             [
              0.4444444444444444,
              "#bd3786"
             ],
             [
              0.5555555555555556,
              "#d8576b"
             ],
             [
              0.6666666666666666,
              "#ed7953"
             ],
             [
              0.7777777777777778,
              "#fb9f3a"
             ],
             [
              0.8888888888888888,
              "#fdca26"
             ],
             [
              1,
              "#f0f921"
             ]
            ],
            "type": "contour"
           }
          ],
          "contourcarpet": [
           {
            "colorbar": {
             "outlinewidth": 0,
             "ticks": ""
            },
            "type": "contourcarpet"
           }
          ],
          "heatmap": [
           {
            "colorbar": {
             "outlinewidth": 0,
             "ticks": ""
            },
            "colorscale": [
             [
              0,
              "#0d0887"
             ],
             [
              0.1111111111111111,
              "#46039f"
             ],
             [
              0.2222222222222222,
              "#7201a8"
             ],
             [
              0.3333333333333333,
              "#9c179e"
             ],
             [
              0.4444444444444444,
              "#bd3786"
             ],
             [
              0.5555555555555556,
              "#d8576b"
             ],
             [
              0.6666666666666666,
              "#ed7953"
             ],
             [
              0.7777777777777778,
              "#fb9f3a"
             ],
             [
              0.8888888888888888,
              "#fdca26"
             ],
             [
              1,
              "#f0f921"
             ]
            ],
            "type": "heatmap"
           }
          ],
          "heatmapgl": [
           {
            "colorbar": {
             "outlinewidth": 0,
             "ticks": ""
            },
            "colorscale": [
             [
              0,
              "#0d0887"
             ],
             [
              0.1111111111111111,
              "#46039f"
             ],
             [
              0.2222222222222222,
              "#7201a8"
             ],
             [
              0.3333333333333333,
              "#9c179e"
             ],
             [
              0.4444444444444444,
              "#bd3786"
             ],
             [
              0.5555555555555556,
              "#d8576b"
             ],
             [
              0.6666666666666666,
              "#ed7953"
             ],
             [
              0.7777777777777778,
              "#fb9f3a"
             ],
             [
              0.8888888888888888,
              "#fdca26"
             ],
             [
              1,
              "#f0f921"
             ]
            ],
            "type": "heatmapgl"
           }
          ],
          "histogram": [
           {
            "marker": {
             "colorbar": {
              "outlinewidth": 0,
              "ticks": ""
             }
            },
            "type": "histogram"
           }
          ],
          "histogram2d": [
           {
            "colorbar": {
             "outlinewidth": 0,
             "ticks": ""
            },
            "colorscale": [
             [
              0,
              "#0d0887"
             ],
             [
              0.1111111111111111,
              "#46039f"
             ],
             [
              0.2222222222222222,
              "#7201a8"
             ],
             [
              0.3333333333333333,
              "#9c179e"
             ],
             [
              0.4444444444444444,
              "#bd3786"
             ],
             [
              0.5555555555555556,
              "#d8576b"
             ],
             [
              0.6666666666666666,
              "#ed7953"
             ],
             [
              0.7777777777777778,
              "#fb9f3a"
             ],
             [
              0.8888888888888888,
              "#fdca26"
             ],
             [
              1,
              "#f0f921"
             ]
            ],
            "type": "histogram2d"
           }
          ],
          "histogram2dcontour": [
           {
            "colorbar": {
             "outlinewidth": 0,
             "ticks": ""
            },
            "colorscale": [
             [
              0,
              "#0d0887"
             ],
             [
              0.1111111111111111,
              "#46039f"
             ],
             [
              0.2222222222222222,
              "#7201a8"
             ],
             [
              0.3333333333333333,
              "#9c179e"
             ],
             [
              0.4444444444444444,
              "#bd3786"
             ],
             [
              0.5555555555555556,
              "#d8576b"
             ],
             [
              0.6666666666666666,
              "#ed7953"
             ],
             [
              0.7777777777777778,
              "#fb9f3a"
             ],
             [
              0.8888888888888888,
              "#fdca26"
             ],
             [
              1,
              "#f0f921"
             ]
            ],
            "type": "histogram2dcontour"
           }
          ],
          "mesh3d": [
           {
            "colorbar": {
             "outlinewidth": 0,
             "ticks": ""
            },
            "type": "mesh3d"
           }
          ],
          "parcoords": [
           {
            "line": {
             "colorbar": {
              "outlinewidth": 0,
              "ticks": ""
             }
            },
            "type": "parcoords"
           }
          ],
          "pie": [
           {
            "automargin": true,
            "type": "pie"
           }
          ],
          "scatter": [
           {
            "marker": {
             "colorbar": {
              "outlinewidth": 0,
              "ticks": ""
             }
            },
            "type": "scatter"
           }
          ],
          "scatter3d": [
           {
            "line": {
             "colorbar": {
              "outlinewidth": 0,
              "ticks": ""
             }
            },
            "marker": {
             "colorbar": {
              "outlinewidth": 0,
              "ticks": ""
             }
            },
            "type": "scatter3d"
           }
          ],
          "scattercarpet": [
           {
            "marker": {
             "colorbar": {
              "outlinewidth": 0,
              "ticks": ""
             }
            },
            "type": "scattercarpet"
           }
          ],
          "scattergeo": [
           {
            "marker": {
             "colorbar": {
              "outlinewidth": 0,
              "ticks": ""
             }
            },
            "type": "scattergeo"
           }
          ],
          "scattergl": [
           {
            "marker": {
             "colorbar": {
              "outlinewidth": 0,
              "ticks": ""
             }
            },
            "type": "scattergl"
           }
          ],
          "scattermapbox": [
           {
            "marker": {
             "colorbar": {
              "outlinewidth": 0,
              "ticks": ""
             }
            },
            "type": "scattermapbox"
           }
          ],
          "scatterpolar": [
           {
            "marker": {
             "colorbar": {
              "outlinewidth": 0,
              "ticks": ""
             }
            },
            "type": "scatterpolar"
           }
          ],
          "scatterpolargl": [
           {
            "marker": {
             "colorbar": {
              "outlinewidth": 0,
              "ticks": ""
             }
            },
            "type": "scatterpolargl"
           }
          ],
          "scatterternary": [
           {
            "marker": {
             "colorbar": {
              "outlinewidth": 0,
              "ticks": ""
             }
            },
            "type": "scatterternary"
           }
          ],
          "surface": [
           {
            "colorbar": {
             "outlinewidth": 0,
             "ticks": ""
            },
            "colorscale": [
             [
              0,
              "#0d0887"
             ],
             [
              0.1111111111111111,
              "#46039f"
             ],
             [
              0.2222222222222222,
              "#7201a8"
             ],
             [
              0.3333333333333333,
              "#9c179e"
             ],
             [
              0.4444444444444444,
              "#bd3786"
             ],
             [
              0.5555555555555556,
              "#d8576b"
             ],
             [
              0.6666666666666666,
              "#ed7953"
             ],
             [
              0.7777777777777778,
              "#fb9f3a"
             ],
             [
              0.8888888888888888,
              "#fdca26"
             ],
             [
              1,
              "#f0f921"
             ]
            ],
            "type": "surface"
           }
          ],
          "table": [
           {
            "cells": {
             "fill": {
              "color": "#EBF0F8"
             },
             "line": {
              "color": "white"
             }
            },
            "header": {
             "fill": {
              "color": "#C8D4E3"
             },
             "line": {
              "color": "white"
             }
            },
            "type": "table"
           }
          ]
         },
         "layout": {
          "annotationdefaults": {
           "arrowcolor": "#2a3f5f",
           "arrowhead": 0,
           "arrowwidth": 1
          },
          "coloraxis": {
           "colorbar": {
            "outlinewidth": 0,
            "ticks": ""
           }
          },
          "colorscale": {
           "diverging": [
            [
             0,
             "#8e0152"
            ],
            [
             0.1,
             "#c51b7d"
            ],
            [
             0.2,
             "#de77ae"
            ],
            [
             0.3,
             "#f1b6da"
            ],
            [
             0.4,
             "#fde0ef"
            ],
            [
             0.5,
             "#f7f7f7"
            ],
            [
             0.6,
             "#e6f5d0"
            ],
            [
             0.7,
             "#b8e186"
            ],
            [
             0.8,
             "#7fbc41"
            ],
            [
             0.9,
             "#4d9221"
            ],
            [
             1,
             "#276419"
            ]
           ],
           "sequential": [
            [
             0,
             "#0d0887"
            ],
            [
             0.1111111111111111,
             "#46039f"
            ],
            [
             0.2222222222222222,
             "#7201a8"
            ],
            [
             0.3333333333333333,
             "#9c179e"
            ],
            [
             0.4444444444444444,
             "#bd3786"
            ],
            [
             0.5555555555555556,
             "#d8576b"
            ],
            [
             0.6666666666666666,
             "#ed7953"
            ],
            [
             0.7777777777777778,
             "#fb9f3a"
            ],
            [
             0.8888888888888888,
             "#fdca26"
            ],
            [
             1,
             "#f0f921"
            ]
           ],
           "sequentialminus": [
            [
             0,
             "#0d0887"
            ],
            [
             0.1111111111111111,
             "#46039f"
            ],
            [
             0.2222222222222222,
             "#7201a8"
            ],
            [
             0.3333333333333333,
             "#9c179e"
            ],
            [
             0.4444444444444444,
             "#bd3786"
            ],
            [
             0.5555555555555556,
             "#d8576b"
            ],
            [
             0.6666666666666666,
             "#ed7953"
            ],
            [
             0.7777777777777778,
             "#fb9f3a"
            ],
            [
             0.8888888888888888,
             "#fdca26"
            ],
            [
             1,
             "#f0f921"
            ]
           ]
          },
          "colorway": [
           "#636efa",
           "#EF553B",
           "#00cc96",
           "#ab63fa",
           "#FFA15A",
           "#19d3f3",
           "#FF6692",
           "#B6E880",
           "#FF97FF",
           "#FECB52"
          ],
          "font": {
           "color": "#2a3f5f"
          },
          "geo": {
           "bgcolor": "white",
           "lakecolor": "white",
           "landcolor": "#E5ECF6",
           "showlakes": true,
           "showland": true,
           "subunitcolor": "white"
          },
          "hoverlabel": {
           "align": "left"
          },
          "hovermode": "closest",
          "mapbox": {
           "style": "light"
          },
          "paper_bgcolor": "white",
          "plot_bgcolor": "#E5ECF6",
          "polar": {
           "angularaxis": {
            "gridcolor": "white",
            "linecolor": "white",
            "ticks": ""
           },
           "bgcolor": "#E5ECF6",
           "radialaxis": {
            "gridcolor": "white",
            "linecolor": "white",
            "ticks": ""
           }
          },
          "scene": {
           "xaxis": {
            "backgroundcolor": "#E5ECF6",
            "gridcolor": "white",
            "gridwidth": 2,
            "linecolor": "white",
            "showbackground": true,
            "ticks": "",
            "zerolinecolor": "white"
           },
           "yaxis": {
            "backgroundcolor": "#E5ECF6",
            "gridcolor": "white",
            "gridwidth": 2,
            "linecolor": "white",
            "showbackground": true,
            "ticks": "",
            "zerolinecolor": "white"
           },
           "zaxis": {
            "backgroundcolor": "#E5ECF6",
            "gridcolor": "white",
            "gridwidth": 2,
            "linecolor": "white",
            "showbackground": true,
            "ticks": "",
            "zerolinecolor": "white"
           }
          },
          "shapedefaults": {
           "line": {
            "color": "#2a3f5f"
           }
          },
          "ternary": {
           "aaxis": {
            "gridcolor": "white",
            "linecolor": "white",
            "ticks": ""
           },
           "baxis": {
            "gridcolor": "white",
            "linecolor": "white",
            "ticks": ""
           },
           "bgcolor": "#E5ECF6",
           "caxis": {
            "gridcolor": "white",
            "linecolor": "white",
            "ticks": ""
           }
          },
          "title": {
           "x": 0.05
          },
          "xaxis": {
           "automargin": true,
           "gridcolor": "white",
           "linecolor": "white",
           "ticks": "",
           "title": {
            "standoff": 15
           },
           "zerolinecolor": "white",
           "zerolinewidth": 2
          },
          "yaxis": {
           "automargin": true,
           "gridcolor": "white",
           "linecolor": "white",
           "ticks": "",
           "title": {
            "standoff": 15
           },
           "zerolinecolor": "white",
           "zerolinewidth": 2
          }
         }
        },
        "title": {
         "text": "Top 20 trigrams in the comment text"
        },
        "xaxis": {
         "tickangle": 45
        }
       }
      }
     },
     "metadata": {}
    }
   ],
   "source": [
    "#trigram\n",
    "def get_top_n_trigram(corpus, n=None):\n",
    "    vec = CountVectorizer(ngram_range=(3, 3)).fit(corpus)\n",
    "    bag_of_words = vec.transform(corpus)\n",
    "    sum_words = bag_of_words.sum(axis=0) \n",
    "    words_freq = [(word, sum_words[0, idx]) for word, idx in vec.vocabulary_.items()]\n",
    "    words_freq =sorted(words_freq, key = lambda x: x[1], reverse=True)\n",
    "    return words_freq[:n]\n",
    "common_words = get_top_n_trigram(df_tweet['text'], 20)\n",
    "df4 = pd.DataFrame(common_words, columns = ['trigram' , 'count'])\n",
    "\n",
    "fig = go.Figure([go.Bar(x=df4['trigram'], y=df4['count'])])\n",
    "fig.update_layout(title=go.layout.Title(text=\"Top 20 trigrams in the comment text\"))\n",
    "fig.update_xaxes(tickangle=45)\n",
    "fig.show()"
   ]
  },
  {
   "cell_type": "code",
   "execution_count": 28,
   "metadata": {},
   "outputs": [
    {
     "output_type": "stream",
     "name": "stdout",
     "text": "Fitting LDA models with 99951 samples and 10000 TF features ...\niteration: 1 of max_iter: 3\niteration: 2 of max_iter: 3\niteration: 3 of max_iter: 3\niteration: 1 of max_iter: 3\niteration: 2 of max_iter: 3\niteration: 3 of max_iter: 3\niteration: 1 of max_iter: 3\niteration: 2 of max_iter: 3\niteration: 3 of max_iter: 3\niteration: 1 of max_iter: 3\niteration: 2 of max_iter: 3\niteration: 3 of max_iter: 3\niteration: 1 of max_iter: 3\niteration: 2 of max_iter: 3\niteration: 3 of max_iter: 3\niteration: 1 of max_iter: 3\niteration: 2 of max_iter: 3\niteration: 3 of max_iter: 3\niteration: 1 of max_iter: 3\niteration: 2 of max_iter: 3\niteration: 3 of max_iter: 3\niteration: 1 of max_iter: 3\niteration: 2 of max_iter: 3\niteration: 3 of max_iter: 3\niteration: 1 of max_iter: 3\niteration: 2 of max_iter: 3\niteration: 3 of max_iter: 3\niteration: 1 of max_iter: 3\niteration: 2 of max_iter: 3\niteration: 3 of max_iter: 3\niteration: 1 of max_iter: 3\niteration: 2 of max_iter: 3\niteration: 3 of max_iter: 3\niteration: 1 of max_iter: 3\niteration: 2 of max_iter: 3\niteration: 3 of max_iter: 3\niteration: 1 of max_iter: 3\niteration: 2 of max_iter: 3\niteration: 3 of max_iter: 3\niteration: 1 of max_iter: 3\niteration: 2 of max_iter: 3\niteration: 3 of max_iter: 3\nDone in 2005.835s.\n"
    }
   ],
   "source": [
    "#input=df_train['comment_text']\n",
    "#ngram_range=(1,3), max_features=5000\n",
    "#optimal=3\n",
    "\n",
    "#tf for LDA model\n",
    "cv = CountVectorizer(max_df=0.75, ngram_range=(1,3), max_features=10000) #max_features=10000, \n",
    "word_count_vector = cv.fit_transform(df_tweet['text'])\n",
    "\n",
    "#finding optimal number of topics for LDA model \n",
    "print(\"Fitting LDA models with %d samples and %d TF features ...\"\n",
    "      % (word_count_vector.shape[0], word_count_vector.shape[1]))\n",
    "t0 = time()\n",
    "ids = []\n",
    "ppls = []\n",
    "logs = []\n",
    "for n in range(2,16):\n",
    "    lda = LDA(n_components=n,               \n",
    "          max_iter=3,\n",
    "          learning_offset=10.,    \n",
    "          learning_method='online', \n",
    "          random_state=100,\n",
    "          batch_size=128,\n",
    "          n_jobs=-1,\n",
    "          verbose=1)\n",
    "    lda.fit(word_count_vector)\n",
    "    ppl_score = lda.bound_\n",
    "    ll_score = lda.score(word_count_vector)\n",
    "    ids.append(n)\n",
    "    ppls.append(ppl_score)\n",
    "    logs.append(ll_score)\n",
    "    \n",
    "print(\"Done in %0.3fs.\" % (time() - t0))"
   ]
  },
  {
   "cell_type": "code",
   "execution_count": 33,
   "metadata": {},
   "outputs": [
    {
     "output_type": "execute_result",
     "data": {
      "text/plain": "Text(0, 0.5, 'perplexity')"
     },
     "metadata": {},
     "execution_count": 33
    },
    {
     "output_type": "display_data",
     "data": {
      "text/plain": "<Figure size 576x432 with 1 Axes>",
      "image/svg+xml": "<?xml version=\"1.0\" encoding=\"utf-8\" standalone=\"no\"?>\r\n<!DOCTYPE svg PUBLIC \"-//W3C//DTD SVG 1.1//EN\"\r\n  \"http://www.w3.org/Graphics/SVG/1.1/DTD/svg11.dtd\">\r\n<!-- Created with matplotlib (https://matplotlib.org/) -->\r\n<svg height=\"386.034375pt\" version=\"1.1\" viewBox=\"0 0 506.928125 386.034375\" width=\"506.928125pt\" xmlns=\"http://www.w3.org/2000/svg\" xmlns:xlink=\"http://www.w3.org/1999/xlink\">\r\n <defs>\r\n  <style type=\"text/css\">\r\n*{stroke-linecap:butt;stroke-linejoin:round;}\r\n  </style>\r\n </defs>\r\n <g id=\"figure_1\">\r\n  <g id=\"patch_1\">\r\n   <path d=\"M 0 386.034375 \r\nL 506.928125 386.034375 \r\nL 506.928125 0 \r\nL 0 0 \r\nz\r\n\" style=\"fill:none;\"/>\r\n  </g>\r\n  <g id=\"axes_1\">\r\n   <g id=\"patch_2\">\r\n    <path d=\"M 53.328125 348.478125 \r\nL 499.728125 348.478125 \r\nL 499.728125 22.318125 \r\nL 53.328125 22.318125 \r\nz\r\n\" style=\"fill:#ffffff;\"/>\r\n   </g>\r\n   <g id=\"matplotlib.axis_1\">\r\n    <g id=\"xtick_1\">\r\n     <g id=\"line2d_1\">\r\n      <defs>\r\n       <path d=\"M 0 0 \r\nL 0 3.5 \r\n\" id=\"m72094dbaef\" style=\"stroke:#000000;stroke-width:0.8;\"/>\r\n      </defs>\r\n      <g>\r\n       <use style=\"stroke:#000000;stroke-width:0.8;\" x=\"73.619034\" xlink:href=\"#m72094dbaef\" y=\"348.478125\"/>\r\n      </g>\r\n     </g>\r\n     <g id=\"text_1\">\r\n      <!-- 2 -->\r\n      <defs>\r\n       <path d=\"M 19.1875 8.296875 \r\nL 53.609375 8.296875 \r\nL 53.609375 0 \r\nL 7.328125 0 \r\nL 7.328125 8.296875 \r\nQ 12.9375 14.109375 22.625 23.890625 \r\nQ 32.328125 33.6875 34.8125 36.53125 \r\nQ 39.546875 41.84375 41.421875 45.53125 \r\nQ 43.3125 49.21875 43.3125 52.78125 \r\nQ 43.3125 58.59375 39.234375 62.25 \r\nQ 35.15625 65.921875 28.609375 65.921875 \r\nQ 23.96875 65.921875 18.8125 64.3125 \r\nQ 13.671875 62.703125 7.8125 59.421875 \r\nL 7.8125 69.390625 \r\nQ 13.765625 71.78125 18.9375 73 \r\nQ 24.125 74.21875 28.421875 74.21875 \r\nQ 39.75 74.21875 46.484375 68.546875 \r\nQ 53.21875 62.890625 53.21875 53.421875 \r\nQ 53.21875 48.921875 51.53125 44.890625 \r\nQ 49.859375 40.875 45.40625 35.40625 \r\nQ 44.1875 33.984375 37.640625 27.21875 \r\nQ 31.109375 20.453125 19.1875 8.296875 \r\nz\r\n\" id=\"DejaVuSans-50\"/>\r\n      </defs>\r\n      <g transform=\"translate(70.437784 363.076562)scale(0.1 -0.1)\">\r\n       <use xlink:href=\"#DejaVuSans-50\"/>\r\n      </g>\r\n     </g>\r\n    </g>\r\n    <g id=\"xtick_2\">\r\n     <g id=\"line2d_2\">\r\n      <g>\r\n       <use style=\"stroke:#000000;stroke-width:0.8;\" x=\"136.052601\" xlink:href=\"#m72094dbaef\" y=\"348.478125\"/>\r\n      </g>\r\n     </g>\r\n     <g id=\"text_2\">\r\n      <!-- 4 -->\r\n      <defs>\r\n       <path d=\"M 37.796875 64.3125 \r\nL 12.890625 25.390625 \r\nL 37.796875 25.390625 \r\nz\r\nM 35.203125 72.90625 \r\nL 47.609375 72.90625 \r\nL 47.609375 25.390625 \r\nL 58.015625 25.390625 \r\nL 58.015625 17.1875 \r\nL 47.609375 17.1875 \r\nL 47.609375 0 \r\nL 37.796875 0 \r\nL 37.796875 17.1875 \r\nL 4.890625 17.1875 \r\nL 4.890625 26.703125 \r\nz\r\n\" id=\"DejaVuSans-52\"/>\r\n      </defs>\r\n      <g transform=\"translate(132.871351 363.076562)scale(0.1 -0.1)\">\r\n       <use xlink:href=\"#DejaVuSans-52\"/>\r\n      </g>\r\n     </g>\r\n    </g>\r\n    <g id=\"xtick_3\">\r\n     <g id=\"line2d_3\">\r\n      <g>\r\n       <use style=\"stroke:#000000;stroke-width:0.8;\" x=\"198.486167\" xlink:href=\"#m72094dbaef\" y=\"348.478125\"/>\r\n      </g>\r\n     </g>\r\n     <g id=\"text_3\">\r\n      <!-- 6 -->\r\n      <defs>\r\n       <path d=\"M 33.015625 40.375 \r\nQ 26.375 40.375 22.484375 35.828125 \r\nQ 18.609375 31.296875 18.609375 23.390625 \r\nQ 18.609375 15.53125 22.484375 10.953125 \r\nQ 26.375 6.390625 33.015625 6.390625 \r\nQ 39.65625 6.390625 43.53125 10.953125 \r\nQ 47.40625 15.53125 47.40625 23.390625 \r\nQ 47.40625 31.296875 43.53125 35.828125 \r\nQ 39.65625 40.375 33.015625 40.375 \r\nz\r\nM 52.59375 71.296875 \r\nL 52.59375 62.3125 \r\nQ 48.875 64.0625 45.09375 64.984375 \r\nQ 41.3125 65.921875 37.59375 65.921875 \r\nQ 27.828125 65.921875 22.671875 59.328125 \r\nQ 17.53125 52.734375 16.796875 39.40625 \r\nQ 19.671875 43.65625 24.015625 45.921875 \r\nQ 28.375 48.1875 33.59375 48.1875 \r\nQ 44.578125 48.1875 50.953125 41.515625 \r\nQ 57.328125 34.859375 57.328125 23.390625 \r\nQ 57.328125 12.15625 50.6875 5.359375 \r\nQ 44.046875 -1.421875 33.015625 -1.421875 \r\nQ 20.359375 -1.421875 13.671875 8.265625 \r\nQ 6.984375 17.96875 6.984375 36.375 \r\nQ 6.984375 53.65625 15.1875 63.9375 \r\nQ 23.390625 74.21875 37.203125 74.21875 \r\nQ 40.921875 74.21875 44.703125 73.484375 \r\nQ 48.484375 72.75 52.59375 71.296875 \r\nz\r\n\" id=\"DejaVuSans-54\"/>\r\n      </defs>\r\n      <g transform=\"translate(195.304917 363.076562)scale(0.1 -0.1)\">\r\n       <use xlink:href=\"#DejaVuSans-54\"/>\r\n      </g>\r\n     </g>\r\n    </g>\r\n    <g id=\"xtick_4\">\r\n     <g id=\"line2d_4\">\r\n      <g>\r\n       <use style=\"stroke:#000000;stroke-width:0.8;\" x=\"260.919733\" xlink:href=\"#m72094dbaef\" y=\"348.478125\"/>\r\n      </g>\r\n     </g>\r\n     <g id=\"text_4\">\r\n      <!-- 8 -->\r\n      <defs>\r\n       <path d=\"M 31.78125 34.625 \r\nQ 24.75 34.625 20.71875 30.859375 \r\nQ 16.703125 27.09375 16.703125 20.515625 \r\nQ 16.703125 13.921875 20.71875 10.15625 \r\nQ 24.75 6.390625 31.78125 6.390625 \r\nQ 38.8125 6.390625 42.859375 10.171875 \r\nQ 46.921875 13.96875 46.921875 20.515625 \r\nQ 46.921875 27.09375 42.890625 30.859375 \r\nQ 38.875 34.625 31.78125 34.625 \r\nz\r\nM 21.921875 38.8125 \r\nQ 15.578125 40.375 12.03125 44.71875 \r\nQ 8.5 49.078125 8.5 55.328125 \r\nQ 8.5 64.0625 14.71875 69.140625 \r\nQ 20.953125 74.21875 31.78125 74.21875 \r\nQ 42.671875 74.21875 48.875 69.140625 \r\nQ 55.078125 64.0625 55.078125 55.328125 \r\nQ 55.078125 49.078125 51.53125 44.71875 \r\nQ 48 40.375 41.703125 38.8125 \r\nQ 48.828125 37.15625 52.796875 32.3125 \r\nQ 56.78125 27.484375 56.78125 20.515625 \r\nQ 56.78125 9.90625 50.3125 4.234375 \r\nQ 43.84375 -1.421875 31.78125 -1.421875 \r\nQ 19.734375 -1.421875 13.25 4.234375 \r\nQ 6.78125 9.90625 6.78125 20.515625 \r\nQ 6.78125 27.484375 10.78125 32.3125 \r\nQ 14.796875 37.15625 21.921875 38.8125 \r\nz\r\nM 18.3125 54.390625 \r\nQ 18.3125 48.734375 21.84375 45.5625 \r\nQ 25.390625 42.390625 31.78125 42.390625 \r\nQ 38.140625 42.390625 41.71875 45.5625 \r\nQ 45.3125 48.734375 45.3125 54.390625 \r\nQ 45.3125 60.0625 41.71875 63.234375 \r\nQ 38.140625 66.40625 31.78125 66.40625 \r\nQ 25.390625 66.40625 21.84375 63.234375 \r\nQ 18.3125 60.0625 18.3125 54.390625 \r\nz\r\n\" id=\"DejaVuSans-56\"/>\r\n      </defs>\r\n      <g transform=\"translate(257.738483 363.076562)scale(0.1 -0.1)\">\r\n       <use xlink:href=\"#DejaVuSans-56\"/>\r\n      </g>\r\n     </g>\r\n    </g>\r\n    <g id=\"xtick_5\">\r\n     <g id=\"line2d_5\">\r\n      <g>\r\n       <use style=\"stroke:#000000;stroke-width:0.8;\" x=\"323.3533\" xlink:href=\"#m72094dbaef\" y=\"348.478125\"/>\r\n      </g>\r\n     </g>\r\n     <g id=\"text_5\">\r\n      <!-- 10 -->\r\n      <defs>\r\n       <path d=\"M 12.40625 8.296875 \r\nL 28.515625 8.296875 \r\nL 28.515625 63.921875 \r\nL 10.984375 60.40625 \r\nL 10.984375 69.390625 \r\nL 28.421875 72.90625 \r\nL 38.28125 72.90625 \r\nL 38.28125 8.296875 \r\nL 54.390625 8.296875 \r\nL 54.390625 0 \r\nL 12.40625 0 \r\nz\r\n\" id=\"DejaVuSans-49\"/>\r\n       <path d=\"M 31.78125 66.40625 \r\nQ 24.171875 66.40625 20.328125 58.90625 \r\nQ 16.5 51.421875 16.5 36.375 \r\nQ 16.5 21.390625 20.328125 13.890625 \r\nQ 24.171875 6.390625 31.78125 6.390625 \r\nQ 39.453125 6.390625 43.28125 13.890625 \r\nQ 47.125 21.390625 47.125 36.375 \r\nQ 47.125 51.421875 43.28125 58.90625 \r\nQ 39.453125 66.40625 31.78125 66.40625 \r\nz\r\nM 31.78125 74.21875 \r\nQ 44.046875 74.21875 50.515625 64.515625 \r\nQ 56.984375 54.828125 56.984375 36.375 \r\nQ 56.984375 17.96875 50.515625 8.265625 \r\nQ 44.046875 -1.421875 31.78125 -1.421875 \r\nQ 19.53125 -1.421875 13.0625 8.265625 \r\nQ 6.59375 17.96875 6.59375 36.375 \r\nQ 6.59375 54.828125 13.0625 64.515625 \r\nQ 19.53125 74.21875 31.78125 74.21875 \r\nz\r\n\" id=\"DejaVuSans-48\"/>\r\n      </defs>\r\n      <g transform=\"translate(316.9908 363.076562)scale(0.1 -0.1)\">\r\n       <use xlink:href=\"#DejaVuSans-49\"/>\r\n       <use x=\"63.623047\" xlink:href=\"#DejaVuSans-48\"/>\r\n      </g>\r\n     </g>\r\n    </g>\r\n    <g id=\"xtick_6\">\r\n     <g id=\"line2d_6\">\r\n      <g>\r\n       <use style=\"stroke:#000000;stroke-width:0.8;\" x=\"385.786866\" xlink:href=\"#m72094dbaef\" y=\"348.478125\"/>\r\n      </g>\r\n     </g>\r\n     <g id=\"text_6\">\r\n      <!-- 12 -->\r\n      <g transform=\"translate(379.424366 363.076562)scale(0.1 -0.1)\">\r\n       <use xlink:href=\"#DejaVuSans-49\"/>\r\n       <use x=\"63.623047\" xlink:href=\"#DejaVuSans-50\"/>\r\n      </g>\r\n     </g>\r\n    </g>\r\n    <g id=\"xtick_7\">\r\n     <g id=\"line2d_7\">\r\n      <g>\r\n       <use style=\"stroke:#000000;stroke-width:0.8;\" x=\"448.220433\" xlink:href=\"#m72094dbaef\" y=\"348.478125\"/>\r\n      </g>\r\n     </g>\r\n     <g id=\"text_7\">\r\n      <!-- 14 -->\r\n      <g transform=\"translate(441.857933 363.076562)scale(0.1 -0.1)\">\r\n       <use xlink:href=\"#DejaVuSans-49\"/>\r\n       <use x=\"63.623047\" xlink:href=\"#DejaVuSans-52\"/>\r\n      </g>\r\n     </g>\r\n    </g>\r\n    <g id=\"text_8\">\r\n     <!-- number of topics -->\r\n     <defs>\r\n      <path d=\"M 54.890625 33.015625 \r\nL 54.890625 0 \r\nL 45.90625 0 \r\nL 45.90625 32.71875 \r\nQ 45.90625 40.484375 42.875 44.328125 \r\nQ 39.84375 48.1875 33.796875 48.1875 \r\nQ 26.515625 48.1875 22.3125 43.546875 \r\nQ 18.109375 38.921875 18.109375 30.90625 \r\nL 18.109375 0 \r\nL 9.078125 0 \r\nL 9.078125 54.6875 \r\nL 18.109375 54.6875 \r\nL 18.109375 46.1875 \r\nQ 21.34375 51.125 25.703125 53.5625 \r\nQ 30.078125 56 35.796875 56 \r\nQ 45.21875 56 50.046875 50.171875 \r\nQ 54.890625 44.34375 54.890625 33.015625 \r\nz\r\n\" id=\"DejaVuSans-110\"/>\r\n      <path d=\"M 8.5 21.578125 \r\nL 8.5 54.6875 \r\nL 17.484375 54.6875 \r\nL 17.484375 21.921875 \r\nQ 17.484375 14.15625 20.5 10.265625 \r\nQ 23.53125 6.390625 29.59375 6.390625 \r\nQ 36.859375 6.390625 41.078125 11.03125 \r\nQ 45.3125 15.671875 45.3125 23.6875 \r\nL 45.3125 54.6875 \r\nL 54.296875 54.6875 \r\nL 54.296875 0 \r\nL 45.3125 0 \r\nL 45.3125 8.40625 \r\nQ 42.046875 3.421875 37.71875 1 \r\nQ 33.40625 -1.421875 27.6875 -1.421875 \r\nQ 18.265625 -1.421875 13.375 4.4375 \r\nQ 8.5 10.296875 8.5 21.578125 \r\nz\r\nM 31.109375 56 \r\nz\r\n\" id=\"DejaVuSans-117\"/>\r\n      <path d=\"M 52 44.1875 \r\nQ 55.375 50.25 60.0625 53.125 \r\nQ 64.75 56 71.09375 56 \r\nQ 79.640625 56 84.28125 50.015625 \r\nQ 88.921875 44.046875 88.921875 33.015625 \r\nL 88.921875 0 \r\nL 79.890625 0 \r\nL 79.890625 32.71875 \r\nQ 79.890625 40.578125 77.09375 44.375 \r\nQ 74.3125 48.1875 68.609375 48.1875 \r\nQ 61.625 48.1875 57.5625 43.546875 \r\nQ 53.515625 38.921875 53.515625 30.90625 \r\nL 53.515625 0 \r\nL 44.484375 0 \r\nL 44.484375 32.71875 \r\nQ 44.484375 40.625 41.703125 44.40625 \r\nQ 38.921875 48.1875 33.109375 48.1875 \r\nQ 26.21875 48.1875 22.15625 43.53125 \r\nQ 18.109375 38.875 18.109375 30.90625 \r\nL 18.109375 0 \r\nL 9.078125 0 \r\nL 9.078125 54.6875 \r\nL 18.109375 54.6875 \r\nL 18.109375 46.1875 \r\nQ 21.1875 51.21875 25.484375 53.609375 \r\nQ 29.78125 56 35.6875 56 \r\nQ 41.65625 56 45.828125 52.96875 \r\nQ 50 49.953125 52 44.1875 \r\nz\r\n\" id=\"DejaVuSans-109\"/>\r\n      <path d=\"M 48.6875 27.296875 \r\nQ 48.6875 37.203125 44.609375 42.84375 \r\nQ 40.53125 48.484375 33.40625 48.484375 \r\nQ 26.265625 48.484375 22.1875 42.84375 \r\nQ 18.109375 37.203125 18.109375 27.296875 \r\nQ 18.109375 17.390625 22.1875 11.75 \r\nQ 26.265625 6.109375 33.40625 6.109375 \r\nQ 40.53125 6.109375 44.609375 11.75 \r\nQ 48.6875 17.390625 48.6875 27.296875 \r\nz\r\nM 18.109375 46.390625 \r\nQ 20.953125 51.265625 25.265625 53.625 \r\nQ 29.59375 56 35.59375 56 \r\nQ 45.5625 56 51.78125 48.09375 \r\nQ 58.015625 40.1875 58.015625 27.296875 \r\nQ 58.015625 14.40625 51.78125 6.484375 \r\nQ 45.5625 -1.421875 35.59375 -1.421875 \r\nQ 29.59375 -1.421875 25.265625 0.953125 \r\nQ 20.953125 3.328125 18.109375 8.203125 \r\nL 18.109375 0 \r\nL 9.078125 0 \r\nL 9.078125 75.984375 \r\nL 18.109375 75.984375 \r\nz\r\n\" id=\"DejaVuSans-98\"/>\r\n      <path d=\"M 56.203125 29.59375 \r\nL 56.203125 25.203125 \r\nL 14.890625 25.203125 \r\nQ 15.484375 15.921875 20.484375 11.0625 \r\nQ 25.484375 6.203125 34.421875 6.203125 \r\nQ 39.59375 6.203125 44.453125 7.46875 \r\nQ 49.3125 8.734375 54.109375 11.28125 \r\nL 54.109375 2.78125 \r\nQ 49.265625 0.734375 44.1875 -0.34375 \r\nQ 39.109375 -1.421875 33.890625 -1.421875 \r\nQ 20.796875 -1.421875 13.15625 6.1875 \r\nQ 5.515625 13.8125 5.515625 26.8125 \r\nQ 5.515625 40.234375 12.765625 48.109375 \r\nQ 20.015625 56 32.328125 56 \r\nQ 43.359375 56 49.78125 48.890625 \r\nQ 56.203125 41.796875 56.203125 29.59375 \r\nz\r\nM 47.21875 32.234375 \r\nQ 47.125 39.59375 43.09375 43.984375 \r\nQ 39.0625 48.390625 32.421875 48.390625 \r\nQ 24.90625 48.390625 20.390625 44.140625 \r\nQ 15.875 39.890625 15.1875 32.171875 \r\nz\r\n\" id=\"DejaVuSans-101\"/>\r\n      <path d=\"M 41.109375 46.296875 \r\nQ 39.59375 47.171875 37.8125 47.578125 \r\nQ 36.03125 48 33.890625 48 \r\nQ 26.265625 48 22.1875 43.046875 \r\nQ 18.109375 38.09375 18.109375 28.8125 \r\nL 18.109375 0 \r\nL 9.078125 0 \r\nL 9.078125 54.6875 \r\nL 18.109375 54.6875 \r\nL 18.109375 46.1875 \r\nQ 20.953125 51.171875 25.484375 53.578125 \r\nQ 30.03125 56 36.53125 56 \r\nQ 37.453125 56 38.578125 55.875 \r\nQ 39.703125 55.765625 41.0625 55.515625 \r\nz\r\n\" id=\"DejaVuSans-114\"/>\r\n      <path id=\"DejaVuSans-32\"/>\r\n      <path d=\"M 30.609375 48.390625 \r\nQ 23.390625 48.390625 19.1875 42.75 \r\nQ 14.984375 37.109375 14.984375 27.296875 \r\nQ 14.984375 17.484375 19.15625 11.84375 \r\nQ 23.34375 6.203125 30.609375 6.203125 \r\nQ 37.796875 6.203125 41.984375 11.859375 \r\nQ 46.1875 17.53125 46.1875 27.296875 \r\nQ 46.1875 37.015625 41.984375 42.703125 \r\nQ 37.796875 48.390625 30.609375 48.390625 \r\nz\r\nM 30.609375 56 \r\nQ 42.328125 56 49.015625 48.375 \r\nQ 55.71875 40.765625 55.71875 27.296875 \r\nQ 55.71875 13.875 49.015625 6.21875 \r\nQ 42.328125 -1.421875 30.609375 -1.421875 \r\nQ 18.84375 -1.421875 12.171875 6.21875 \r\nQ 5.515625 13.875 5.515625 27.296875 \r\nQ 5.515625 40.765625 12.171875 48.375 \r\nQ 18.84375 56 30.609375 56 \r\nz\r\n\" id=\"DejaVuSans-111\"/>\r\n      <path d=\"M 37.109375 75.984375 \r\nL 37.109375 68.5 \r\nL 28.515625 68.5 \r\nQ 23.6875 68.5 21.796875 66.546875 \r\nQ 19.921875 64.59375 19.921875 59.515625 \r\nL 19.921875 54.6875 \r\nL 34.71875 54.6875 \r\nL 34.71875 47.703125 \r\nL 19.921875 47.703125 \r\nL 19.921875 0 \r\nL 10.890625 0 \r\nL 10.890625 47.703125 \r\nL 2.296875 47.703125 \r\nL 2.296875 54.6875 \r\nL 10.890625 54.6875 \r\nL 10.890625 58.5 \r\nQ 10.890625 67.625 15.140625 71.796875 \r\nQ 19.390625 75.984375 28.609375 75.984375 \r\nz\r\n\" id=\"DejaVuSans-102\"/>\r\n      <path d=\"M 18.3125 70.21875 \r\nL 18.3125 54.6875 \r\nL 36.8125 54.6875 \r\nL 36.8125 47.703125 \r\nL 18.3125 47.703125 \r\nL 18.3125 18.015625 \r\nQ 18.3125 11.328125 20.140625 9.421875 \r\nQ 21.96875 7.515625 27.59375 7.515625 \r\nL 36.8125 7.515625 \r\nL 36.8125 0 \r\nL 27.59375 0 \r\nQ 17.1875 0 13.234375 3.875 \r\nQ 9.28125 7.765625 9.28125 18.015625 \r\nL 9.28125 47.703125 \r\nL 2.6875 47.703125 \r\nL 2.6875 54.6875 \r\nL 9.28125 54.6875 \r\nL 9.28125 70.21875 \r\nz\r\n\" id=\"DejaVuSans-116\"/>\r\n      <path d=\"M 18.109375 8.203125 \r\nL 18.109375 -20.796875 \r\nL 9.078125 -20.796875 \r\nL 9.078125 54.6875 \r\nL 18.109375 54.6875 \r\nL 18.109375 46.390625 \r\nQ 20.953125 51.265625 25.265625 53.625 \r\nQ 29.59375 56 35.59375 56 \r\nQ 45.5625 56 51.78125 48.09375 \r\nQ 58.015625 40.1875 58.015625 27.296875 \r\nQ 58.015625 14.40625 51.78125 6.484375 \r\nQ 45.5625 -1.421875 35.59375 -1.421875 \r\nQ 29.59375 -1.421875 25.265625 0.953125 \r\nQ 20.953125 3.328125 18.109375 8.203125 \r\nz\r\nM 48.6875 27.296875 \r\nQ 48.6875 37.203125 44.609375 42.84375 \r\nQ 40.53125 48.484375 33.40625 48.484375 \r\nQ 26.265625 48.484375 22.1875 42.84375 \r\nQ 18.109375 37.203125 18.109375 27.296875 \r\nQ 18.109375 17.390625 22.1875 11.75 \r\nQ 26.265625 6.109375 33.40625 6.109375 \r\nQ 40.53125 6.109375 44.609375 11.75 \r\nQ 48.6875 17.390625 48.6875 27.296875 \r\nz\r\n\" id=\"DejaVuSans-112\"/>\r\n      <path d=\"M 9.421875 54.6875 \r\nL 18.40625 54.6875 \r\nL 18.40625 0 \r\nL 9.421875 0 \r\nz\r\nM 9.421875 75.984375 \r\nL 18.40625 75.984375 \r\nL 18.40625 64.59375 \r\nL 9.421875 64.59375 \r\nz\r\n\" id=\"DejaVuSans-105\"/>\r\n      <path d=\"M 48.78125 52.59375 \r\nL 48.78125 44.1875 \r\nQ 44.96875 46.296875 41.140625 47.34375 \r\nQ 37.3125 48.390625 33.40625 48.390625 \r\nQ 24.65625 48.390625 19.8125 42.84375 \r\nQ 14.984375 37.3125 14.984375 27.296875 \r\nQ 14.984375 17.28125 19.8125 11.734375 \r\nQ 24.65625 6.203125 33.40625 6.203125 \r\nQ 37.3125 6.203125 41.140625 7.25 \r\nQ 44.96875 8.296875 48.78125 10.40625 \r\nL 48.78125 2.09375 \r\nQ 45.015625 0.34375 40.984375 -0.53125 \r\nQ 36.96875 -1.421875 32.421875 -1.421875 \r\nQ 20.0625 -1.421875 12.78125 6.34375 \r\nQ 5.515625 14.109375 5.515625 27.296875 \r\nQ 5.515625 40.671875 12.859375 48.328125 \r\nQ 20.21875 56 33.015625 56 \r\nQ 37.15625 56 41.109375 55.140625 \r\nQ 45.0625 54.296875 48.78125 52.59375 \r\nz\r\n\" id=\"DejaVuSans-99\"/>\r\n      <path d=\"M 44.28125 53.078125 \r\nL 44.28125 44.578125 \r\nQ 40.484375 46.53125 36.375 47.5 \r\nQ 32.28125 48.484375 27.875 48.484375 \r\nQ 21.1875 48.484375 17.84375 46.4375 \r\nQ 14.5 44.390625 14.5 40.28125 \r\nQ 14.5 37.15625 16.890625 35.375 \r\nQ 19.28125 33.59375 26.515625 31.984375 \r\nL 29.59375 31.296875 \r\nQ 39.15625 29.25 43.1875 25.515625 \r\nQ 47.21875 21.78125 47.21875 15.09375 \r\nQ 47.21875 7.46875 41.1875 3.015625 \r\nQ 35.15625 -1.421875 24.609375 -1.421875 \r\nQ 20.21875 -1.421875 15.453125 -0.5625 \r\nQ 10.6875 0.296875 5.421875 2 \r\nL 5.421875 11.28125 \r\nQ 10.40625 8.6875 15.234375 7.390625 \r\nQ 20.0625 6.109375 24.8125 6.109375 \r\nQ 31.15625 6.109375 34.5625 8.28125 \r\nQ 37.984375 10.453125 37.984375 14.40625 \r\nQ 37.984375 18.0625 35.515625 20.015625 \r\nQ 33.0625 21.96875 24.703125 23.78125 \r\nL 21.578125 24.515625 \r\nQ 13.234375 26.265625 9.515625 29.90625 \r\nQ 5.8125 33.546875 5.8125 39.890625 \r\nQ 5.8125 47.609375 11.28125 51.796875 \r\nQ 16.75 56 26.8125 56 \r\nQ 31.78125 56 36.171875 55.265625 \r\nQ 40.578125 54.546875 44.28125 53.078125 \r\nz\r\n\" id=\"DejaVuSans-115\"/>\r\n     </defs>\r\n     <g transform=\"translate(234.079687 376.754687)scale(0.1 -0.1)\">\r\n      <use xlink:href=\"#DejaVuSans-110\"/>\r\n      <use x=\"63.378906\" xlink:href=\"#DejaVuSans-117\"/>\r\n      <use x=\"126.757812\" xlink:href=\"#DejaVuSans-109\"/>\r\n      <use x=\"224.169922\" xlink:href=\"#DejaVuSans-98\"/>\r\n      <use x=\"287.646484\" xlink:href=\"#DejaVuSans-101\"/>\r\n      <use x=\"349.169922\" xlink:href=\"#DejaVuSans-114\"/>\r\n      <use x=\"390.283203\" xlink:href=\"#DejaVuSans-32\"/>\r\n      <use x=\"422.070312\" xlink:href=\"#DejaVuSans-111\"/>\r\n      <use x=\"483.251953\" xlink:href=\"#DejaVuSans-102\"/>\r\n      <use x=\"518.457031\" xlink:href=\"#DejaVuSans-32\"/>\r\n      <use x=\"550.244141\" xlink:href=\"#DejaVuSans-116\"/>\r\n      <use x=\"589.453125\" xlink:href=\"#DejaVuSans-111\"/>\r\n      <use x=\"650.634766\" xlink:href=\"#DejaVuSans-112\"/>\r\n      <use x=\"714.111328\" xlink:href=\"#DejaVuSans-105\"/>\r\n      <use x=\"741.894531\" xlink:href=\"#DejaVuSans-99\"/>\r\n      <use x=\"796.875\" xlink:href=\"#DejaVuSans-115\"/>\r\n     </g>\r\n    </g>\r\n   </g>\r\n   <g id=\"matplotlib.axis_2\">\r\n    <g id=\"ytick_1\">\r\n     <g id=\"line2d_8\">\r\n      <defs>\r\n       <path d=\"M 0 0 \r\nL -3.5 0 \r\n\" id=\"maadb72bddc\" style=\"stroke:#000000;stroke-width:0.8;\"/>\r\n      </defs>\r\n      <g>\r\n       <use style=\"stroke:#000000;stroke-width:0.8;\" x=\"53.328125\" xlink:href=\"#maadb72bddc\" y=\"316.224885\"/>\r\n      </g>\r\n     </g>\r\n     <g id=\"text_9\">\r\n      <!-- 1700 -->\r\n      <defs>\r\n       <path d=\"M 8.203125 72.90625 \r\nL 55.078125 72.90625 \r\nL 55.078125 68.703125 \r\nL 28.609375 0 \r\nL 18.3125 0 \r\nL 43.21875 64.59375 \r\nL 8.203125 64.59375 \r\nz\r\n\" id=\"DejaVuSans-55\"/>\r\n      </defs>\r\n      <g transform=\"translate(20.878125 320.024104)scale(0.1 -0.1)\">\r\n       <use xlink:href=\"#DejaVuSans-49\"/>\r\n       <use x=\"63.623047\" xlink:href=\"#DejaVuSans-55\"/>\r\n       <use x=\"127.246094\" xlink:href=\"#DejaVuSans-48\"/>\r\n       <use x=\"190.869141\" xlink:href=\"#DejaVuSans-48\"/>\r\n      </g>\r\n     </g>\r\n    </g>\r\n    <g id=\"ytick_2\">\r\n     <g id=\"line2d_9\">\r\n      <g>\r\n       <use style=\"stroke:#000000;stroke-width:0.8;\" x=\"53.328125\" xlink:href=\"#maadb72bddc\" y=\"274.983933\"/>\r\n      </g>\r\n     </g>\r\n     <g id=\"text_10\">\r\n      <!-- 1750 -->\r\n      <defs>\r\n       <path d=\"M 10.796875 72.90625 \r\nL 49.515625 72.90625 \r\nL 49.515625 64.59375 \r\nL 19.828125 64.59375 \r\nL 19.828125 46.734375 \r\nQ 21.96875 47.46875 24.109375 47.828125 \r\nQ 26.265625 48.1875 28.421875 48.1875 \r\nQ 40.625 48.1875 47.75 41.5 \r\nQ 54.890625 34.8125 54.890625 23.390625 \r\nQ 54.890625 11.625 47.5625 5.09375 \r\nQ 40.234375 -1.421875 26.90625 -1.421875 \r\nQ 22.3125 -1.421875 17.546875 -0.640625 \r\nQ 12.796875 0.140625 7.71875 1.703125 \r\nL 7.71875 11.625 \r\nQ 12.109375 9.234375 16.796875 8.0625 \r\nQ 21.484375 6.890625 26.703125 6.890625 \r\nQ 35.15625 6.890625 40.078125 11.328125 \r\nQ 45.015625 15.765625 45.015625 23.390625 \r\nQ 45.015625 31 40.078125 35.4375 \r\nQ 35.15625 39.890625 26.703125 39.890625 \r\nQ 22.75 39.890625 18.8125 39.015625 \r\nQ 14.890625 38.140625 10.796875 36.28125 \r\nz\r\n\" id=\"DejaVuSans-53\"/>\r\n      </defs>\r\n      <g transform=\"translate(20.878125 278.783152)scale(0.1 -0.1)\">\r\n       <use xlink:href=\"#DejaVuSans-49\"/>\r\n       <use x=\"63.623047\" xlink:href=\"#DejaVuSans-55\"/>\r\n       <use x=\"127.246094\" xlink:href=\"#DejaVuSans-53\"/>\r\n       <use x=\"190.869141\" xlink:href=\"#DejaVuSans-48\"/>\r\n      </g>\r\n     </g>\r\n    </g>\r\n    <g id=\"ytick_3\">\r\n     <g id=\"line2d_10\">\r\n      <g>\r\n       <use style=\"stroke:#000000;stroke-width:0.8;\" x=\"53.328125\" xlink:href=\"#maadb72bddc\" y=\"233.742981\"/>\r\n      </g>\r\n     </g>\r\n     <g id=\"text_11\">\r\n      <!-- 1800 -->\r\n      <g transform=\"translate(20.878125 237.542199)scale(0.1 -0.1)\">\r\n       <use xlink:href=\"#DejaVuSans-49\"/>\r\n       <use x=\"63.623047\" xlink:href=\"#DejaVuSans-56\"/>\r\n       <use x=\"127.246094\" xlink:href=\"#DejaVuSans-48\"/>\r\n       <use x=\"190.869141\" xlink:href=\"#DejaVuSans-48\"/>\r\n      </g>\r\n     </g>\r\n    </g>\r\n    <g id=\"ytick_4\">\r\n     <g id=\"line2d_11\">\r\n      <g>\r\n       <use style=\"stroke:#000000;stroke-width:0.8;\" x=\"53.328125\" xlink:href=\"#maadb72bddc\" y=\"192.502028\"/>\r\n      </g>\r\n     </g>\r\n     <g id=\"text_12\">\r\n      <!-- 1850 -->\r\n      <g transform=\"translate(20.878125 196.301247)scale(0.1 -0.1)\">\r\n       <use xlink:href=\"#DejaVuSans-49\"/>\r\n       <use x=\"63.623047\" xlink:href=\"#DejaVuSans-56\"/>\r\n       <use x=\"127.246094\" xlink:href=\"#DejaVuSans-53\"/>\r\n       <use x=\"190.869141\" xlink:href=\"#DejaVuSans-48\"/>\r\n      </g>\r\n     </g>\r\n    </g>\r\n    <g id=\"ytick_5\">\r\n     <g id=\"line2d_12\">\r\n      <g>\r\n       <use style=\"stroke:#000000;stroke-width:0.8;\" x=\"53.328125\" xlink:href=\"#maadb72bddc\" y=\"151.261076\"/>\r\n      </g>\r\n     </g>\r\n     <g id=\"text_13\">\r\n      <!-- 1900 -->\r\n      <defs>\r\n       <path d=\"M 10.984375 1.515625 \r\nL 10.984375 10.5 \r\nQ 14.703125 8.734375 18.5 7.8125 \r\nQ 22.3125 6.890625 25.984375 6.890625 \r\nQ 35.75 6.890625 40.890625 13.453125 \r\nQ 46.046875 20.015625 46.78125 33.40625 \r\nQ 43.953125 29.203125 39.59375 26.953125 \r\nQ 35.25 24.703125 29.984375 24.703125 \r\nQ 19.046875 24.703125 12.671875 31.3125 \r\nQ 6.296875 37.9375 6.296875 49.421875 \r\nQ 6.296875 60.640625 12.9375 67.421875 \r\nQ 19.578125 74.21875 30.609375 74.21875 \r\nQ 43.265625 74.21875 49.921875 64.515625 \r\nQ 56.59375 54.828125 56.59375 36.375 \r\nQ 56.59375 19.140625 48.40625 8.859375 \r\nQ 40.234375 -1.421875 26.421875 -1.421875 \r\nQ 22.703125 -1.421875 18.890625 -0.6875 \r\nQ 15.09375 0.046875 10.984375 1.515625 \r\nz\r\nM 30.609375 32.421875 \r\nQ 37.25 32.421875 41.125 36.953125 \r\nQ 45.015625 41.5 45.015625 49.421875 \r\nQ 45.015625 57.28125 41.125 61.84375 \r\nQ 37.25 66.40625 30.609375 66.40625 \r\nQ 23.96875 66.40625 20.09375 61.84375 \r\nQ 16.21875 57.28125 16.21875 49.421875 \r\nQ 16.21875 41.5 20.09375 36.953125 \r\nQ 23.96875 32.421875 30.609375 32.421875 \r\nz\r\n\" id=\"DejaVuSans-57\"/>\r\n      </defs>\r\n      <g transform=\"translate(20.878125 155.060295)scale(0.1 -0.1)\">\r\n       <use xlink:href=\"#DejaVuSans-49\"/>\r\n       <use x=\"63.623047\" xlink:href=\"#DejaVuSans-57\"/>\r\n       <use x=\"127.246094\" xlink:href=\"#DejaVuSans-48\"/>\r\n       <use x=\"190.869141\" xlink:href=\"#DejaVuSans-48\"/>\r\n      </g>\r\n     </g>\r\n    </g>\r\n    <g id=\"ytick_6\">\r\n     <g id=\"line2d_13\">\r\n      <g>\r\n       <use style=\"stroke:#000000;stroke-width:0.8;\" x=\"53.328125\" xlink:href=\"#maadb72bddc\" y=\"110.020124\"/>\r\n      </g>\r\n     </g>\r\n     <g id=\"text_14\">\r\n      <!-- 1950 -->\r\n      <g transform=\"translate(20.878125 113.819343)scale(0.1 -0.1)\">\r\n       <use xlink:href=\"#DejaVuSans-49\"/>\r\n       <use x=\"63.623047\" xlink:href=\"#DejaVuSans-57\"/>\r\n       <use x=\"127.246094\" xlink:href=\"#DejaVuSans-53\"/>\r\n       <use x=\"190.869141\" xlink:href=\"#DejaVuSans-48\"/>\r\n      </g>\r\n     </g>\r\n    </g>\r\n    <g id=\"ytick_7\">\r\n     <g id=\"line2d_14\">\r\n      <g>\r\n       <use style=\"stroke:#000000;stroke-width:0.8;\" x=\"53.328125\" xlink:href=\"#maadb72bddc\" y=\"68.779172\"/>\r\n      </g>\r\n     </g>\r\n     <g id=\"text_15\">\r\n      <!-- 2000 -->\r\n      <g transform=\"translate(20.878125 72.57839)scale(0.1 -0.1)\">\r\n       <use xlink:href=\"#DejaVuSans-50\"/>\r\n       <use x=\"63.623047\" xlink:href=\"#DejaVuSans-48\"/>\r\n       <use x=\"127.246094\" xlink:href=\"#DejaVuSans-48\"/>\r\n       <use x=\"190.869141\" xlink:href=\"#DejaVuSans-48\"/>\r\n      </g>\r\n     </g>\r\n    </g>\r\n    <g id=\"ytick_8\">\r\n     <g id=\"line2d_15\">\r\n      <g>\r\n       <use style=\"stroke:#000000;stroke-width:0.8;\" x=\"53.328125\" xlink:href=\"#maadb72bddc\" y=\"27.538219\"/>\r\n      </g>\r\n     </g>\r\n     <g id=\"text_16\">\r\n      <!-- 2050 -->\r\n      <g transform=\"translate(20.878125 31.337438)scale(0.1 -0.1)\">\r\n       <use xlink:href=\"#DejaVuSans-50\"/>\r\n       <use x=\"63.623047\" xlink:href=\"#DejaVuSans-48\"/>\r\n       <use x=\"127.246094\" xlink:href=\"#DejaVuSans-53\"/>\r\n       <use x=\"190.869141\" xlink:href=\"#DejaVuSans-48\"/>\r\n      </g>\r\n     </g>\r\n    </g>\r\n    <g id=\"text_17\">\r\n     <!-- perplexity -->\r\n     <defs>\r\n      <path d=\"M 9.421875 75.984375 \r\nL 18.40625 75.984375 \r\nL 18.40625 0 \r\nL 9.421875 0 \r\nz\r\n\" id=\"DejaVuSans-108\"/>\r\n      <path d=\"M 54.890625 54.6875 \r\nL 35.109375 28.078125 \r\nL 55.90625 0 \r\nL 45.3125 0 \r\nL 29.390625 21.484375 \r\nL 13.484375 0 \r\nL 2.875 0 \r\nL 24.125 28.609375 \r\nL 4.6875 54.6875 \r\nL 15.28125 54.6875 \r\nL 29.78125 35.203125 \r\nL 44.28125 54.6875 \r\nz\r\n\" id=\"DejaVuSans-120\"/>\r\n      <path d=\"M 32.171875 -5.078125 \r\nQ 28.375 -14.84375 24.75 -17.8125 \r\nQ 21.140625 -20.796875 15.09375 -20.796875 \r\nL 7.90625 -20.796875 \r\nL 7.90625 -13.28125 \r\nL 13.1875 -13.28125 \r\nQ 16.890625 -13.28125 18.9375 -11.515625 \r\nQ 21 -9.765625 23.484375 -3.21875 \r\nL 25.09375 0.875 \r\nL 2.984375 54.6875 \r\nL 12.5 54.6875 \r\nL 29.59375 11.921875 \r\nL 46.6875 54.6875 \r\nL 56.203125 54.6875 \r\nz\r\n\" id=\"DejaVuSans-121\"/>\r\n     </defs>\r\n     <g transform=\"translate(14.798438 210.611406)rotate(-90)scale(0.1 -0.1)\">\r\n      <use xlink:href=\"#DejaVuSans-112\"/>\r\n      <use x=\"63.476562\" xlink:href=\"#DejaVuSans-101\"/>\r\n      <use x=\"125\" xlink:href=\"#DejaVuSans-114\"/>\r\n      <use x=\"166.113281\" xlink:href=\"#DejaVuSans-112\"/>\r\n      <use x=\"229.589844\" xlink:href=\"#DejaVuSans-108\"/>\r\n      <use x=\"257.373047\" xlink:href=\"#DejaVuSans-101\"/>\r\n      <use x=\"318.880859\" xlink:href=\"#DejaVuSans-120\"/>\r\n      <use x=\"378.060547\" xlink:href=\"#DejaVuSans-105\"/>\r\n      <use x=\"405.84375\" xlink:href=\"#DejaVuSans-116\"/>\r\n      <use x=\"445.052734\" xlink:href=\"#DejaVuSans-121\"/>\r\n     </g>\r\n    </g>\r\n   </g>\r\n   <g id=\"line2d_16\">\r\n    <path clip-path=\"url(#pfa2c530758)\" d=\"M 73.619034 95.949007 \r\nL 104.835817 132.52693 \r\nL 136.052601 317.1125 \r\nL 167.269384 333.65267 \r\nL 198.486167 238.890629 \r\nL 229.70295 191.546948 \r\nL 260.919733 162.162668 \r\nL 292.136517 219.817902 \r\nL 323.3533 94.678117 \r\nL 354.570083 120.639692 \r\nL 385.786866 128.161546 \r\nL 417.003649 129.500283 \r\nL 448.220433 90.169689 \r\nL 479.437216 37.14358 \r\n\" style=\"fill:none;stroke:#0000ff;stroke-linecap:square;stroke-width:1.5;\"/>\r\n    <defs>\r\n     <path d=\"M 0 -3 \r\nL -0.673542 -0.927051 \r\nL -2.85317 -0.927051 \r\nL -1.089814 0.354102 \r\nL -1.763356 2.427051 \r\nL -0 1.145898 \r\nL 1.763356 2.427051 \r\nL 1.089814 0.354102 \r\nL 2.85317 -0.927051 \r\nL 0.673542 -0.927051 \r\nz\r\n\" id=\"m1b4c1a7bd1\" style=\"stroke:#0000ff;stroke-linejoin:bevel;\"/>\r\n    </defs>\r\n    <g clip-path=\"url(#pfa2c530758)\">\r\n     <use style=\"fill:#0000ff;stroke:#0000ff;stroke-linejoin:bevel;\" x=\"73.619034\" xlink:href=\"#m1b4c1a7bd1\" y=\"95.949007\"/>\r\n     <use style=\"fill:#0000ff;stroke:#0000ff;stroke-linejoin:bevel;\" x=\"104.835817\" xlink:href=\"#m1b4c1a7bd1\" y=\"132.52693\"/>\r\n     <use style=\"fill:#0000ff;stroke:#0000ff;stroke-linejoin:bevel;\" x=\"136.052601\" xlink:href=\"#m1b4c1a7bd1\" y=\"317.1125\"/>\r\n     <use style=\"fill:#0000ff;stroke:#0000ff;stroke-linejoin:bevel;\" x=\"167.269384\" xlink:href=\"#m1b4c1a7bd1\" y=\"333.65267\"/>\r\n     <use style=\"fill:#0000ff;stroke:#0000ff;stroke-linejoin:bevel;\" x=\"198.486167\" xlink:href=\"#m1b4c1a7bd1\" y=\"238.890629\"/>\r\n     <use style=\"fill:#0000ff;stroke:#0000ff;stroke-linejoin:bevel;\" x=\"229.70295\" xlink:href=\"#m1b4c1a7bd1\" y=\"191.546948\"/>\r\n     <use style=\"fill:#0000ff;stroke:#0000ff;stroke-linejoin:bevel;\" x=\"260.919733\" xlink:href=\"#m1b4c1a7bd1\" y=\"162.162668\"/>\r\n     <use style=\"fill:#0000ff;stroke:#0000ff;stroke-linejoin:bevel;\" x=\"292.136517\" xlink:href=\"#m1b4c1a7bd1\" y=\"219.817902\"/>\r\n     <use style=\"fill:#0000ff;stroke:#0000ff;stroke-linejoin:bevel;\" x=\"323.3533\" xlink:href=\"#m1b4c1a7bd1\" y=\"94.678117\"/>\r\n     <use style=\"fill:#0000ff;stroke:#0000ff;stroke-linejoin:bevel;\" x=\"354.570083\" xlink:href=\"#m1b4c1a7bd1\" y=\"120.639692\"/>\r\n     <use style=\"fill:#0000ff;stroke:#0000ff;stroke-linejoin:bevel;\" x=\"385.786866\" xlink:href=\"#m1b4c1a7bd1\" y=\"128.161546\"/>\r\n     <use style=\"fill:#0000ff;stroke:#0000ff;stroke-linejoin:bevel;\" x=\"417.003649\" xlink:href=\"#m1b4c1a7bd1\" y=\"129.500283\"/>\r\n     <use style=\"fill:#0000ff;stroke:#0000ff;stroke-linejoin:bevel;\" x=\"448.220433\" xlink:href=\"#m1b4c1a7bd1\" y=\"90.169689\"/>\r\n     <use style=\"fill:#0000ff;stroke:#0000ff;stroke-linejoin:bevel;\" x=\"479.437216\" xlink:href=\"#m1b4c1a7bd1\" y=\"37.14358\"/>\r\n    </g>\r\n   </g>\r\n   <g id=\"line2d_17\">\r\n    <path clip-path=\"url(#pfa2c530758)\" d=\"M 167.269384 333.65267 \r\n\" style=\"fill:none;stroke:#1f77b4;stroke-linecap:square;stroke-width:1.5;\"/>\r\n    <defs>\r\n     <path d=\"M 0 7 \r\nC 1.856422 7 3.637059 6.262436 4.949747 4.949747 \r\nC 6.262436 3.637059 7 1.856422 7 0 \r\nC 7 -1.856422 6.262436 -3.637059 4.949747 -4.949747 \r\nC 3.637059 -6.262436 1.856422 -7 0 -7 \r\nC -1.856422 -7 -3.637059 -6.262436 -4.949747 -4.949747 \r\nC -6.262436 -3.637059 -7 -1.856422 -7 0 \r\nC -7 1.856422 -6.262436 3.637059 -4.949747 4.949747 \r\nC -3.637059 6.262436 -1.856422 7 0 7 \r\nz\r\n\" id=\"mfdb1ee7d9f\" style=\"stroke:#ff0000;stroke-width:2;\"/>\r\n    </defs>\r\n    <g clip-path=\"url(#pfa2c530758)\">\r\n     <use style=\"fill-opacity:0;stroke:#ff0000;stroke-width:2;\" x=\"167.269384\" xlink:href=\"#mfdb1ee7d9f\" y=\"333.65267\"/>\r\n    </g>\r\n   </g>\r\n   <g id=\"patch_3\">\r\n    <path d=\"M 53.328125 348.478125 \r\nL 53.328125 22.318125 \r\n\" style=\"fill:none;stroke:#000000;stroke-linecap:square;stroke-linejoin:miter;stroke-width:0.8;\"/>\r\n   </g>\r\n   <g id=\"patch_4\">\r\n    <path d=\"M 499.728125 348.478125 \r\nL 499.728125 22.318125 \r\n\" style=\"fill:none;stroke:#000000;stroke-linecap:square;stroke-linejoin:miter;stroke-width:0.8;\"/>\r\n   </g>\r\n   <g id=\"patch_5\">\r\n    <path d=\"M 53.328125 348.478125 \r\nL 499.728125 348.478125 \r\n\" style=\"fill:none;stroke:#000000;stroke-linecap:square;stroke-linejoin:miter;stroke-width:0.8;\"/>\r\n   </g>\r\n   <g id=\"patch_6\">\r\n    <path d=\"M 53.328125 22.318125 \r\nL 499.728125 22.318125 \r\n\" style=\"fill:none;stroke:#000000;stroke-linecap:square;stroke-linejoin:miter;stroke-width:0.8;\"/>\r\n   </g>\r\n   <g id=\"text_18\">\r\n    <!-- LDA Perplexity, ngram=(1,3), max_features=10000 -->\r\n    <defs>\r\n     <path d=\"M 9.8125 72.90625 \r\nL 19.671875 72.90625 \r\nL 19.671875 8.296875 \r\nL 55.171875 8.296875 \r\nL 55.171875 0 \r\nL 9.8125 0 \r\nz\r\n\" id=\"DejaVuSans-76\"/>\r\n     <path d=\"M 19.671875 64.796875 \r\nL 19.671875 8.109375 \r\nL 31.59375 8.109375 \r\nQ 46.6875 8.109375 53.6875 14.9375 \r\nQ 60.6875 21.78125 60.6875 36.53125 \r\nQ 60.6875 51.171875 53.6875 57.984375 \r\nQ 46.6875 64.796875 31.59375 64.796875 \r\nz\r\nM 9.8125 72.90625 \r\nL 30.078125 72.90625 \r\nQ 51.265625 72.90625 61.171875 64.09375 \r\nQ 71.09375 55.28125 71.09375 36.53125 \r\nQ 71.09375 17.671875 61.125 8.828125 \r\nQ 51.171875 0 30.078125 0 \r\nL 9.8125 0 \r\nz\r\n\" id=\"DejaVuSans-68\"/>\r\n     <path d=\"M 34.1875 63.1875 \r\nL 20.796875 26.90625 \r\nL 47.609375 26.90625 \r\nz\r\nM 28.609375 72.90625 \r\nL 39.796875 72.90625 \r\nL 67.578125 0 \r\nL 57.328125 0 \r\nL 50.6875 18.703125 \r\nL 17.828125 18.703125 \r\nL 11.1875 0 \r\nL 0.78125 0 \r\nz\r\n\" id=\"DejaVuSans-65\"/>\r\n     <path d=\"M 19.671875 64.796875 \r\nL 19.671875 37.40625 \r\nL 32.078125 37.40625 \r\nQ 38.96875 37.40625 42.71875 40.96875 \r\nQ 46.484375 44.53125 46.484375 51.125 \r\nQ 46.484375 57.671875 42.71875 61.234375 \r\nQ 38.96875 64.796875 32.078125 64.796875 \r\nz\r\nM 9.8125 72.90625 \r\nL 32.078125 72.90625 \r\nQ 44.34375 72.90625 50.609375 67.359375 \r\nQ 56.890625 61.8125 56.890625 51.125 \r\nQ 56.890625 40.328125 50.609375 34.8125 \r\nQ 44.34375 29.296875 32.078125 29.296875 \r\nL 19.671875 29.296875 \r\nL 19.671875 0 \r\nL 9.8125 0 \r\nz\r\n\" id=\"DejaVuSans-80\"/>\r\n     <path d=\"M 11.71875 12.40625 \r\nL 22.015625 12.40625 \r\nL 22.015625 4 \r\nL 14.015625 -11.625 \r\nL 7.71875 -11.625 \r\nL 11.71875 4 \r\nz\r\n\" id=\"DejaVuSans-44\"/>\r\n     <path d=\"M 45.40625 27.984375 \r\nQ 45.40625 37.75 41.375 43.109375 \r\nQ 37.359375 48.484375 30.078125 48.484375 \r\nQ 22.859375 48.484375 18.828125 43.109375 \r\nQ 14.796875 37.75 14.796875 27.984375 \r\nQ 14.796875 18.265625 18.828125 12.890625 \r\nQ 22.859375 7.515625 30.078125 7.515625 \r\nQ 37.359375 7.515625 41.375 12.890625 \r\nQ 45.40625 18.265625 45.40625 27.984375 \r\nz\r\nM 54.390625 6.78125 \r\nQ 54.390625 -7.171875 48.1875 -13.984375 \r\nQ 42 -20.796875 29.203125 -20.796875 \r\nQ 24.46875 -20.796875 20.265625 -20.09375 \r\nQ 16.0625 -19.390625 12.109375 -17.921875 \r\nL 12.109375 -9.1875 \r\nQ 16.0625 -11.328125 19.921875 -12.34375 \r\nQ 23.78125 -13.375 27.78125 -13.375 \r\nQ 36.625 -13.375 41.015625 -8.765625 \r\nQ 45.40625 -4.15625 45.40625 5.171875 \r\nL 45.40625 9.625 \r\nQ 42.625 4.78125 38.28125 2.390625 \r\nQ 33.9375 0 27.875 0 \r\nQ 17.828125 0 11.671875 7.65625 \r\nQ 5.515625 15.328125 5.515625 27.984375 \r\nQ 5.515625 40.671875 11.671875 48.328125 \r\nQ 17.828125 56 27.875 56 \r\nQ 33.9375 56 38.28125 53.609375 \r\nQ 42.625 51.21875 45.40625 46.390625 \r\nL 45.40625 54.6875 \r\nL 54.390625 54.6875 \r\nz\r\n\" id=\"DejaVuSans-103\"/>\r\n     <path d=\"M 34.28125 27.484375 \r\nQ 23.390625 27.484375 19.1875 25 \r\nQ 14.984375 22.515625 14.984375 16.5 \r\nQ 14.984375 11.71875 18.140625 8.90625 \r\nQ 21.296875 6.109375 26.703125 6.109375 \r\nQ 34.1875 6.109375 38.703125 11.40625 \r\nQ 43.21875 16.703125 43.21875 25.484375 \r\nL 43.21875 27.484375 \r\nz\r\nM 52.203125 31.203125 \r\nL 52.203125 0 \r\nL 43.21875 0 \r\nL 43.21875 8.296875 \r\nQ 40.140625 3.328125 35.546875 0.953125 \r\nQ 30.953125 -1.421875 24.3125 -1.421875 \r\nQ 15.921875 -1.421875 10.953125 3.296875 \r\nQ 6 8.015625 6 15.921875 \r\nQ 6 25.140625 12.171875 29.828125 \r\nQ 18.359375 34.515625 30.609375 34.515625 \r\nL 43.21875 34.515625 \r\nL 43.21875 35.40625 \r\nQ 43.21875 41.609375 39.140625 45 \r\nQ 35.0625 48.390625 27.6875 48.390625 \r\nQ 23 48.390625 18.546875 47.265625 \r\nQ 14.109375 46.140625 10.015625 43.890625 \r\nL 10.015625 52.203125 \r\nQ 14.9375 54.109375 19.578125 55.046875 \r\nQ 24.21875 56 28.609375 56 \r\nQ 40.484375 56 46.34375 49.84375 \r\nQ 52.203125 43.703125 52.203125 31.203125 \r\nz\r\n\" id=\"DejaVuSans-97\"/>\r\n     <path d=\"M 10.59375 45.40625 \r\nL 73.1875 45.40625 \r\nL 73.1875 37.203125 \r\nL 10.59375 37.203125 \r\nz\r\nM 10.59375 25.484375 \r\nL 73.1875 25.484375 \r\nL 73.1875 17.1875 \r\nL 10.59375 17.1875 \r\nz\r\n\" id=\"DejaVuSans-61\"/>\r\n     <path d=\"M 31 75.875 \r\nQ 24.46875 64.65625 21.28125 53.65625 \r\nQ 18.109375 42.671875 18.109375 31.390625 \r\nQ 18.109375 20.125 21.3125 9.0625 \r\nQ 24.515625 -2 31 -13.1875 \r\nL 23.1875 -13.1875 \r\nQ 15.875 -1.703125 12.234375 9.375 \r\nQ 8.59375 20.453125 8.59375 31.390625 \r\nQ 8.59375 42.28125 12.203125 53.3125 \r\nQ 15.828125 64.359375 23.1875 75.875 \r\nz\r\n\" id=\"DejaVuSans-40\"/>\r\n     <path d=\"M 40.578125 39.3125 \r\nQ 47.65625 37.796875 51.625 33 \r\nQ 55.609375 28.21875 55.609375 21.1875 \r\nQ 55.609375 10.40625 48.1875 4.484375 \r\nQ 40.765625 -1.421875 27.09375 -1.421875 \r\nQ 22.515625 -1.421875 17.65625 -0.515625 \r\nQ 12.796875 0.390625 7.625 2.203125 \r\nL 7.625 11.71875 \r\nQ 11.71875 9.328125 16.59375 8.109375 \r\nQ 21.484375 6.890625 26.8125 6.890625 \r\nQ 36.078125 6.890625 40.9375 10.546875 \r\nQ 45.796875 14.203125 45.796875 21.1875 \r\nQ 45.796875 27.640625 41.28125 31.265625 \r\nQ 36.765625 34.90625 28.71875 34.90625 \r\nL 20.21875 34.90625 \r\nL 20.21875 43.015625 \r\nL 29.109375 43.015625 \r\nQ 36.375 43.015625 40.234375 45.921875 \r\nQ 44.09375 48.828125 44.09375 54.296875 \r\nQ 44.09375 59.90625 40.109375 62.90625 \r\nQ 36.140625 65.921875 28.71875 65.921875 \r\nQ 24.65625 65.921875 20.015625 65.03125 \r\nQ 15.375 64.15625 9.8125 62.3125 \r\nL 9.8125 71.09375 \r\nQ 15.4375 72.65625 20.34375 73.4375 \r\nQ 25.25 74.21875 29.59375 74.21875 \r\nQ 40.828125 74.21875 47.359375 69.109375 \r\nQ 53.90625 64.015625 53.90625 55.328125 \r\nQ 53.90625 49.265625 50.4375 45.09375 \r\nQ 46.96875 40.921875 40.578125 39.3125 \r\nz\r\n\" id=\"DejaVuSans-51\"/>\r\n     <path d=\"M 8.015625 75.875 \r\nL 15.828125 75.875 \r\nQ 23.140625 64.359375 26.78125 53.3125 \r\nQ 30.421875 42.28125 30.421875 31.390625 \r\nQ 30.421875 20.453125 26.78125 9.375 \r\nQ 23.140625 -1.703125 15.828125 -13.1875 \r\nL 8.015625 -13.1875 \r\nQ 14.5 -2 17.703125 9.0625 \r\nQ 20.90625 20.125 20.90625 31.390625 \r\nQ 20.90625 42.671875 17.703125 53.65625 \r\nQ 14.5 64.65625 8.015625 75.875 \r\nz\r\n\" id=\"DejaVuSans-41\"/>\r\n     <path d=\"M 50.984375 -16.609375 \r\nL 50.984375 -23.578125 \r\nL -0.984375 -23.578125 \r\nL -0.984375 -16.609375 \r\nz\r\n\" id=\"DejaVuSans-95\"/>\r\n    </defs>\r\n    <g transform=\"translate(120.90875 16.318125)scale(0.12 -0.12)\">\r\n     <use xlink:href=\"#DejaVuSans-76\"/>\r\n     <use x=\"55.712891\" xlink:href=\"#DejaVuSans-68\"/>\r\n     <use x=\"132.699219\" xlink:href=\"#DejaVuSans-65\"/>\r\n     <use x=\"201.107422\" xlink:href=\"#DejaVuSans-32\"/>\r\n     <use x=\"232.894531\" xlink:href=\"#DejaVuSans-80\"/>\r\n     <use x=\"293.150391\" xlink:href=\"#DejaVuSans-101\"/>\r\n     <use x=\"354.673828\" xlink:href=\"#DejaVuSans-114\"/>\r\n     <use x=\"395.787109\" xlink:href=\"#DejaVuSans-112\"/>\r\n     <use x=\"459.263672\" xlink:href=\"#DejaVuSans-108\"/>\r\n     <use x=\"487.046875\" xlink:href=\"#DejaVuSans-101\"/>\r\n     <use x=\"548.554688\" xlink:href=\"#DejaVuSans-120\"/>\r\n     <use x=\"607.734375\" xlink:href=\"#DejaVuSans-105\"/>\r\n     <use x=\"635.517578\" xlink:href=\"#DejaVuSans-116\"/>\r\n     <use x=\"674.726562\" xlink:href=\"#DejaVuSans-121\"/>\r\n     <use x=\"733.90625\" xlink:href=\"#DejaVuSans-44\"/>\r\n     <use x=\"765.693359\" xlink:href=\"#DejaVuSans-32\"/>\r\n     <use x=\"797.480469\" xlink:href=\"#DejaVuSans-110\"/>\r\n     <use x=\"860.859375\" xlink:href=\"#DejaVuSans-103\"/>\r\n     <use x=\"924.335938\" xlink:href=\"#DejaVuSans-114\"/>\r\n     <use x=\"965.449219\" xlink:href=\"#DejaVuSans-97\"/>\r\n     <use x=\"1026.728516\" xlink:href=\"#DejaVuSans-109\"/>\r\n     <use x=\"1124.140625\" xlink:href=\"#DejaVuSans-61\"/>\r\n     <use x=\"1207.929688\" xlink:href=\"#DejaVuSans-40\"/>\r\n     <use x=\"1246.943359\" xlink:href=\"#DejaVuSans-49\"/>\r\n     <use x=\"1310.566406\" xlink:href=\"#DejaVuSans-44\"/>\r\n     <use x=\"1342.353516\" xlink:href=\"#DejaVuSans-51\"/>\r\n     <use x=\"1405.976562\" xlink:href=\"#DejaVuSans-41\"/>\r\n     <use x=\"1444.990234\" xlink:href=\"#DejaVuSans-44\"/>\r\n     <use x=\"1476.777344\" xlink:href=\"#DejaVuSans-32\"/>\r\n     <use x=\"1508.564453\" xlink:href=\"#DejaVuSans-109\"/>\r\n     <use x=\"1605.976562\" xlink:href=\"#DejaVuSans-97\"/>\r\n     <use x=\"1667.255859\" xlink:href=\"#DejaVuSans-120\"/>\r\n     <use x=\"1726.435547\" xlink:href=\"#DejaVuSans-95\"/>\r\n     <use x=\"1776.435547\" xlink:href=\"#DejaVuSans-102\"/>\r\n     <use x=\"1811.640625\" xlink:href=\"#DejaVuSans-101\"/>\r\n     <use x=\"1873.164062\" xlink:href=\"#DejaVuSans-97\"/>\r\n     <use x=\"1934.443359\" xlink:href=\"#DejaVuSans-116\"/>\r\n     <use x=\"1973.652344\" xlink:href=\"#DejaVuSans-117\"/>\r\n     <use x=\"2037.03125\" xlink:href=\"#DejaVuSans-114\"/>\r\n     <use x=\"2078.113281\" xlink:href=\"#DejaVuSans-101\"/>\r\n     <use x=\"2139.636719\" xlink:href=\"#DejaVuSans-115\"/>\r\n     <use x=\"2191.736328\" xlink:href=\"#DejaVuSans-61\"/>\r\n     <use x=\"2275.525391\" xlink:href=\"#DejaVuSans-49\"/>\r\n     <use x=\"2339.148438\" xlink:href=\"#DejaVuSans-48\"/>\r\n     <use x=\"2402.771484\" xlink:href=\"#DejaVuSans-48\"/>\r\n     <use x=\"2466.394531\" xlink:href=\"#DejaVuSans-48\"/>\r\n     <use x=\"2530.017578\" xlink:href=\"#DejaVuSans-48\"/>\r\n    </g>\r\n   </g>\r\n  </g>\r\n </g>\r\n <defs>\r\n  <clipPath id=\"pfa2c530758\">\r\n   <rect height=\"326.16\" width=\"446.4\" x=\"53.328125\" y=\"22.318125\"/>\r\n  </clipPath>\r\n </defs>\r\n</svg>\r\n",
      "image/png": "[encoded data removed]"
     },
     "metadata": {
      "needs_background": "light"
     }
    }
   ],
   "source": [
    "# Plot\n",
    "kIdx1 = np.argmin(ppls)\n",
    "\n",
    "fig = plt.figure(figsize=(8, 6))\n",
    "plt.plot(ids, ppls, 'b*-')\n",
    "plt.plot(ids[kIdx1], ppls[kIdx1], marker='o', markersize=14, \n",
    "         markeredgewidth=2, markeredgecolor='r', markerfacecolor='None')\n",
    "plt.title('LDA Perplexity, ngram=(1,3), max_features=10000')\n",
    "plt.xlabel('number of topics')\n",
    "plt.ylabel('perplexity')"
   ]
  },
  {
   "cell_type": "code",
   "execution_count": 34,
   "metadata": {},
   "outputs": [
    {
     "output_type": "execute_result",
     "data": {
      "text/plain": "Text(0, 0.5, 'LogLikelyhood')"
     },
     "metadata": {},
     "execution_count": 34
    },
    {
     "output_type": "display_data",
     "data": {
      "text/plain": "<Figure size 576x432 with 1 Axes>",
      "image/svg+xml": "<?xml version=\"1.0\" encoding=\"utf-8\" standalone=\"no\"?>\r\n<!DOCTYPE svg PUBLIC \"-//W3C//DTD SVG 1.1//EN\"\r\n  \"http://www.w3.org/Graphics/SVG/1.1/DTD/svg11.dtd\">\r\n<!-- Created with matplotlib (https://matplotlib.org/) -->\r\n<svg height=\"386.034375pt\" version=\"1.1\" viewBox=\"0 0 518.485937 386.034375\" width=\"518.485937pt\" xmlns=\"http://www.w3.org/2000/svg\" xmlns:xlink=\"http://www.w3.org/1999/xlink\">\r\n <defs>\r\n  <style type=\"text/css\">\r\n*{stroke-linecap:butt;stroke-linejoin:round;}\r\n  </style>\r\n </defs>\r\n <g id=\"figure_1\">\r\n  <g id=\"patch_1\">\r\n   <path d=\"M 0 386.034375 \r\nL 518.485937 386.034375 \r\nL 518.485937 0 \r\nL 0 0 \r\nz\r\n\" style=\"fill:none;\"/>\r\n  </g>\r\n  <g id=\"axes_1\">\r\n   <g id=\"patch_2\">\r\n    <path d=\"M 64.885938 348.478125 \r\nL 511.285937 348.478125 \r\nL 511.285937 22.318125 \r\nL 64.885938 22.318125 \r\nz\r\n\" style=\"fill:#ffffff;\"/>\r\n   </g>\r\n   <g id=\"matplotlib.axis_1\">\r\n    <g id=\"xtick_1\">\r\n     <g id=\"line2d_1\">\r\n      <defs>\r\n       <path d=\"M 0 0 \r\nL 0 3.5 \r\n\" id=\"mb6823f378c\" style=\"stroke:#000000;stroke-width:0.8;\"/>\r\n      </defs>\r\n      <g>\r\n       <use style=\"stroke:#000000;stroke-width:0.8;\" x=\"85.176847\" xlink:href=\"#mb6823f378c\" y=\"348.478125\"/>\r\n      </g>\r\n     </g>\r\n     <g id=\"text_1\">\r\n      <!-- 2 -->\r\n      <defs>\r\n       <path d=\"M 19.1875 8.296875 \r\nL 53.609375 8.296875 \r\nL 53.609375 0 \r\nL 7.328125 0 \r\nL 7.328125 8.296875 \r\nQ 12.9375 14.109375 22.625 23.890625 \r\nQ 32.328125 33.6875 34.8125 36.53125 \r\nQ 39.546875 41.84375 41.421875 45.53125 \r\nQ 43.3125 49.21875 43.3125 52.78125 \r\nQ 43.3125 58.59375 39.234375 62.25 \r\nQ 35.15625 65.921875 28.609375 65.921875 \r\nQ 23.96875 65.921875 18.8125 64.3125 \r\nQ 13.671875 62.703125 7.8125 59.421875 \r\nL 7.8125 69.390625 \r\nQ 13.765625 71.78125 18.9375 73 \r\nQ 24.125 74.21875 28.421875 74.21875 \r\nQ 39.75 74.21875 46.484375 68.546875 \r\nQ 53.21875 62.890625 53.21875 53.421875 \r\nQ 53.21875 48.921875 51.53125 44.890625 \r\nQ 49.859375 40.875 45.40625 35.40625 \r\nQ 44.1875 33.984375 37.640625 27.21875 \r\nQ 31.109375 20.453125 19.1875 8.296875 \r\nz\r\n\" id=\"DejaVuSans-50\"/>\r\n      </defs>\r\n      <g transform=\"translate(81.995597 363.076562)scale(0.1 -0.1)\">\r\n       <use xlink:href=\"#DejaVuSans-50\"/>\r\n      </g>\r\n     </g>\r\n    </g>\r\n    <g id=\"xtick_2\">\r\n     <g id=\"line2d_2\">\r\n      <g>\r\n       <use style=\"stroke:#000000;stroke-width:0.8;\" x=\"147.610413\" xlink:href=\"#mb6823f378c\" y=\"348.478125\"/>\r\n      </g>\r\n     </g>\r\n     <g id=\"text_2\">\r\n      <!-- 4 -->\r\n      <defs>\r\n       <path d=\"M 37.796875 64.3125 \r\nL 12.890625 25.390625 \r\nL 37.796875 25.390625 \r\nz\r\nM 35.203125 72.90625 \r\nL 47.609375 72.90625 \r\nL 47.609375 25.390625 \r\nL 58.015625 25.390625 \r\nL 58.015625 17.1875 \r\nL 47.609375 17.1875 \r\nL 47.609375 0 \r\nL 37.796875 0 \r\nL 37.796875 17.1875 \r\nL 4.890625 17.1875 \r\nL 4.890625 26.703125 \r\nz\r\n\" id=\"DejaVuSans-52\"/>\r\n      </defs>\r\n      <g transform=\"translate(144.429163 363.076562)scale(0.1 -0.1)\">\r\n       <use xlink:href=\"#DejaVuSans-52\"/>\r\n      </g>\r\n     </g>\r\n    </g>\r\n    <g id=\"xtick_3\">\r\n     <g id=\"line2d_3\">\r\n      <g>\r\n       <use style=\"stroke:#000000;stroke-width:0.8;\" x=\"210.043979\" xlink:href=\"#mb6823f378c\" y=\"348.478125\"/>\r\n      </g>\r\n     </g>\r\n     <g id=\"text_3\">\r\n      <!-- 6 -->\r\n      <defs>\r\n       <path d=\"M 33.015625 40.375 \r\nQ 26.375 40.375 22.484375 35.828125 \r\nQ 18.609375 31.296875 18.609375 23.390625 \r\nQ 18.609375 15.53125 22.484375 10.953125 \r\nQ 26.375 6.390625 33.015625 6.390625 \r\nQ 39.65625 6.390625 43.53125 10.953125 \r\nQ 47.40625 15.53125 47.40625 23.390625 \r\nQ 47.40625 31.296875 43.53125 35.828125 \r\nQ 39.65625 40.375 33.015625 40.375 \r\nz\r\nM 52.59375 71.296875 \r\nL 52.59375 62.3125 \r\nQ 48.875 64.0625 45.09375 64.984375 \r\nQ 41.3125 65.921875 37.59375 65.921875 \r\nQ 27.828125 65.921875 22.671875 59.328125 \r\nQ 17.53125 52.734375 16.796875 39.40625 \r\nQ 19.671875 43.65625 24.015625 45.921875 \r\nQ 28.375 48.1875 33.59375 48.1875 \r\nQ 44.578125 48.1875 50.953125 41.515625 \r\nQ 57.328125 34.859375 57.328125 23.390625 \r\nQ 57.328125 12.15625 50.6875 5.359375 \r\nQ 44.046875 -1.421875 33.015625 -1.421875 \r\nQ 20.359375 -1.421875 13.671875 8.265625 \r\nQ 6.984375 17.96875 6.984375 36.375 \r\nQ 6.984375 53.65625 15.1875 63.9375 \r\nQ 23.390625 74.21875 37.203125 74.21875 \r\nQ 40.921875 74.21875 44.703125 73.484375 \r\nQ 48.484375 72.75 52.59375 71.296875 \r\nz\r\n\" id=\"DejaVuSans-54\"/>\r\n      </defs>\r\n      <g transform=\"translate(206.862729 363.076562)scale(0.1 -0.1)\">\r\n       <use xlink:href=\"#DejaVuSans-54\"/>\r\n      </g>\r\n     </g>\r\n    </g>\r\n    <g id=\"xtick_4\">\r\n     <g id=\"line2d_4\">\r\n      <g>\r\n       <use style=\"stroke:#000000;stroke-width:0.8;\" x=\"272.477546\" xlink:href=\"#mb6823f378c\" y=\"348.478125\"/>\r\n      </g>\r\n     </g>\r\n     <g id=\"text_4\">\r\n      <!-- 8 -->\r\n      <defs>\r\n       <path d=\"M 31.78125 34.625 \r\nQ 24.75 34.625 20.71875 30.859375 \r\nQ 16.703125 27.09375 16.703125 20.515625 \r\nQ 16.703125 13.921875 20.71875 10.15625 \r\nQ 24.75 6.390625 31.78125 6.390625 \r\nQ 38.8125 6.390625 42.859375 10.171875 \r\nQ 46.921875 13.96875 46.921875 20.515625 \r\nQ 46.921875 27.09375 42.890625 30.859375 \r\nQ 38.875 34.625 31.78125 34.625 \r\nz\r\nM 21.921875 38.8125 \r\nQ 15.578125 40.375 12.03125 44.71875 \r\nQ 8.5 49.078125 8.5 55.328125 \r\nQ 8.5 64.0625 14.71875 69.140625 \r\nQ 20.953125 74.21875 31.78125 74.21875 \r\nQ 42.671875 74.21875 48.875 69.140625 \r\nQ 55.078125 64.0625 55.078125 55.328125 \r\nQ 55.078125 49.078125 51.53125 44.71875 \r\nQ 48 40.375 41.703125 38.8125 \r\nQ 48.828125 37.15625 52.796875 32.3125 \r\nQ 56.78125 27.484375 56.78125 20.515625 \r\nQ 56.78125 9.90625 50.3125 4.234375 \r\nQ 43.84375 -1.421875 31.78125 -1.421875 \r\nQ 19.734375 -1.421875 13.25 4.234375 \r\nQ 6.78125 9.90625 6.78125 20.515625 \r\nQ 6.78125 27.484375 10.78125 32.3125 \r\nQ 14.796875 37.15625 21.921875 38.8125 \r\nz\r\nM 18.3125 54.390625 \r\nQ 18.3125 48.734375 21.84375 45.5625 \r\nQ 25.390625 42.390625 31.78125 42.390625 \r\nQ 38.140625 42.390625 41.71875 45.5625 \r\nQ 45.3125 48.734375 45.3125 54.390625 \r\nQ 45.3125 60.0625 41.71875 63.234375 \r\nQ 38.140625 66.40625 31.78125 66.40625 \r\nQ 25.390625 66.40625 21.84375 63.234375 \r\nQ 18.3125 60.0625 18.3125 54.390625 \r\nz\r\n\" id=\"DejaVuSans-56\"/>\r\n      </defs>\r\n      <g transform=\"translate(269.296296 363.076562)scale(0.1 -0.1)\">\r\n       <use xlink:href=\"#DejaVuSans-56\"/>\r\n      </g>\r\n     </g>\r\n    </g>\r\n    <g id=\"xtick_5\">\r\n     <g id=\"line2d_5\">\r\n      <g>\r\n       <use style=\"stroke:#000000;stroke-width:0.8;\" x=\"334.911112\" xlink:href=\"#mb6823f378c\" y=\"348.478125\"/>\r\n      </g>\r\n     </g>\r\n     <g id=\"text_5\">\r\n      <!-- 10 -->\r\n      <defs>\r\n       <path d=\"M 12.40625 8.296875 \r\nL 28.515625 8.296875 \r\nL 28.515625 63.921875 \r\nL 10.984375 60.40625 \r\nL 10.984375 69.390625 \r\nL 28.421875 72.90625 \r\nL 38.28125 72.90625 \r\nL 38.28125 8.296875 \r\nL 54.390625 8.296875 \r\nL 54.390625 0 \r\nL 12.40625 0 \r\nz\r\n\" id=\"DejaVuSans-49\"/>\r\n       <path d=\"M 31.78125 66.40625 \r\nQ 24.171875 66.40625 20.328125 58.90625 \r\nQ 16.5 51.421875 16.5 36.375 \r\nQ 16.5 21.390625 20.328125 13.890625 \r\nQ 24.171875 6.390625 31.78125 6.390625 \r\nQ 39.453125 6.390625 43.28125 13.890625 \r\nQ 47.125 21.390625 47.125 36.375 \r\nQ 47.125 51.421875 43.28125 58.90625 \r\nQ 39.453125 66.40625 31.78125 66.40625 \r\nz\r\nM 31.78125 74.21875 \r\nQ 44.046875 74.21875 50.515625 64.515625 \r\nQ 56.984375 54.828125 56.984375 36.375 \r\nQ 56.984375 17.96875 50.515625 8.265625 \r\nQ 44.046875 -1.421875 31.78125 -1.421875 \r\nQ 19.53125 -1.421875 13.0625 8.265625 \r\nQ 6.59375 17.96875 6.59375 36.375 \r\nQ 6.59375 54.828125 13.0625 64.515625 \r\nQ 19.53125 74.21875 31.78125 74.21875 \r\nz\r\n\" id=\"DejaVuSans-48\"/>\r\n      </defs>\r\n      <g transform=\"translate(328.548612 363.076562)scale(0.1 -0.1)\">\r\n       <use xlink:href=\"#DejaVuSans-49\"/>\r\n       <use x=\"63.623047\" xlink:href=\"#DejaVuSans-48\"/>\r\n      </g>\r\n     </g>\r\n    </g>\r\n    <g id=\"xtick_6\">\r\n     <g id=\"line2d_6\">\r\n      <g>\r\n       <use style=\"stroke:#000000;stroke-width:0.8;\" x=\"397.344679\" xlink:href=\"#mb6823f378c\" y=\"348.478125\"/>\r\n      </g>\r\n     </g>\r\n     <g id=\"text_6\">\r\n      <!-- 12 -->\r\n      <g transform=\"translate(390.982179 363.076562)scale(0.1 -0.1)\">\r\n       <use xlink:href=\"#DejaVuSans-49\"/>\r\n       <use x=\"63.623047\" xlink:href=\"#DejaVuSans-50\"/>\r\n      </g>\r\n     </g>\r\n    </g>\r\n    <g id=\"xtick_7\">\r\n     <g id=\"line2d_7\">\r\n      <g>\r\n       <use style=\"stroke:#000000;stroke-width:0.8;\" x=\"459.778245\" xlink:href=\"#mb6823f378c\" y=\"348.478125\"/>\r\n      </g>\r\n     </g>\r\n     <g id=\"text_7\">\r\n      <!-- 14 -->\r\n      <g transform=\"translate(453.415745 363.076562)scale(0.1 -0.1)\">\r\n       <use xlink:href=\"#DejaVuSans-49\"/>\r\n       <use x=\"63.623047\" xlink:href=\"#DejaVuSans-52\"/>\r\n      </g>\r\n     </g>\r\n    </g>\r\n    <g id=\"text_8\">\r\n     <!-- number of topics -->\r\n     <defs>\r\n      <path d=\"M 54.890625 33.015625 \r\nL 54.890625 0 \r\nL 45.90625 0 \r\nL 45.90625 32.71875 \r\nQ 45.90625 40.484375 42.875 44.328125 \r\nQ 39.84375 48.1875 33.796875 48.1875 \r\nQ 26.515625 48.1875 22.3125 43.546875 \r\nQ 18.109375 38.921875 18.109375 30.90625 \r\nL 18.109375 0 \r\nL 9.078125 0 \r\nL 9.078125 54.6875 \r\nL 18.109375 54.6875 \r\nL 18.109375 46.1875 \r\nQ 21.34375 51.125 25.703125 53.5625 \r\nQ 30.078125 56 35.796875 56 \r\nQ 45.21875 56 50.046875 50.171875 \r\nQ 54.890625 44.34375 54.890625 33.015625 \r\nz\r\n\" id=\"DejaVuSans-110\"/>\r\n      <path d=\"M 8.5 21.578125 \r\nL 8.5 54.6875 \r\nL 17.484375 54.6875 \r\nL 17.484375 21.921875 \r\nQ 17.484375 14.15625 20.5 10.265625 \r\nQ 23.53125 6.390625 29.59375 6.390625 \r\nQ 36.859375 6.390625 41.078125 11.03125 \r\nQ 45.3125 15.671875 45.3125 23.6875 \r\nL 45.3125 54.6875 \r\nL 54.296875 54.6875 \r\nL 54.296875 0 \r\nL 45.3125 0 \r\nL 45.3125 8.40625 \r\nQ 42.046875 3.421875 37.71875 1 \r\nQ 33.40625 -1.421875 27.6875 -1.421875 \r\nQ 18.265625 -1.421875 13.375 4.4375 \r\nQ 8.5 10.296875 8.5 21.578125 \r\nz\r\nM 31.109375 56 \r\nz\r\n\" id=\"DejaVuSans-117\"/>\r\n      <path d=\"M 52 44.1875 \r\nQ 55.375 50.25 60.0625 53.125 \r\nQ 64.75 56 71.09375 56 \r\nQ 79.640625 56 84.28125 50.015625 \r\nQ 88.921875 44.046875 88.921875 33.015625 \r\nL 88.921875 0 \r\nL 79.890625 0 \r\nL 79.890625 32.71875 \r\nQ 79.890625 40.578125 77.09375 44.375 \r\nQ 74.3125 48.1875 68.609375 48.1875 \r\nQ 61.625 48.1875 57.5625 43.546875 \r\nQ 53.515625 38.921875 53.515625 30.90625 \r\nL 53.515625 0 \r\nL 44.484375 0 \r\nL 44.484375 32.71875 \r\nQ 44.484375 40.625 41.703125 44.40625 \r\nQ 38.921875 48.1875 33.109375 48.1875 \r\nQ 26.21875 48.1875 22.15625 43.53125 \r\nQ 18.109375 38.875 18.109375 30.90625 \r\nL 18.109375 0 \r\nL 9.078125 0 \r\nL 9.078125 54.6875 \r\nL 18.109375 54.6875 \r\nL 18.109375 46.1875 \r\nQ 21.1875 51.21875 25.484375 53.609375 \r\nQ 29.78125 56 35.6875 56 \r\nQ 41.65625 56 45.828125 52.96875 \r\nQ 50 49.953125 52 44.1875 \r\nz\r\n\" id=\"DejaVuSans-109\"/>\r\n      <path d=\"M 48.6875 27.296875 \r\nQ 48.6875 37.203125 44.609375 42.84375 \r\nQ 40.53125 48.484375 33.40625 48.484375 \r\nQ 26.265625 48.484375 22.1875 42.84375 \r\nQ 18.109375 37.203125 18.109375 27.296875 \r\nQ 18.109375 17.390625 22.1875 11.75 \r\nQ 26.265625 6.109375 33.40625 6.109375 \r\nQ 40.53125 6.109375 44.609375 11.75 \r\nQ 48.6875 17.390625 48.6875 27.296875 \r\nz\r\nM 18.109375 46.390625 \r\nQ 20.953125 51.265625 25.265625 53.625 \r\nQ 29.59375 56 35.59375 56 \r\nQ 45.5625 56 51.78125 48.09375 \r\nQ 58.015625 40.1875 58.015625 27.296875 \r\nQ 58.015625 14.40625 51.78125 6.484375 \r\nQ 45.5625 -1.421875 35.59375 -1.421875 \r\nQ 29.59375 -1.421875 25.265625 0.953125 \r\nQ 20.953125 3.328125 18.109375 8.203125 \r\nL 18.109375 0 \r\nL 9.078125 0 \r\nL 9.078125 75.984375 \r\nL 18.109375 75.984375 \r\nz\r\n\" id=\"DejaVuSans-98\"/>\r\n      <path d=\"M 56.203125 29.59375 \r\nL 56.203125 25.203125 \r\nL 14.890625 25.203125 \r\nQ 15.484375 15.921875 20.484375 11.0625 \r\nQ 25.484375 6.203125 34.421875 6.203125 \r\nQ 39.59375 6.203125 44.453125 7.46875 \r\nQ 49.3125 8.734375 54.109375 11.28125 \r\nL 54.109375 2.78125 \r\nQ 49.265625 0.734375 44.1875 -0.34375 \r\nQ 39.109375 -1.421875 33.890625 -1.421875 \r\nQ 20.796875 -1.421875 13.15625 6.1875 \r\nQ 5.515625 13.8125 5.515625 26.8125 \r\nQ 5.515625 40.234375 12.765625 48.109375 \r\nQ 20.015625 56 32.328125 56 \r\nQ 43.359375 56 49.78125 48.890625 \r\nQ 56.203125 41.796875 56.203125 29.59375 \r\nz\r\nM 47.21875 32.234375 \r\nQ 47.125 39.59375 43.09375 43.984375 \r\nQ 39.0625 48.390625 32.421875 48.390625 \r\nQ 24.90625 48.390625 20.390625 44.140625 \r\nQ 15.875 39.890625 15.1875 32.171875 \r\nz\r\n\" id=\"DejaVuSans-101\"/>\r\n      <path d=\"M 41.109375 46.296875 \r\nQ 39.59375 47.171875 37.8125 47.578125 \r\nQ 36.03125 48 33.890625 48 \r\nQ 26.265625 48 22.1875 43.046875 \r\nQ 18.109375 38.09375 18.109375 28.8125 \r\nL 18.109375 0 \r\nL 9.078125 0 \r\nL 9.078125 54.6875 \r\nL 18.109375 54.6875 \r\nL 18.109375 46.1875 \r\nQ 20.953125 51.171875 25.484375 53.578125 \r\nQ 30.03125 56 36.53125 56 \r\nQ 37.453125 56 38.578125 55.875 \r\nQ 39.703125 55.765625 41.0625 55.515625 \r\nz\r\n\" id=\"DejaVuSans-114\"/>\r\n      <path id=\"DejaVuSans-32\"/>\r\n      <path d=\"M 30.609375 48.390625 \r\nQ 23.390625 48.390625 19.1875 42.75 \r\nQ 14.984375 37.109375 14.984375 27.296875 \r\nQ 14.984375 17.484375 19.15625 11.84375 \r\nQ 23.34375 6.203125 30.609375 6.203125 \r\nQ 37.796875 6.203125 41.984375 11.859375 \r\nQ 46.1875 17.53125 46.1875 27.296875 \r\nQ 46.1875 37.015625 41.984375 42.703125 \r\nQ 37.796875 48.390625 30.609375 48.390625 \r\nz\r\nM 30.609375 56 \r\nQ 42.328125 56 49.015625 48.375 \r\nQ 55.71875 40.765625 55.71875 27.296875 \r\nQ 55.71875 13.875 49.015625 6.21875 \r\nQ 42.328125 -1.421875 30.609375 -1.421875 \r\nQ 18.84375 -1.421875 12.171875 6.21875 \r\nQ 5.515625 13.875 5.515625 27.296875 \r\nQ 5.515625 40.765625 12.171875 48.375 \r\nQ 18.84375 56 30.609375 56 \r\nz\r\n\" id=\"DejaVuSans-111\"/>\r\n      <path d=\"M 37.109375 75.984375 \r\nL 37.109375 68.5 \r\nL 28.515625 68.5 \r\nQ 23.6875 68.5 21.796875 66.546875 \r\nQ 19.921875 64.59375 19.921875 59.515625 \r\nL 19.921875 54.6875 \r\nL 34.71875 54.6875 \r\nL 34.71875 47.703125 \r\nL 19.921875 47.703125 \r\nL 19.921875 0 \r\nL 10.890625 0 \r\nL 10.890625 47.703125 \r\nL 2.296875 47.703125 \r\nL 2.296875 54.6875 \r\nL 10.890625 54.6875 \r\nL 10.890625 58.5 \r\nQ 10.890625 67.625 15.140625 71.796875 \r\nQ 19.390625 75.984375 28.609375 75.984375 \r\nz\r\n\" id=\"DejaVuSans-102\"/>\r\n      <path d=\"M 18.3125 70.21875 \r\nL 18.3125 54.6875 \r\nL 36.8125 54.6875 \r\nL 36.8125 47.703125 \r\nL 18.3125 47.703125 \r\nL 18.3125 18.015625 \r\nQ 18.3125 11.328125 20.140625 9.421875 \r\nQ 21.96875 7.515625 27.59375 7.515625 \r\nL 36.8125 7.515625 \r\nL 36.8125 0 \r\nL 27.59375 0 \r\nQ 17.1875 0 13.234375 3.875 \r\nQ 9.28125 7.765625 9.28125 18.015625 \r\nL 9.28125 47.703125 \r\nL 2.6875 47.703125 \r\nL 2.6875 54.6875 \r\nL 9.28125 54.6875 \r\nL 9.28125 70.21875 \r\nz\r\n\" id=\"DejaVuSans-116\"/>\r\n      <path d=\"M 18.109375 8.203125 \r\nL 18.109375 -20.796875 \r\nL 9.078125 -20.796875 \r\nL 9.078125 54.6875 \r\nL 18.109375 54.6875 \r\nL 18.109375 46.390625 \r\nQ 20.953125 51.265625 25.265625 53.625 \r\nQ 29.59375 56 35.59375 56 \r\nQ 45.5625 56 51.78125 48.09375 \r\nQ 58.015625 40.1875 58.015625 27.296875 \r\nQ 58.015625 14.40625 51.78125 6.484375 \r\nQ 45.5625 -1.421875 35.59375 -1.421875 \r\nQ 29.59375 -1.421875 25.265625 0.953125 \r\nQ 20.953125 3.328125 18.109375 8.203125 \r\nz\r\nM 48.6875 27.296875 \r\nQ 48.6875 37.203125 44.609375 42.84375 \r\nQ 40.53125 48.484375 33.40625 48.484375 \r\nQ 26.265625 48.484375 22.1875 42.84375 \r\nQ 18.109375 37.203125 18.109375 27.296875 \r\nQ 18.109375 17.390625 22.1875 11.75 \r\nQ 26.265625 6.109375 33.40625 6.109375 \r\nQ 40.53125 6.109375 44.609375 11.75 \r\nQ 48.6875 17.390625 48.6875 27.296875 \r\nz\r\n\" id=\"DejaVuSans-112\"/>\r\n      <path d=\"M 9.421875 54.6875 \r\nL 18.40625 54.6875 \r\nL 18.40625 0 \r\nL 9.421875 0 \r\nz\r\nM 9.421875 75.984375 \r\nL 18.40625 75.984375 \r\nL 18.40625 64.59375 \r\nL 9.421875 64.59375 \r\nz\r\n\" id=\"DejaVuSans-105\"/>\r\n      <path d=\"M 48.78125 52.59375 \r\nL 48.78125 44.1875 \r\nQ 44.96875 46.296875 41.140625 47.34375 \r\nQ 37.3125 48.390625 33.40625 48.390625 \r\nQ 24.65625 48.390625 19.8125 42.84375 \r\nQ 14.984375 37.3125 14.984375 27.296875 \r\nQ 14.984375 17.28125 19.8125 11.734375 \r\nQ 24.65625 6.203125 33.40625 6.203125 \r\nQ 37.3125 6.203125 41.140625 7.25 \r\nQ 44.96875 8.296875 48.78125 10.40625 \r\nL 48.78125 2.09375 \r\nQ 45.015625 0.34375 40.984375 -0.53125 \r\nQ 36.96875 -1.421875 32.421875 -1.421875 \r\nQ 20.0625 -1.421875 12.78125 6.34375 \r\nQ 5.515625 14.109375 5.515625 27.296875 \r\nQ 5.515625 40.671875 12.859375 48.328125 \r\nQ 20.21875 56 33.015625 56 \r\nQ 37.15625 56 41.109375 55.140625 \r\nQ 45.0625 54.296875 48.78125 52.59375 \r\nz\r\n\" id=\"DejaVuSans-99\"/>\r\n      <path d=\"M 44.28125 53.078125 \r\nL 44.28125 44.578125 \r\nQ 40.484375 46.53125 36.375 47.5 \r\nQ 32.28125 48.484375 27.875 48.484375 \r\nQ 21.1875 48.484375 17.84375 46.4375 \r\nQ 14.5 44.390625 14.5 40.28125 \r\nQ 14.5 37.15625 16.890625 35.375 \r\nQ 19.28125 33.59375 26.515625 31.984375 \r\nL 29.59375 31.296875 \r\nQ 39.15625 29.25 43.1875 25.515625 \r\nQ 47.21875 21.78125 47.21875 15.09375 \r\nQ 47.21875 7.46875 41.1875 3.015625 \r\nQ 35.15625 -1.421875 24.609375 -1.421875 \r\nQ 20.21875 -1.421875 15.453125 -0.5625 \r\nQ 10.6875 0.296875 5.421875 2 \r\nL 5.421875 11.28125 \r\nQ 10.40625 8.6875 15.234375 7.390625 \r\nQ 20.0625 6.109375 24.8125 6.109375 \r\nQ 31.15625 6.109375 34.5625 8.28125 \r\nQ 37.984375 10.453125 37.984375 14.40625 \r\nQ 37.984375 18.0625 35.515625 20.015625 \r\nQ 33.0625 21.96875 24.703125 23.78125 \r\nL 21.578125 24.515625 \r\nQ 13.234375 26.265625 9.515625 29.90625 \r\nQ 5.8125 33.546875 5.8125 39.890625 \r\nQ 5.8125 47.609375 11.28125 51.796875 \r\nQ 16.75 56 26.8125 56 \r\nQ 31.78125 56 36.171875 55.265625 \r\nQ 40.578125 54.546875 44.28125 53.078125 \r\nz\r\n\" id=\"DejaVuSans-115\"/>\r\n     </defs>\r\n     <g transform=\"translate(245.6375 376.754687)scale(0.1 -0.1)\">\r\n      <use xlink:href=\"#DejaVuSans-110\"/>\r\n      <use x=\"63.378906\" xlink:href=\"#DejaVuSans-117\"/>\r\n      <use x=\"126.757812\" xlink:href=\"#DejaVuSans-109\"/>\r\n      <use x=\"224.169922\" xlink:href=\"#DejaVuSans-98\"/>\r\n      <use x=\"287.646484\" xlink:href=\"#DejaVuSans-101\"/>\r\n      <use x=\"349.169922\" xlink:href=\"#DejaVuSans-114\"/>\r\n      <use x=\"390.283203\" xlink:href=\"#DejaVuSans-32\"/>\r\n      <use x=\"422.070312\" xlink:href=\"#DejaVuSans-111\"/>\r\n      <use x=\"483.251953\" xlink:href=\"#DejaVuSans-102\"/>\r\n      <use x=\"518.457031\" xlink:href=\"#DejaVuSans-32\"/>\r\n      <use x=\"550.244141\" xlink:href=\"#DejaVuSans-116\"/>\r\n      <use x=\"589.453125\" xlink:href=\"#DejaVuSans-111\"/>\r\n      <use x=\"650.634766\" xlink:href=\"#DejaVuSans-112\"/>\r\n      <use x=\"714.111328\" xlink:href=\"#DejaVuSans-105\"/>\r\n      <use x=\"741.894531\" xlink:href=\"#DejaVuSans-99\"/>\r\n      <use x=\"796.875\" xlink:href=\"#DejaVuSans-115\"/>\r\n     </g>\r\n    </g>\r\n   </g>\r\n   <g id=\"matplotlib.axis_2\">\r\n    <g id=\"ytick_1\">\r\n     <g id=\"line2d_8\">\r\n      <defs>\r\n       <path d=\"M 0 0 \r\nL -3.5 0 \r\n\" id=\"me004abed37\" style=\"stroke:#000000;stroke-width:0.8;\"/>\r\n      </defs>\r\n      <g>\r\n       <use style=\"stroke:#000000;stroke-width:0.8;\" x=\"64.885938\" xlink:href=\"#me004abed37\" y=\"330.068888\"/>\r\n      </g>\r\n     </g>\r\n     <g id=\"text_9\">\r\n      <!-- −1.200 -->\r\n      <defs>\r\n       <path d=\"M 10.59375 35.5 \r\nL 73.1875 35.5 \r\nL 73.1875 27.203125 \r\nL 10.59375 27.203125 \r\nz\r\n\" id=\"DejaVuSans-8722\"/>\r\n       <path d=\"M 10.6875 12.40625 \r\nL 21 12.40625 \r\nL 21 0 \r\nL 10.6875 0 \r\nz\r\n\" id=\"DejaVuSans-46\"/>\r\n      </defs>\r\n      <g transform=\"translate(20.878125 333.868106)scale(0.1 -0.1)\">\r\n       <use xlink:href=\"#DejaVuSans-8722\"/>\r\n       <use x=\"83.789062\" xlink:href=\"#DejaVuSans-49\"/>\r\n       <use x=\"147.412109\" xlink:href=\"#DejaVuSans-46\"/>\r\n       <use x=\"179.199219\" xlink:href=\"#DejaVuSans-50\"/>\r\n       <use x=\"242.822266\" xlink:href=\"#DejaVuSans-48\"/>\r\n       <use x=\"306.445312\" xlink:href=\"#DejaVuSans-48\"/>\r\n      </g>\r\n     </g>\r\n    </g>\r\n    <g id=\"ytick_2\">\r\n     <g id=\"line2d_9\">\r\n      <g>\r\n       <use style=\"stroke:#000000;stroke-width:0.8;\" x=\"64.885938\" xlink:href=\"#me004abed37\" y=\"281.563228\"/>\r\n      </g>\r\n     </g>\r\n     <g id=\"text_10\">\r\n      <!-- −1.195 -->\r\n      <defs>\r\n       <path d=\"M 10.984375 1.515625 \r\nL 10.984375 10.5 \r\nQ 14.703125 8.734375 18.5 7.8125 \r\nQ 22.3125 6.890625 25.984375 6.890625 \r\nQ 35.75 6.890625 40.890625 13.453125 \r\nQ 46.046875 20.015625 46.78125 33.40625 \r\nQ 43.953125 29.203125 39.59375 26.953125 \r\nQ 35.25 24.703125 29.984375 24.703125 \r\nQ 19.046875 24.703125 12.671875 31.3125 \r\nQ 6.296875 37.9375 6.296875 49.421875 \r\nQ 6.296875 60.640625 12.9375 67.421875 \r\nQ 19.578125 74.21875 30.609375 74.21875 \r\nQ 43.265625 74.21875 49.921875 64.515625 \r\nQ 56.59375 54.828125 56.59375 36.375 \r\nQ 56.59375 19.140625 48.40625 8.859375 \r\nQ 40.234375 -1.421875 26.421875 -1.421875 \r\nQ 22.703125 -1.421875 18.890625 -0.6875 \r\nQ 15.09375 0.046875 10.984375 1.515625 \r\nz\r\nM 30.609375 32.421875 \r\nQ 37.25 32.421875 41.125 36.953125 \r\nQ 45.015625 41.5 45.015625 49.421875 \r\nQ 45.015625 57.28125 41.125 61.84375 \r\nQ 37.25 66.40625 30.609375 66.40625 \r\nQ 23.96875 66.40625 20.09375 61.84375 \r\nQ 16.21875 57.28125 16.21875 49.421875 \r\nQ 16.21875 41.5 20.09375 36.953125 \r\nQ 23.96875 32.421875 30.609375 32.421875 \r\nz\r\n\" id=\"DejaVuSans-57\"/>\r\n       <path d=\"M 10.796875 72.90625 \r\nL 49.515625 72.90625 \r\nL 49.515625 64.59375 \r\nL 19.828125 64.59375 \r\nL 19.828125 46.734375 \r\nQ 21.96875 47.46875 24.109375 47.828125 \r\nQ 26.265625 48.1875 28.421875 48.1875 \r\nQ 40.625 48.1875 47.75 41.5 \r\nQ 54.890625 34.8125 54.890625 23.390625 \r\nQ 54.890625 11.625 47.5625 5.09375 \r\nQ 40.234375 -1.421875 26.90625 -1.421875 \r\nQ 22.3125 -1.421875 17.546875 -0.640625 \r\nQ 12.796875 0.140625 7.71875 1.703125 \r\nL 7.71875 11.625 \r\nQ 12.109375 9.234375 16.796875 8.0625 \r\nQ 21.484375 6.890625 26.703125 6.890625 \r\nQ 35.15625 6.890625 40.078125 11.328125 \r\nQ 45.015625 15.765625 45.015625 23.390625 \r\nQ 45.015625 31 40.078125 35.4375 \r\nQ 35.15625 39.890625 26.703125 39.890625 \r\nQ 22.75 39.890625 18.8125 39.015625 \r\nQ 14.890625 38.140625 10.796875 36.28125 \r\nz\r\n\" id=\"DejaVuSans-53\"/>\r\n      </defs>\r\n      <g transform=\"translate(20.878125 285.362447)scale(0.1 -0.1)\">\r\n       <use xlink:href=\"#DejaVuSans-8722\"/>\r\n       <use x=\"83.789062\" xlink:href=\"#DejaVuSans-49\"/>\r\n       <use x=\"147.412109\" xlink:href=\"#DejaVuSans-46\"/>\r\n       <use x=\"179.199219\" xlink:href=\"#DejaVuSans-49\"/>\r\n       <use x=\"242.822266\" xlink:href=\"#DejaVuSans-57\"/>\r\n       <use x=\"306.445312\" xlink:href=\"#DejaVuSans-53\"/>\r\n      </g>\r\n     </g>\r\n    </g>\r\n    <g id=\"ytick_3\">\r\n     <g id=\"line2d_10\">\r\n      <g>\r\n       <use style=\"stroke:#000000;stroke-width:0.8;\" x=\"64.885938\" xlink:href=\"#me004abed37\" y=\"233.057568\"/>\r\n      </g>\r\n     </g>\r\n     <g id=\"text_11\">\r\n      <!-- −1.190 -->\r\n      <g transform=\"translate(20.878125 236.856787)scale(0.1 -0.1)\">\r\n       <use xlink:href=\"#DejaVuSans-8722\"/>\r\n       <use x=\"83.789062\" xlink:href=\"#DejaVuSans-49\"/>\r\n       <use x=\"147.412109\" xlink:href=\"#DejaVuSans-46\"/>\r\n       <use x=\"179.199219\" xlink:href=\"#DejaVuSans-49\"/>\r\n       <use x=\"242.822266\" xlink:href=\"#DejaVuSans-57\"/>\r\n       <use x=\"306.445312\" xlink:href=\"#DejaVuSans-48\"/>\r\n      </g>\r\n     </g>\r\n    </g>\r\n    <g id=\"ytick_4\">\r\n     <g id=\"line2d_11\">\r\n      <g>\r\n       <use style=\"stroke:#000000;stroke-width:0.8;\" x=\"64.885938\" xlink:href=\"#me004abed37\" y=\"184.551908\"/>\r\n      </g>\r\n     </g>\r\n     <g id=\"text_12\">\r\n      <!-- −1.185 -->\r\n      <g transform=\"translate(20.878125 188.351127)scale(0.1 -0.1)\">\r\n       <use xlink:href=\"#DejaVuSans-8722\"/>\r\n       <use x=\"83.789062\" xlink:href=\"#DejaVuSans-49\"/>\r\n       <use x=\"147.412109\" xlink:href=\"#DejaVuSans-46\"/>\r\n       <use x=\"179.199219\" xlink:href=\"#DejaVuSans-49\"/>\r\n       <use x=\"242.822266\" xlink:href=\"#DejaVuSans-56\"/>\r\n       <use x=\"306.445312\" xlink:href=\"#DejaVuSans-53\"/>\r\n      </g>\r\n     </g>\r\n    </g>\r\n    <g id=\"ytick_5\">\r\n     <g id=\"line2d_12\">\r\n      <g>\r\n       <use style=\"stroke:#000000;stroke-width:0.8;\" x=\"64.885938\" xlink:href=\"#me004abed37\" y=\"136.046248\"/>\r\n      </g>\r\n     </g>\r\n     <g id=\"text_13\">\r\n      <!-- −1.180 -->\r\n      <g transform=\"translate(20.878125 139.845467)scale(0.1 -0.1)\">\r\n       <use xlink:href=\"#DejaVuSans-8722\"/>\r\n       <use x=\"83.789062\" xlink:href=\"#DejaVuSans-49\"/>\r\n       <use x=\"147.412109\" xlink:href=\"#DejaVuSans-46\"/>\r\n       <use x=\"179.199219\" xlink:href=\"#DejaVuSans-49\"/>\r\n       <use x=\"242.822266\" xlink:href=\"#DejaVuSans-56\"/>\r\n       <use x=\"306.445312\" xlink:href=\"#DejaVuSans-48\"/>\r\n      </g>\r\n     </g>\r\n    </g>\r\n    <g id=\"ytick_6\">\r\n     <g id=\"line2d_13\">\r\n      <g>\r\n       <use style=\"stroke:#000000;stroke-width:0.8;\" x=\"64.885938\" xlink:href=\"#me004abed37\" y=\"87.540589\"/>\r\n      </g>\r\n     </g>\r\n     <g id=\"text_14\">\r\n      <!-- −1.175 -->\r\n      <defs>\r\n       <path d=\"M 8.203125 72.90625 \r\nL 55.078125 72.90625 \r\nL 55.078125 68.703125 \r\nL 28.609375 0 \r\nL 18.3125 0 \r\nL 43.21875 64.59375 \r\nL 8.203125 64.59375 \r\nz\r\n\" id=\"DejaVuSans-55\"/>\r\n      </defs>\r\n      <g transform=\"translate(20.878125 91.339807)scale(0.1 -0.1)\">\r\n       <use xlink:href=\"#DejaVuSans-8722\"/>\r\n       <use x=\"83.789062\" xlink:href=\"#DejaVuSans-49\"/>\r\n       <use x=\"147.412109\" xlink:href=\"#DejaVuSans-46\"/>\r\n       <use x=\"179.199219\" xlink:href=\"#DejaVuSans-49\"/>\r\n       <use x=\"242.822266\" xlink:href=\"#DejaVuSans-55\"/>\r\n       <use x=\"306.445312\" xlink:href=\"#DejaVuSans-53\"/>\r\n      </g>\r\n     </g>\r\n    </g>\r\n    <g id=\"ytick_7\">\r\n     <g id=\"line2d_14\">\r\n      <g>\r\n       <use style=\"stroke:#000000;stroke-width:0.8;\" x=\"64.885938\" xlink:href=\"#me004abed37\" y=\"39.034929\"/>\r\n      </g>\r\n     </g>\r\n     <g id=\"text_15\">\r\n      <!-- −1.170 -->\r\n      <g transform=\"translate(20.878125 42.834148)scale(0.1 -0.1)\">\r\n       <use xlink:href=\"#DejaVuSans-8722\"/>\r\n       <use x=\"83.789062\" xlink:href=\"#DejaVuSans-49\"/>\r\n       <use x=\"147.412109\" xlink:href=\"#DejaVuSans-46\"/>\r\n       <use x=\"179.199219\" xlink:href=\"#DejaVuSans-49\"/>\r\n       <use x=\"242.822266\" xlink:href=\"#DejaVuSans-55\"/>\r\n       <use x=\"306.445312\" xlink:href=\"#DejaVuSans-48\"/>\r\n      </g>\r\n     </g>\r\n    </g>\r\n    <g id=\"text_16\">\r\n     <!-- LogLikelyhood -->\r\n     <defs>\r\n      <path d=\"M 9.8125 72.90625 \r\nL 19.671875 72.90625 \r\nL 19.671875 8.296875 \r\nL 55.171875 8.296875 \r\nL 55.171875 0 \r\nL 9.8125 0 \r\nz\r\n\" id=\"DejaVuSans-76\"/>\r\n      <path d=\"M 45.40625 27.984375 \r\nQ 45.40625 37.75 41.375 43.109375 \r\nQ 37.359375 48.484375 30.078125 48.484375 \r\nQ 22.859375 48.484375 18.828125 43.109375 \r\nQ 14.796875 37.75 14.796875 27.984375 \r\nQ 14.796875 18.265625 18.828125 12.890625 \r\nQ 22.859375 7.515625 30.078125 7.515625 \r\nQ 37.359375 7.515625 41.375 12.890625 \r\nQ 45.40625 18.265625 45.40625 27.984375 \r\nz\r\nM 54.390625 6.78125 \r\nQ 54.390625 -7.171875 48.1875 -13.984375 \r\nQ 42 -20.796875 29.203125 -20.796875 \r\nQ 24.46875 -20.796875 20.265625 -20.09375 \r\nQ 16.0625 -19.390625 12.109375 -17.921875 \r\nL 12.109375 -9.1875 \r\nQ 16.0625 -11.328125 19.921875 -12.34375 \r\nQ 23.78125 -13.375 27.78125 -13.375 \r\nQ 36.625 -13.375 41.015625 -8.765625 \r\nQ 45.40625 -4.15625 45.40625 5.171875 \r\nL 45.40625 9.625 \r\nQ 42.625 4.78125 38.28125 2.390625 \r\nQ 33.9375 0 27.875 0 \r\nQ 17.828125 0 11.671875 7.65625 \r\nQ 5.515625 15.328125 5.515625 27.984375 \r\nQ 5.515625 40.671875 11.671875 48.328125 \r\nQ 17.828125 56 27.875 56 \r\nQ 33.9375 56 38.28125 53.609375 \r\nQ 42.625 51.21875 45.40625 46.390625 \r\nL 45.40625 54.6875 \r\nL 54.390625 54.6875 \r\nz\r\n\" id=\"DejaVuSans-103\"/>\r\n      <path d=\"M 9.078125 75.984375 \r\nL 18.109375 75.984375 \r\nL 18.109375 31.109375 \r\nL 44.921875 54.6875 \r\nL 56.390625 54.6875 \r\nL 27.390625 29.109375 \r\nL 57.625 0 \r\nL 45.90625 0 \r\nL 18.109375 26.703125 \r\nL 18.109375 0 \r\nL 9.078125 0 \r\nz\r\n\" id=\"DejaVuSans-107\"/>\r\n      <path d=\"M 9.421875 75.984375 \r\nL 18.40625 75.984375 \r\nL 18.40625 0 \r\nL 9.421875 0 \r\nz\r\n\" id=\"DejaVuSans-108\"/>\r\n      <path d=\"M 32.171875 -5.078125 \r\nQ 28.375 -14.84375 24.75 -17.8125 \r\nQ 21.140625 -20.796875 15.09375 -20.796875 \r\nL 7.90625 -20.796875 \r\nL 7.90625 -13.28125 \r\nL 13.1875 -13.28125 \r\nQ 16.890625 -13.28125 18.9375 -11.515625 \r\nQ 21 -9.765625 23.484375 -3.21875 \r\nL 25.09375 0.875 \r\nL 2.984375 54.6875 \r\nL 12.5 54.6875 \r\nL 29.59375 11.921875 \r\nL 46.6875 54.6875 \r\nL 56.203125 54.6875 \r\nz\r\n\" id=\"DejaVuSans-121\"/>\r\n      <path d=\"M 54.890625 33.015625 \r\nL 54.890625 0 \r\nL 45.90625 0 \r\nL 45.90625 32.71875 \r\nQ 45.90625 40.484375 42.875 44.328125 \r\nQ 39.84375 48.1875 33.796875 48.1875 \r\nQ 26.515625 48.1875 22.3125 43.546875 \r\nQ 18.109375 38.921875 18.109375 30.90625 \r\nL 18.109375 0 \r\nL 9.078125 0 \r\nL 9.078125 75.984375 \r\nL 18.109375 75.984375 \r\nL 18.109375 46.1875 \r\nQ 21.34375 51.125 25.703125 53.5625 \r\nQ 30.078125 56 35.796875 56 \r\nQ 45.21875 56 50.046875 50.171875 \r\nQ 54.890625 44.34375 54.890625 33.015625 \r\nz\r\n\" id=\"DejaVuSans-104\"/>\r\n      <path d=\"M 45.40625 46.390625 \r\nL 45.40625 75.984375 \r\nL 54.390625 75.984375 \r\nL 54.390625 0 \r\nL 45.40625 0 \r\nL 45.40625 8.203125 \r\nQ 42.578125 3.328125 38.25 0.953125 \r\nQ 33.9375 -1.421875 27.875 -1.421875 \r\nQ 17.96875 -1.421875 11.734375 6.484375 \r\nQ 5.515625 14.40625 5.515625 27.296875 \r\nQ 5.515625 40.1875 11.734375 48.09375 \r\nQ 17.96875 56 27.875 56 \r\nQ 33.9375 56 38.25 53.625 \r\nQ 42.578125 51.265625 45.40625 46.390625 \r\nz\r\nM 14.796875 27.296875 \r\nQ 14.796875 17.390625 18.875 11.75 \r\nQ 22.953125 6.109375 30.078125 6.109375 \r\nQ 37.203125 6.109375 41.296875 11.75 \r\nQ 45.40625 17.390625 45.40625 27.296875 \r\nQ 45.40625 37.203125 41.296875 42.84375 \r\nQ 37.203125 48.484375 30.078125 48.484375 \r\nQ 22.953125 48.484375 18.875 42.84375 \r\nQ 14.796875 37.203125 14.796875 27.296875 \r\nz\r\n\" id=\"DejaVuSans-100\"/>\r\n     </defs>\r\n     <g transform=\"translate(14.798438 221.371562)rotate(-90)scale(0.1 -0.1)\">\r\n      <use xlink:href=\"#DejaVuSans-76\"/>\r\n      <use x=\"55.697266\" xlink:href=\"#DejaVuSans-111\"/>\r\n      <use x=\"116.878906\" xlink:href=\"#DejaVuSans-103\"/>\r\n      <use x=\"180.355469\" xlink:href=\"#DejaVuSans-76\"/>\r\n      <use x=\"236.068359\" xlink:href=\"#DejaVuSans-105\"/>\r\n      <use x=\"263.851562\" xlink:href=\"#DejaVuSans-107\"/>\r\n      <use x=\"321.714844\" xlink:href=\"#DejaVuSans-101\"/>\r\n      <use x=\"383.238281\" xlink:href=\"#DejaVuSans-108\"/>\r\n      <use x=\"411.021484\" xlink:href=\"#DejaVuSans-121\"/>\r\n      <use x=\"470.201172\" xlink:href=\"#DejaVuSans-104\"/>\r\n      <use x=\"533.580078\" xlink:href=\"#DejaVuSans-111\"/>\r\n      <use x=\"594.761719\" xlink:href=\"#DejaVuSans-111\"/>\r\n      <use x=\"655.943359\" xlink:href=\"#DejaVuSans-100\"/>\r\n     </g>\r\n    </g>\r\n    <g id=\"text_17\">\r\n     <!-- 1e7 -->\r\n     <g transform=\"translate(64.885938 19.318125)scale(0.1 -0.1)\">\r\n      <use xlink:href=\"#DejaVuSans-49\"/>\r\n      <use x=\"63.623047\" xlink:href=\"#DejaVuSans-101\"/>\r\n      <use x=\"125.146484\" xlink:href=\"#DejaVuSans-55\"/>\r\n     </g>\r\n    </g>\r\n   </g>\r\n   <g id=\"line2d_15\">\r\n    <path clip-path=\"url(#pf9fe4271cc)\" d=\"M 85.176847 279.243096 \r\nL 116.39363 244.395477 \r\nL 147.610413 55.289179 \r\nL 178.827196 37.14358 \r\nL 210.043979 138.30011 \r\nL 241.260763 186.436084 \r\nL 272.477546 215.567074 \r\nL 303.694329 157.874751 \r\nL 334.911112 280.439698 \r\nL 366.127896 255.807782 \r\nL 397.344679 248.596358 \r\nL 428.561462 247.309296 \r\nL 459.778245 284.677053 \r\nL 490.995028 333.65267 \r\n\" style=\"fill:none;stroke:#008000;stroke-linecap:square;stroke-width:1.5;\"/>\r\n    <defs>\r\n     <path d=\"M 0 -3 \r\nL -0.673542 -0.927051 \r\nL -2.85317 -0.927051 \r\nL -1.089814 0.354102 \r\nL -1.763356 2.427051 \r\nL -0 1.145898 \r\nL 1.763356 2.427051 \r\nL 1.089814 0.354102 \r\nL 2.85317 -0.927051 \r\nL 0.673542 -0.927051 \r\nz\r\n\" id=\"m31477677fa\" style=\"stroke:#008000;stroke-linejoin:bevel;\"/>\r\n    </defs>\r\n    <g clip-path=\"url(#pf9fe4271cc)\">\r\n     <use style=\"fill:#008000;stroke:#008000;stroke-linejoin:bevel;\" x=\"85.176847\" xlink:href=\"#m31477677fa\" y=\"279.243096\"/>\r\n     <use style=\"fill:#008000;stroke:#008000;stroke-linejoin:bevel;\" x=\"116.39363\" xlink:href=\"#m31477677fa\" y=\"244.395477\"/>\r\n     <use style=\"fill:#008000;stroke:#008000;stroke-linejoin:bevel;\" x=\"147.610413\" xlink:href=\"#m31477677fa\" y=\"55.289179\"/>\r\n     <use style=\"fill:#008000;stroke:#008000;stroke-linejoin:bevel;\" x=\"178.827196\" xlink:href=\"#m31477677fa\" y=\"37.14358\"/>\r\n     <use style=\"fill:#008000;stroke:#008000;stroke-linejoin:bevel;\" x=\"210.043979\" xlink:href=\"#m31477677fa\" y=\"138.30011\"/>\r\n     <use style=\"fill:#008000;stroke:#008000;stroke-linejoin:bevel;\" x=\"241.260763\" xlink:href=\"#m31477677fa\" y=\"186.436084\"/>\r\n     <use style=\"fill:#008000;stroke:#008000;stroke-linejoin:bevel;\" x=\"272.477546\" xlink:href=\"#m31477677fa\" y=\"215.567074\"/>\r\n     <use style=\"fill:#008000;stroke:#008000;stroke-linejoin:bevel;\" x=\"303.694329\" xlink:href=\"#m31477677fa\" y=\"157.874751\"/>\r\n     <use style=\"fill:#008000;stroke:#008000;stroke-linejoin:bevel;\" x=\"334.911112\" xlink:href=\"#m31477677fa\" y=\"280.439698\"/>\r\n     <use style=\"fill:#008000;stroke:#008000;stroke-linejoin:bevel;\" x=\"366.127896\" xlink:href=\"#m31477677fa\" y=\"255.807782\"/>\r\n     <use style=\"fill:#008000;stroke:#008000;stroke-linejoin:bevel;\" x=\"397.344679\" xlink:href=\"#m31477677fa\" y=\"248.596358\"/>\r\n     <use style=\"fill:#008000;stroke:#008000;stroke-linejoin:bevel;\" x=\"428.561462\" xlink:href=\"#m31477677fa\" y=\"247.309296\"/>\r\n     <use style=\"fill:#008000;stroke:#008000;stroke-linejoin:bevel;\" x=\"459.778245\" xlink:href=\"#m31477677fa\" y=\"284.677053\"/>\r\n     <use style=\"fill:#008000;stroke:#008000;stroke-linejoin:bevel;\" x=\"490.995028\" xlink:href=\"#m31477677fa\" y=\"333.65267\"/>\r\n    </g>\r\n   </g>\r\n   <g id=\"line2d_16\">\r\n    <path clip-path=\"url(#pf9fe4271cc)\" d=\"M 178.827196 37.14358 \r\n\" style=\"fill:none;stroke:#1f77b4;stroke-linecap:square;stroke-width:1.5;\"/>\r\n    <defs>\r\n     <path d=\"M 0 7 \r\nC 1.856422 7 3.637059 6.262436 4.949747 4.949747 \r\nC 6.262436 3.637059 7 1.856422 7 0 \r\nC 7 -1.856422 6.262436 -3.637059 4.949747 -4.949747 \r\nC 3.637059 -6.262436 1.856422 -7 0 -7 \r\nC -1.856422 -7 -3.637059 -6.262436 -4.949747 -4.949747 \r\nC -6.262436 -3.637059 -7 -1.856422 -7 0 \r\nC -7 1.856422 -6.262436 3.637059 -4.949747 4.949747 \r\nC -3.637059 6.262436 -1.856422 7 0 7 \r\nz\r\n\" id=\"m903df1e417\" style=\"stroke:#ff0000;stroke-width:2;\"/>\r\n    </defs>\r\n    <g clip-path=\"url(#pf9fe4271cc)\">\r\n     <use style=\"fill-opacity:0;stroke:#ff0000;stroke-width:2;\" x=\"178.827196\" xlink:href=\"#m903df1e417\" y=\"37.14358\"/>\r\n    </g>\r\n   </g>\r\n   <g id=\"patch_3\">\r\n    <path d=\"M 64.885938 348.478125 \r\nL 64.885938 22.318125 \r\n\" style=\"fill:none;stroke:#000000;stroke-linecap:square;stroke-linejoin:miter;stroke-width:0.8;\"/>\r\n   </g>\r\n   <g id=\"patch_4\">\r\n    <path d=\"M 511.285937 348.478125 \r\nL 511.285937 22.318125 \r\n\" style=\"fill:none;stroke:#000000;stroke-linecap:square;stroke-linejoin:miter;stroke-width:0.8;\"/>\r\n   </g>\r\n   <g id=\"patch_5\">\r\n    <path d=\"M 64.885938 348.478125 \r\nL 511.285937 348.478125 \r\n\" style=\"fill:none;stroke:#000000;stroke-linecap:square;stroke-linejoin:miter;stroke-width:0.8;\"/>\r\n   </g>\r\n   <g id=\"patch_6\">\r\n    <path d=\"M 64.885938 22.318125 \r\nL 511.285937 22.318125 \r\n\" style=\"fill:none;stroke:#000000;stroke-linecap:square;stroke-linejoin:miter;stroke-width:0.8;\"/>\r\n   </g>\r\n   <g id=\"text_18\">\r\n    <!-- LDA LogLikelyhood, ngram=(1,3), max_features=10000 -->\r\n    <defs>\r\n     <path d=\"M 19.671875 64.796875 \r\nL 19.671875 8.109375 \r\nL 31.59375 8.109375 \r\nQ 46.6875 8.109375 53.6875 14.9375 \r\nQ 60.6875 21.78125 60.6875 36.53125 \r\nQ 60.6875 51.171875 53.6875 57.984375 \r\nQ 46.6875 64.796875 31.59375 64.796875 \r\nz\r\nM 9.8125 72.90625 \r\nL 30.078125 72.90625 \r\nQ 51.265625 72.90625 61.171875 64.09375 \r\nQ 71.09375 55.28125 71.09375 36.53125 \r\nQ 71.09375 17.671875 61.125 8.828125 \r\nQ 51.171875 0 30.078125 0 \r\nL 9.8125 0 \r\nz\r\n\" id=\"DejaVuSans-68\"/>\r\n     <path d=\"M 34.1875 63.1875 \r\nL 20.796875 26.90625 \r\nL 47.609375 26.90625 \r\nz\r\nM 28.609375 72.90625 \r\nL 39.796875 72.90625 \r\nL 67.578125 0 \r\nL 57.328125 0 \r\nL 50.6875 18.703125 \r\nL 17.828125 18.703125 \r\nL 11.1875 0 \r\nL 0.78125 0 \r\nz\r\n\" id=\"DejaVuSans-65\"/>\r\n     <path d=\"M 11.71875 12.40625 \r\nL 22.015625 12.40625 \r\nL 22.015625 4 \r\nL 14.015625 -11.625 \r\nL 7.71875 -11.625 \r\nL 11.71875 4 \r\nz\r\n\" id=\"DejaVuSans-44\"/>\r\n     <path d=\"M 34.28125 27.484375 \r\nQ 23.390625 27.484375 19.1875 25 \r\nQ 14.984375 22.515625 14.984375 16.5 \r\nQ 14.984375 11.71875 18.140625 8.90625 \r\nQ 21.296875 6.109375 26.703125 6.109375 \r\nQ 34.1875 6.109375 38.703125 11.40625 \r\nQ 43.21875 16.703125 43.21875 25.484375 \r\nL 43.21875 27.484375 \r\nz\r\nM 52.203125 31.203125 \r\nL 52.203125 0 \r\nL 43.21875 0 \r\nL 43.21875 8.296875 \r\nQ 40.140625 3.328125 35.546875 0.953125 \r\nQ 30.953125 -1.421875 24.3125 -1.421875 \r\nQ 15.921875 -1.421875 10.953125 3.296875 \r\nQ 6 8.015625 6 15.921875 \r\nQ 6 25.140625 12.171875 29.828125 \r\nQ 18.359375 34.515625 30.609375 34.515625 \r\nL 43.21875 34.515625 \r\nL 43.21875 35.40625 \r\nQ 43.21875 41.609375 39.140625 45 \r\nQ 35.0625 48.390625 27.6875 48.390625 \r\nQ 23 48.390625 18.546875 47.265625 \r\nQ 14.109375 46.140625 10.015625 43.890625 \r\nL 10.015625 52.203125 \r\nQ 14.9375 54.109375 19.578125 55.046875 \r\nQ 24.21875 56 28.609375 56 \r\nQ 40.484375 56 46.34375 49.84375 \r\nQ 52.203125 43.703125 52.203125 31.203125 \r\nz\r\n\" id=\"DejaVuSans-97\"/>\r\n     <path d=\"M 10.59375 45.40625 \r\nL 73.1875 45.40625 \r\nL 73.1875 37.203125 \r\nL 10.59375 37.203125 \r\nz\r\nM 10.59375 25.484375 \r\nL 73.1875 25.484375 \r\nL 73.1875 17.1875 \r\nL 10.59375 17.1875 \r\nz\r\n\" id=\"DejaVuSans-61\"/>\r\n     <path d=\"M 31 75.875 \r\nQ 24.46875 64.65625 21.28125 53.65625 \r\nQ 18.109375 42.671875 18.109375 31.390625 \r\nQ 18.109375 20.125 21.3125 9.0625 \r\nQ 24.515625 -2 31 -13.1875 \r\nL 23.1875 -13.1875 \r\nQ 15.875 -1.703125 12.234375 9.375 \r\nQ 8.59375 20.453125 8.59375 31.390625 \r\nQ 8.59375 42.28125 12.203125 53.3125 \r\nQ 15.828125 64.359375 23.1875 75.875 \r\nz\r\n\" id=\"DejaVuSans-40\"/>\r\n     <path d=\"M 40.578125 39.3125 \r\nQ 47.65625 37.796875 51.625 33 \r\nQ 55.609375 28.21875 55.609375 21.1875 \r\nQ 55.609375 10.40625 48.1875 4.484375 \r\nQ 40.765625 -1.421875 27.09375 -1.421875 \r\nQ 22.515625 -1.421875 17.65625 -0.515625 \r\nQ 12.796875 0.390625 7.625 2.203125 \r\nL 7.625 11.71875 \r\nQ 11.71875 9.328125 16.59375 8.109375 \r\nQ 21.484375 6.890625 26.8125 6.890625 \r\nQ 36.078125 6.890625 40.9375 10.546875 \r\nQ 45.796875 14.203125 45.796875 21.1875 \r\nQ 45.796875 27.640625 41.28125 31.265625 \r\nQ 36.765625 34.90625 28.71875 34.90625 \r\nL 20.21875 34.90625 \r\nL 20.21875 43.015625 \r\nL 29.109375 43.015625 \r\nQ 36.375 43.015625 40.234375 45.921875 \r\nQ 44.09375 48.828125 44.09375 54.296875 \r\nQ 44.09375 59.90625 40.109375 62.90625 \r\nQ 36.140625 65.921875 28.71875 65.921875 \r\nQ 24.65625 65.921875 20.015625 65.03125 \r\nQ 15.375 64.15625 9.8125 62.3125 \r\nL 9.8125 71.09375 \r\nQ 15.4375 72.65625 20.34375 73.4375 \r\nQ 25.25 74.21875 29.59375 74.21875 \r\nQ 40.828125 74.21875 47.359375 69.109375 \r\nQ 53.90625 64.015625 53.90625 55.328125 \r\nQ 53.90625 49.265625 50.4375 45.09375 \r\nQ 46.96875 40.921875 40.578125 39.3125 \r\nz\r\n\" id=\"DejaVuSans-51\"/>\r\n     <path d=\"M 8.015625 75.875 \r\nL 15.828125 75.875 \r\nQ 23.140625 64.359375 26.78125 53.3125 \r\nQ 30.421875 42.28125 30.421875 31.390625 \r\nQ 30.421875 20.453125 26.78125 9.375 \r\nQ 23.140625 -1.703125 15.828125 -13.1875 \r\nL 8.015625 -13.1875 \r\nQ 14.5 -2 17.703125 9.0625 \r\nQ 20.90625 20.125 20.90625 31.390625 \r\nQ 20.90625 42.671875 17.703125 53.65625 \r\nQ 14.5 64.65625 8.015625 75.875 \r\nz\r\n\" id=\"DejaVuSans-41\"/>\r\n     <path d=\"M 54.890625 54.6875 \r\nL 35.109375 28.078125 \r\nL 55.90625 0 \r\nL 45.3125 0 \r\nL 29.390625 21.484375 \r\nL 13.484375 0 \r\nL 2.875 0 \r\nL 24.125 28.609375 \r\nL 4.6875 54.6875 \r\nL 15.28125 54.6875 \r\nL 29.78125 35.203125 \r\nL 44.28125 54.6875 \r\nz\r\n\" id=\"DejaVuSans-120\"/>\r\n     <path d=\"M 50.984375 -16.609375 \r\nL 50.984375 -23.578125 \r\nL -0.984375 -23.578125 \r\nL -0.984375 -16.609375 \r\nz\r\n\" id=\"DejaVuSans-95\"/>\r\n    </defs>\r\n    <g transform=\"translate(119.360312 16.318125)scale(0.12 -0.12)\">\r\n     <use xlink:href=\"#DejaVuSans-76\"/>\r\n     <use x=\"55.712891\" xlink:href=\"#DejaVuSans-68\"/>\r\n     <use x=\"132.699219\" xlink:href=\"#DejaVuSans-65\"/>\r\n     <use x=\"201.107422\" xlink:href=\"#DejaVuSans-32\"/>\r\n     <use x=\"232.894531\" xlink:href=\"#DejaVuSans-76\"/>\r\n     <use x=\"288.591797\" xlink:href=\"#DejaVuSans-111\"/>\r\n     <use x=\"349.773438\" xlink:href=\"#DejaVuSans-103\"/>\r\n     <use x=\"413.25\" xlink:href=\"#DejaVuSans-76\"/>\r\n     <use x=\"468.962891\" xlink:href=\"#DejaVuSans-105\"/>\r\n     <use x=\"496.746094\" xlink:href=\"#DejaVuSans-107\"/>\r\n     <use x=\"554.609375\" xlink:href=\"#DejaVuSans-101\"/>\r\n     <use x=\"616.132812\" xlink:href=\"#DejaVuSans-108\"/>\r\n     <use x=\"643.916016\" xlink:href=\"#DejaVuSans-121\"/>\r\n     <use x=\"703.095703\" xlink:href=\"#DejaVuSans-104\"/>\r\n     <use x=\"766.474609\" xlink:href=\"#DejaVuSans-111\"/>\r\n     <use x=\"827.65625\" xlink:href=\"#DejaVuSans-111\"/>\r\n     <use x=\"888.837891\" xlink:href=\"#DejaVuSans-100\"/>\r\n     <use x=\"952.314453\" xlink:href=\"#DejaVuSans-44\"/>\r\n     <use x=\"984.101562\" xlink:href=\"#DejaVuSans-32\"/>\r\n     <use x=\"1015.888672\" xlink:href=\"#DejaVuSans-110\"/>\r\n     <use x=\"1079.267578\" xlink:href=\"#DejaVuSans-103\"/>\r\n     <use x=\"1142.744141\" xlink:href=\"#DejaVuSans-114\"/>\r\n     <use x=\"1183.857422\" xlink:href=\"#DejaVuSans-97\"/>\r\n     <use x=\"1245.136719\" xlink:href=\"#DejaVuSans-109\"/>\r\n     <use x=\"1342.548828\" xlink:href=\"#DejaVuSans-61\"/>\r\n     <use x=\"1426.337891\" xlink:href=\"#DejaVuSans-40\"/>\r\n     <use x=\"1465.351562\" xlink:href=\"#DejaVuSans-49\"/>\r\n     <use x=\"1528.974609\" xlink:href=\"#DejaVuSans-44\"/>\r\n     <use x=\"1560.761719\" xlink:href=\"#DejaVuSans-51\"/>\r\n     <use x=\"1624.384766\" xlink:href=\"#DejaVuSans-41\"/>\r\n     <use x=\"1663.398438\" xlink:href=\"#DejaVuSans-44\"/>\r\n     <use x=\"1695.185547\" xlink:href=\"#DejaVuSans-32\"/>\r\n     <use x=\"1726.972656\" xlink:href=\"#DejaVuSans-109\"/>\r\n     <use x=\"1824.384766\" xlink:href=\"#DejaVuSans-97\"/>\r\n     <use x=\"1885.664062\" xlink:href=\"#DejaVuSans-120\"/>\r\n     <use x=\"1944.84375\" xlink:href=\"#DejaVuSans-95\"/>\r\n     <use x=\"1994.84375\" xlink:href=\"#DejaVuSans-102\"/>\r\n     <use x=\"2030.048828\" xlink:href=\"#DejaVuSans-101\"/>\r\n     <use x=\"2091.572266\" xlink:href=\"#DejaVuSans-97\"/>\r\n     <use x=\"2152.851562\" xlink:href=\"#DejaVuSans-116\"/>\r\n     <use x=\"2192.060547\" xlink:href=\"#DejaVuSans-117\"/>\r\n     <use x=\"2255.439453\" xlink:href=\"#DejaVuSans-114\"/>\r\n     <use x=\"2296.521484\" xlink:href=\"#DejaVuSans-101\"/>\r\n     <use x=\"2358.044922\" xlink:href=\"#DejaVuSans-115\"/>\r\n     <use x=\"2410.144531\" xlink:href=\"#DejaVuSans-61\"/>\r\n     <use x=\"2493.933594\" xlink:href=\"#DejaVuSans-49\"/>\r\n     <use x=\"2557.556641\" xlink:href=\"#DejaVuSans-48\"/>\r\n     <use x=\"2621.179688\" xlink:href=\"#DejaVuSans-48\"/>\r\n     <use x=\"2684.802734\" xlink:href=\"#DejaVuSans-48\"/>\r\n     <use x=\"2748.425781\" xlink:href=\"#DejaVuSans-48\"/>\r\n    </g>\r\n   </g>\r\n  </g>\r\n </g>\r\n <defs>\r\n  <clipPath id=\"pf9fe4271cc\">\r\n   <rect height=\"326.16\" width=\"446.4\" x=\"64.885938\" y=\"22.318125\"/>\r\n  </clipPath>\r\n </defs>\r\n</svg>\r\n",
      "image/png": "[encoded data removed]"
     },
     "metadata": {
      "needs_background": "light"
     }
    }
   ],
   "source": [
    "kIdx2 = np.argmax(logs)\n",
    "\n",
    "fig = plt.figure(figsize=(8, 6))\n",
    "plt.plot(ids, logs, 'g*-')\n",
    "plt.plot(ids[kIdx2], logs[kIdx2], marker='o', markersize=14, \n",
    "         markeredgewidth=2, markeredgecolor='r', markerfacecolor='None')\n",
    "plt.title('LDA LogLikelyhood, ngram=(1,3), max_features=10000')\n",
    "plt.xlabel('number of topics')\n",
    "plt.ylabel('LogLikelyhood')\n",
    "# fig.savefig('lda_LogLikelyhood_max_features=5000_stem_clean.png')"
   ]
  },
  {
   "cell_type": "code",
   "execution_count": null,
   "metadata": {},
   "outputs": [],
   "source": []
  },
  {
   "cell_type": "code",
   "execution_count": 38,
   "metadata": {},
   "outputs": [],
   "source": [
    "# print top words per topic\n",
    "def print_topics(model, vectorizer, n_top_words):\n",
    "    words = vectorizer.get_feature_names()\n",
    "    for topic_idx, topic in enumerate(model.components_):\n",
    "        print(\"\\nTopic #%d:\" % topic_idx)\n",
    "        print(\", \".join([words[i]\n",
    "                        for i in topic.argsort()[:-n_top_words - 1:-1]]))  "
   ]
  },
  {
   "cell_type": "code",
   "execution_count": 39,
   "metadata": {},
   "outputs": [
    {
     "output_type": "stream",
     "name": "stdout",
     "text": "Fitting LDA models with 99951 samples and 5000 TF features ...\niteration: 1 of max_iter: 10\niteration: 2 of max_iter: 10\niteration: 3 of max_iter: 10\niteration: 4 of max_iter: 10\niteration: 5 of max_iter: 10\niteration: 6 of max_iter: 10\niteration: 7 of max_iter: 10\niteration: 8 of max_iter: 10\niteration: 9 of max_iter: 10\niteration: 10 of max_iter: 10\nDone in 322.880s.\nLatentDirichletAllocation(batch_size=128, doc_topic_prior=None,\n                          evaluate_every=-1, learning_decay=0.7,\n                          learning_method='online', learning_offset=10.0,\n                          max_doc_update_iter=100, max_iter=10,\n                          mean_change_tol=0.001, n_components=5, n_jobs=-1,\n                          perp_tol=0.1, random_state=100, topic_word_prior=None,\n                          total_samples=1000000.0, verbose=1)\nLog Likelihood:  -9574744.288653513\nPerplexity:  1050.1210171235564\nTopics found via LDA Model:\n\nTopic #0:\nde, la, el, en, que, por, los, del, el coronavirus, se, un, con, para, de coronavirus, de la\n\nTopic #1:\nde, covid, coronavírus, 19, que, covid 19, corona, da, vírus, corona vírus, não, em, com, eu, para\n\nTopic #2:\ntrump, via, peopl, new, pandem, say, get, test, covid19, time, like, go, news, coronavirus pandem, china\n\nTopic #3:\nvirus, corona, corona virus, death, case, le, covid19, 000, covidー19, stay, coronavirus case, coronavirus death, via, vaccin, covid19 coronavirus\n\nTopic #4:\nsi, contra, no, crisi, te, contra el, bbc, contra el coronavirus, news, el, la crisi, por, bbc news, la, tiger\n"
    }
   ],
   "source": [
    "# Build LDA Model with optimal number of topics = 15\n",
    "# input = text_data.stem_clean\n",
    "# input shape = (180091, 5000)\n",
    "\n",
    "#tf for LDA model\n",
    "cv = CountVectorizer(max_df=0.75, ngram_range=(1,3), max_features=5000) #max_features=10000, \n",
    "word_count_vector = cv.fit_transform(df_tweet['text'])\n",
    "\n",
    "print(\"Fitting LDA models with %d samples and %d TF features ...\"\n",
    "      % (word_count_vector.shape[0], word_count_vector.shape[1]))\n",
    "t0 = time()\n",
    "\n",
    "lda_model = LDA(n_components=5,         # Number of topics\n",
    "              max_iter=10,                # Max learning iterations\n",
    "              learning_offset=10., \n",
    "              learning_method='online',   \n",
    "              random_state=100,          # Random state\n",
    "              batch_size=128,            # n docs in each learning iter\n",
    "              evaluate_every=-1,       # compute perplexity every n iters, default: Don't\n",
    "              n_jobs=-1,               # Use all available CPUs\n",
    "              verbose=1)\n",
    "    \n",
    "lda_output = lda_model.fit_transform(word_count_vector)\n",
    "print(\"Done in %0.3fs.\" % (time() - t0))\n",
    "\n",
    "print(lda_model)  # Model attributes\n",
    "\n",
    "# Log Likelyhood: Higher the better\n",
    "print(\"Log Likelihood: \", lda_model.score(word_count_vector))\n",
    "\n",
    "# Perplexity: Lower the better. Perplexity = exp(-1. * log-likelihood per word)\n",
    "print(\"Perplexity: \", lda_model.perplexity(word_count_vector))\n",
    "\n",
    "# Print the topics found by the LDA model\n",
    "print(\"Topics found via LDA Model:\")\n",
    "print_topics(model=lda_model, vectorizer=cv, n_top_words=15)"
   ]
  },
  {
   "cell_type": "code",
   "execution_count": 40,
   "metadata": {},
   "outputs": [
    {
     "output_type": "stream",
     "name": "stdout",
     "text": "Topics found via LDA Model:\n\nTopic #0:\nde, la, el, en, que, por, los, del, el coronavirus, se, un, con, para, de coronavirus, de la\n\nTopic #1:\nde, covid, coronavírus, 19, que, covid 19, corona, da, vírus, corona vírus, não, em, com, eu, para\n\nTopic #2:\ntrump, via, peopl, new, pandem, say, get, test, covid19, time, like, go, news, coronavirus pandem, china\n\nTopic #3:\nvirus, corona, corona virus, death, case, le, covid19, 000, covidー19, stay, coronavirus case, coronavirus death, via, vaccin, covid19 coronavirus\n\nTopic #4:\nsi, contra, no, crisi, te, contra el, bbc, contra el coronavirus, news, el, la crisi, por, bbc news, la, tiger\n"
    }
   ],
   "source": [
    "# Print the topics found by the LDA model\n",
    "print(\"Topics found via LDA Model:\")\n",
    "print_topics(model=lda_model, vectorizer=cv, n_top_words=15)"
   ]
  },
  {
   "cell_type": "code",
   "execution_count": 43,
   "metadata": {},
   "outputs": [
    {
     "output_type": "execute_result",
     "data": {
      "text/plain": "          Topic #0      Topic #1            Topic #2             Topic #3  \\\n0               de            de               trump                virus   \n1               la         covid                 via               corona   \n2               el   coronavírus               peopl         corona virus   \n3               en            19                 new                death   \n4              que           que              pandem                 case   \n5              por      covid 19                 say                   le   \n6              los        corona                 get              covid19   \n7              del            da                test                  000   \n8   el coronavirus         vírus             covid19             covidー19   \n9               se  corona vírus                time                 stay   \n10              un           não                like     coronavirus case   \n11             con            em                  go    coronavirus death   \n12            para           com                news                  via   \n13  de coronavirus            eu  coronavirus pandem               vaccin   \n14           de la          para               china  covid19 coronavirus   \n\n                 Topic #4  \n0                      si  \n1                  contra  \n2                      no  \n3                   crisi  \n4                      te  \n5               contra el  \n6                     bbc  \n7   contra el coronavirus  \n8                    news  \n9                      el  \n10               la crisi  \n11                    por  \n12               bbc news  \n13                     la  \n14                  tiger  ",
      "text/html": "<div>\n<style scoped>\n    .dataframe tbody tr th:only-of-type {\n        vertical-align: middle;\n    }\n\n    .dataframe tbody tr th {\n        vertical-align: top;\n    }\n\n    .dataframe thead th {\n        text-align: right;\n    }\n</style>\n<table border=\"1\" class=\"dataframe\">\n  <thead>\n    <tr style=\"text-align: right;\">\n      <th></th>\n      <th>Topic #0</th>\n      <th>Topic #1</th>\n      <th>Topic #2</th>\n      <th>Topic #3</th>\n      <th>Topic #4</th>\n    </tr>\n  </thead>\n  <tbody>\n    <tr>\n      <th>0</th>\n      <td>de</td>\n      <td>de</td>\n      <td>trump</td>\n      <td>virus</td>\n      <td>si</td>\n    </tr>\n    <tr>\n      <th>1</th>\n      <td>la</td>\n      <td>covid</td>\n      <td>via</td>\n      <td>corona</td>\n      <td>contra</td>\n    </tr>\n    <tr>\n      <th>2</th>\n      <td>el</td>\n      <td>coronavírus</td>\n      <td>peopl</td>\n      <td>corona virus</td>\n      <td>no</td>\n    </tr>\n    <tr>\n      <th>3</th>\n      <td>en</td>\n      <td>19</td>\n      <td>new</td>\n      <td>death</td>\n      <td>crisi</td>\n    </tr>\n    <tr>\n      <th>4</th>\n      <td>que</td>\n      <td>que</td>\n      <td>pandem</td>\n      <td>case</td>\n      <td>te</td>\n    </tr>\n    <tr>\n      <th>5</th>\n      <td>por</td>\n      <td>covid 19</td>\n      <td>say</td>\n      <td>le</td>\n      <td>contra el</td>\n    </tr>\n    <tr>\n      <th>6</th>\n      <td>los</td>\n      <td>corona</td>\n      <td>get</td>\n      <td>covid19</td>\n      <td>bbc</td>\n    </tr>\n    <tr>\n      <th>7</th>\n      <td>del</td>\n      <td>da</td>\n      <td>test</td>\n      <td>000</td>\n      <td>contra el coronavirus</td>\n    </tr>\n    <tr>\n      <th>8</th>\n      <td>el coronavirus</td>\n      <td>vírus</td>\n      <td>covid19</td>\n      <td>covidー19</td>\n      <td>news</td>\n    </tr>\n    <tr>\n      <th>9</th>\n      <td>se</td>\n      <td>corona vírus</td>\n      <td>time</td>\n      <td>stay</td>\n      <td>el</td>\n    </tr>\n    <tr>\n      <th>10</th>\n      <td>un</td>\n      <td>não</td>\n      <td>like</td>\n      <td>coronavirus case</td>\n      <td>la crisi</td>\n    </tr>\n    <tr>\n      <th>11</th>\n      <td>con</td>\n      <td>em</td>\n      <td>go</td>\n      <td>coronavirus death</td>\n      <td>por</td>\n    </tr>\n    <tr>\n      <th>12</th>\n      <td>para</td>\n      <td>com</td>\n      <td>news</td>\n      <td>via</td>\n      <td>bbc news</td>\n    </tr>\n    <tr>\n      <th>13</th>\n      <td>de coronavirus</td>\n      <td>eu</td>\n      <td>coronavirus pandem</td>\n      <td>vaccin</td>\n      <td>la</td>\n    </tr>\n    <tr>\n      <th>14</th>\n      <td>de la</td>\n      <td>para</td>\n      <td>china</td>\n      <td>covid19 coronavirus</td>\n      <td>tiger</td>\n    </tr>\n  </tbody>\n</table>\n</div>"
     },
     "metadata": {},
     "execution_count": 43
    }
   ],
   "source": [
    "def get_lda_topics(model, vectorizer, num_topics, n_top_words):\n",
    "    \n",
    "    #the word ids obtained need to be reverse-mapped to the words so we can print the topic names.\n",
    "    feat_names = vectorizer.get_feature_names()\n",
    "    \n",
    "    word_dict = {}\n",
    "    for i in range(num_topics):\n",
    "        \n",
    "        #for each topic, obtain the largest values, and add the words they map to into the dictionary.\n",
    "        words_ids = model.components_[i].argsort()[:-n_top_words - 1:-1]\n",
    "        words = [feat_names[key] for key in words_ids]\n",
    "        word_dict['Topic #' + '{:d}'.format(i)] = words\n",
    "    \n",
    "    return pd.DataFrame(word_dict)\n",
    "\n",
    "get_lda_topics(model=lda_model, vectorizer=cv, num_topics=5, n_top_words=15)"
   ]
  }
 ],
 "metadata": {
  "language_info": {
   "name": "python",
   "codemirror_mode": {
    "name": "ipython",
    "version": 3
   },
   "version": "3.7.6-final"
  },
  "orig_nbformat": 2,
  "file_extension": ".py",
  "mimetype": "text/x-python",
  "name": "python",
  "npconvert_exporter": "python",
  "pygments_lexer": "ipython3",
  "version": 3,
  "kernelspec": {
   "name": "python37664bit6b906a4bd8b54ff9aa4be55d04b7ee73",
   "display_name": "Python 3.7.6 64-bit"
  }
 },
 "nbformat": 4,
 "nbformat_minor": 2
}